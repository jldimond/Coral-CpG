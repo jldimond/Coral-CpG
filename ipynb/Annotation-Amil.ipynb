{
 "metadata": {
  "name": "",
  "signature": "sha256:7bc247120123945db856c2aa426b8772911d9269215721de8e6dcc92553159c7"
 },
 "nbformat": 3,
 "nbformat_minor": 0,
 "worksheets": [
  {
   "cells": [
    {
     "cell_type": "code",
     "collapsed": false,
     "input": [
      "Instructions: Place "
     ],
     "language": "python",
     "metadata": {},
     "outputs": []
    },
    {
     "cell_type": "code",
     "collapsed": false,
     "input": [
      "#species prefix\n",
      "sp=\"Amil\"\n",
      "fnm=\"Amil_Moya.fasta\""
     ],
     "language": "python",
     "metadata": {},
     "outputs": [],
     "prompt_number": 38
    },
    {
     "cell_type": "code",
     "collapsed": false,
     "input": [
      "#cd /Users/sr320/git-repos/paper-Coral-CpG-ratio/ipynb"
     ],
     "language": "python",
     "metadata": {},
     "outputs": [
      {
       "output_type": "stream",
       "stream": "stdout",
       "text": [
        "/Users/sr320/git-repos/paper-Coral-CpG-ratio/ipynb\n"
       ]
      }
     ],
     "prompt_number": 24
    },
    {
     "cell_type": "code",
     "collapsed": false,
     "input": [
      "#creates subdirectory in analyses\n",
      "!mkdir ../analyses/{sp}\n"
     ],
     "language": "python",
     "metadata": {},
     "outputs": [],
     "prompt_number": 2
    },
    {
     "cell_type": "code",
     "collapsed": false,
     "input": [
      "#copies fast file from data directory to analyses directory\n",
      "!cp ../data/{sp}/{fnm} ../analyses/{sp}/"
     ],
     "language": "python",
     "metadata": {},
     "outputs": [],
     "prompt_number": 3
    },
    {
     "cell_type": "code",
     "collapsed": false,
     "input": [
      "#duplicates fasta to rename generically \n",
      "!cp ../analyses/{sp}/{fnm} ../analyses/{sp}/query.fasta "
     ],
     "language": "python",
     "metadata": {},
     "outputs": [],
     "prompt_number": 4
    },
    {
     "cell_type": "code",
     "collapsed": false,
     "input": [
      "cd ../analyses/{sp}"
     ],
     "language": "python",
     "metadata": {},
     "outputs": [
      {
       "output_type": "stream",
       "stream": "stdout",
       "text": [
        "/Users/sr320/git-repos/paper-Coral-CpG/analyses/Amil\n"
       ]
      }
     ],
     "prompt_number": 5
    },
    {
     "cell_type": "code",
     "collapsed": false,
     "input": [
      "!../scripts/fasta-splitter.pl \\\n",
      "--n-parts 10 \\\n",
      "query.fasta "
     ],
     "language": "python",
     "metadata": {},
     "outputs": [
      {
       "output_type": "stream",
       "stream": "stdout",
       "text": [
        "query.fasta"
       ]
      },
      {
       "output_type": "stream",
       "stream": "stdout",
       "text": [
        ": 52963 sequences, 71250280 bp => dividing into 10 parts ."
       ]
      },
      {
       "output_type": "stream",
       "stream": "stdout",
       "text": [
        "."
       ]
      },
      {
       "output_type": "stream",
       "stream": "stdout",
       "text": [
        "."
       ]
      },
      {
       "output_type": "stream",
       "stream": "stdout",
       "text": [
        "."
       ]
      },
      {
       "output_type": "stream",
       "stream": "stdout",
       "text": [
        "."
       ]
      },
      {
       "output_type": "stream",
       "stream": "stdout",
       "text": [
        "."
       ]
      },
      {
       "output_type": "stream",
       "stream": "stdout",
       "text": [
        "."
       ]
      },
      {
       "output_type": "stream",
       "stream": "stdout",
       "text": [
        "."
       ]
      },
      {
       "output_type": "stream",
       "stream": "stdout",
       "text": [
        "."
       ]
      },
      {
       "output_type": "stream",
       "stream": "stdout",
       "text": [
        "."
       ]
      },
      {
       "output_type": "stream",
       "stream": "stdout",
       "text": [
        " OK\r\n",
        "All done, 2 seconds elapsed\r\n"
       ]
      }
     ],
     "prompt_number": 7
    },
    {
     "cell_type": "code",
     "collapsed": false,
     "input": [
      "%%bash\n",
      "for f in query.part*\n",
      "do\n",
      "blastx \\\n",
      "-query $f \\\n",
      "-db /Users/sr320/data-genomic/blast/db/uniprot_sprot_r2015_01 \\\n",
      "-evalue 1e-5 \\\n",
      "-max_target_seqs 1 \\\n",
      "-max_hsps 1 \\\n",
      "-outfmt 6 \\\n",
      "-num_threads 8 \\\n",
      "-out blastout_\"$f\"_sprot \\\n",
      "2> stderr-blastout_\"$f\"\n",
      "done"
     ],
     "language": "python",
     "metadata": {},
     "outputs": [],
     "prompt_number": 8
    },
    {
     "cell_type": "code",
     "collapsed": false,
     "input": [
      "!cat blastout* > blastx_sprot.tab\n"
     ],
     "language": "python",
     "metadata": {},
     "outputs": [],
     "prompt_number": 10
    },
    {
     "cell_type": "code",
     "collapsed": false,
     "input": [
      "!head blastx_sprot.tab"
     ],
     "language": "python",
     "metadata": {},
     "outputs": [
      {
       "output_type": "stream",
       "stream": "stdout",
       "text": [
        "gi|379072747|gb|JR970416.1|\tsp|Q7ZWG6|PCFT_DANRE\t32.69\t416\t264\t8\t297\t1532\t43\t446\t4e-61\t  220\r\n",
        "gi|379072753|gb|JR970422.1|\tsp|O17185|SUP9_CAEEL\t35.41\t209\t106\t4\t3\t617\t25\t208\t8e-28\t  112\r\n",
        "gi|379072756|gb|JR970425.1|\tsp|Q6DIF4|WDR1_XENTR\t52.39\t607\t281\t7\t2609\t804\t1\t604\t0.0\t  644\r\n",
        "gi|379072758|gb|JR970427.1|\tsp|A6H584|CO6A5_MOUSE\t24.88\t406\t279\t12\t106\t1302\t639\t1025\t6e-26\t  117\r\n",
        "gi|379072759|gb|JR970428.1|\tsp|Q17R07|ARFG3_BOVIN\t43.16\t95\t49\t2\t2396\t2124\t422\t515\t4e-07\t57.4\r\n",
        "gi|379072761|gb|JR970430.1|\tsp|Q7ZYA5|PRKAA_XENLA\t27.82\t284\t149\t8\t2334\t1486\t76\t304\t2e-14\t79.0\r\n",
        "gi|379072762|gb|JR970431.1|\tsp|Q68ED3|PAPD5_MOUSE\t55.14\t350\t143\t5\t313\t1359\t116\t452\t2e-122\t  390\r\n",
        "gi|379072763|gb|JR970432.1|\tsp|O60678|ANM3_HUMAN\t49.48\t485\t223\t3\t79\t1506\t48\t519\t9e-151\t  460\r\n",
        "gi|379072764|gb|JR970433.1|\tsp|Q8CI04|COG3_MOUSE\t48.46\t227\t113\t2\t865\t191\t583\t807\t1e-57\t  203\r\n",
        "gi|379072772|gb|JR970441.1|\tsp|P15848|ARSB_HUMAN\t37.79\t217\t92\t6\t2\t547\t324\t532\t1e-31\t  124\r\n"
       ]
      }
     ],
     "prompt_number": 11
    },
    {
     "cell_type": "code",
     "collapsed": false,
     "input": [
      "%%bash \n",
      "sed 's/sp|//' blastx_sprot.tab | sed 's/|/$/5' | tr '$' \"\\t\" > blastx_sprot.sql\n",
      "head blastx_sprot.sql"
     ],
     "language": "python",
     "metadata": {},
     "outputs": [
      {
       "output_type": "stream",
       "stream": "stdout",
       "text": [
        "gi|379072747|gb|JR970416.1|\tQ7ZWG6\tPCFT_DANRE\t32.69\t416\t264\t8\t297\t1532\t43\t446\t4e-61\t  220\n",
        "gi|379072753|gb|JR970422.1|\tO17185\tSUP9_CAEEL\t35.41\t209\t106\t4\t3\t617\t25\t208\t8e-28\t  112\n",
        "gi|379072756|gb|JR970425.1|\tQ6DIF4\tWDR1_XENTR\t52.39\t607\t281\t7\t2609\t804\t1\t604\t0.0\t  644\n",
        "gi|379072758|gb|JR970427.1|\tA6H584\tCO6A5_MOUSE\t24.88\t406\t279\t12\t106\t1302\t639\t1025\t6e-26\t  117\n",
        "gi|379072759|gb|JR970428.1|\tQ17R07\tARFG3_BOVIN\t43.16\t95\t49\t2\t2396\t2124\t422\t515\t4e-07\t57.4\n",
        "gi|379072761|gb|JR970430.1|\tQ7ZYA5\tPRKAA_XENLA\t27.82\t284\t149\t8\t2334\t1486\t76\t304\t2e-14\t79.0\n",
        "gi|379072762|gb|JR970431.1|\tQ68ED3\tPAPD5_MOUSE\t55.14\t350\t143\t5\t313\t1359\t116\t452\t2e-122\t  390\n",
        "gi|379072763|gb|JR970432.1|\tO60678\tANM3_HUMAN\t49.48\t485\t223\t3\t79\t1506\t48\t519\t9e-151\t  460\n",
        "gi|379072764|gb|JR970433.1|\tQ8CI04\tCOG3_MOUSE\t48.46\t227\t113\t2\t865\t191\t583\t807\t1e-57\t  203\n",
        "gi|379072772|gb|JR970441.1|\tP15848\tARSB_HUMAN\t37.79\t217\t92\t6\t2\t547\t324\t532\t1e-31\t  124\n"
       ]
      }
     ],
     "prompt_number": 36
    },
    {
     "cell_type": "code",
     "collapsed": false,
     "input": [
      "!python /Applications/bioinfo/sqlshare-pythonclient/tools/singleupload.py \\\n",
      "-d _blast_sprot \\\n",
      "blastx_sprot.sql"
     ],
     "language": "python",
     "metadata": {},
     "outputs": [
      {
       "output_type": "stream",
       "stream": "stdout",
       "text": [
        "processing chunk line 0 to 21024 (0.00367093086243 s elapsed)\r\n",
        "pushing blastx_sprot.sql...\r\n"
       ]
      },
      {
       "output_type": "stream",
       "stream": "stdout",
       "text": [
        "parsing A3FCD8F7...\r\n"
       ]
      },
      {
       "output_type": "stream",
       "stream": "stdout",
       "text": [
        "finished _blast_sprot\r\n"
       ]
      }
     ],
     "prompt_number": 37
    },
    {
     "cell_type": "code",
     "collapsed": false,
     "input": [
      "!python /Applications/bioinfo/sqlshare-pythonclient/tools/fetchdata.py \\\n",
      "-s \"SELECT Distinct \\\n",
      "Column1 as ContigID, GOSlim_bin \\\n",
      "FROM [sr320@washington.edu].[_blast_sprot]md \\\n",
      "left join \\\n",
      "[sr320@washington.edu].[SPID and GO Numbers]go \\\n",
      "on md.Column2=go.SPID \\\n",
      "left join \\\n",
      "[sr320@washington.edu].[GO_to_GOslim]slim on go.GOID=slim.GO_id \\\n",
      "where aspect like 'P'\" \\\n",
      "-f tsv \\\n",
      "-o {sp}_GOslim.tab"
     ],
     "language": "python",
     "metadata": {},
     "outputs": [],
     "prompt_number": 43
    },
    {
     "cell_type": "code",
     "collapsed": false,
     "input": [
      "!head {sp}_GOslim.tab"
     ],
     "language": "python",
     "metadata": {},
     "outputs": [
      {
       "output_type": "stream",
       "stream": "stdout",
       "text": [
        "ContigID\tGOSlim_bin\r",
        "\r\n",
        "gi|379077778|gb|JR975447.1|\tother metabolic processes\r",
        "\r\n",
        "gi|379112754|gb|JT010424.1|\tRNA metabolism\r",
        "\r\n",
        "gi|379113068|gb|JT010738.1|\tsignal transduction\r",
        "\r\n",
        "gi|379115473|gb|JT013143.1|\tcell organization and biogenesis\r",
        "\r\n",
        "gi|379080703|gb|JR978372.1|\tcell cycle and proliferation\r",
        "\r\n",
        "gi|379114946|gb|JT012616.1|\tstress response\r",
        "\r\n",
        "gi|379095104|gb|JR992773.1|\tdevelopmental processes\r",
        "\r\n",
        "gi|379117258|gb|JT014928.1|\tdevelopmental processes\r",
        "\r\n",
        "gi|379110167|gb|JT007837.1|\tRNA metabolism\r",
        "\r\n"
       ]
      }
     ],
     "prompt_number": 44
    },
    {
     "cell_type": "code",
     "collapsed": false,
     "input": [
      "pylab inline\n"
     ],
     "language": "python",
     "metadata": {},
     "outputs": [
      {
       "output_type": "stream",
       "stream": "stdout",
       "text": [
        "Populating the interactive namespace from numpy and matplotlib\n"
       ]
      }
     ],
     "prompt_number": 45
    },
    {
     "cell_type": "code",
     "collapsed": false,
     "input": [
      "from pandas import *\n",
      "\n",
      "slim = read_table('Amil_GOslim.tab')"
     ],
     "language": "python",
     "metadata": {},
     "outputs": [],
     "prompt_number": 47
    },
    {
     "cell_type": "code",
     "collapsed": false,
     "input": [
      "slim.groupby('GOSlim_bin').ContigID.count().plot(kind='barh', color=list('y'))\n",
      "savefig('Alim_GOSlim-distinct.png', bbox_inches='tight')"
     ],
     "language": "python",
     "metadata": {},
     "outputs": [
      {
       "metadata": {},
       "output_type": "display_data",
       "png": "[encoded data removed]",
       "text": [
        "<matplotlib.figure.Figure at 0x10aba4310>"
       ]
      }
     ],
     "prompt_number": 48
    },
    {
     "cell_type": "code",
     "collapsed": false,
     "input": [],
     "language": "python",
     "metadata": {},
     "outputs": []
    }
   ],
   "metadata": {}
  }
 ]
}