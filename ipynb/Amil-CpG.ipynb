{
 "metadata": {
  "name": "",
  "signature": "sha256:9290e93ca5b26dcc22a5a107503de3f1b7e8b27fa4b033c8afa127c87242b156"
 },
 "nbformat": 3,
 "nbformat_minor": 0,
 "worksheets": [
  {
   "cells": [
    {
     "cell_type": "code",
     "collapsed": false,
     "input": [
      "cd ../analyses/Amil"
     ],
     "language": "python",
     "metadata": {},
     "outputs": [
      {
       "output_type": "stream",
       "stream": "stdout",
       "text": [
        "/Users/sr320/git-repos/paper-Coral-CpG/analyses/Amil\n"
       ]
      }
     ],
     "prompt_number": 5
    },
    {
     "cell_type": "code",
     "collapsed": false,
     "input": [
      "!perl -e '$count=0; $len=0; while(<>) {s/\\r?\\n//; s/\\t/ /g; if (s/^>//) { if ($. != 1) {print \"\\n\"} s/ |$/\\t/; $count++; $_ .= \"\\t\";} else {s/ //g; $len += length($_)} print $_;} print \"\\n\"; warn \"\\nConverted $count FASTA records in $. lines to tabular format\\nTotal sequence length: $len\\n\\n\";' \\\n",
      "query.fasta > query.tab"
     ],
     "language": "python",
     "metadata": {},
     "outputs": [
      {
       "output_type": "stream",
       "stream": "stdout",
       "text": [
        "\r\n",
        "Converted 52963 FASTA records in 1149658 lines to tabular format\r\n",
        "Total sequence length: 71250280\r\n",
        "\r\n"
       ]
      }
     ],
     "prompt_number": 6
    },
    {
     "cell_type": "code",
     "collapsed": false,
     "input": [
      "!head -1 query.tab"
     ],
     "language": "python",
     "metadata": {},
     "outputs": [
      {
       "output_type": "stream",
       "stream": "stdout",
       "text": [
        "gi|379072745|gb|JR970414.1|\tTSA: Acropora millepora Cluster034439.Acmimixed mRNA sequence\tTCATCATTATTTCTTTTTGTTTTTCTGTGATCTTCGGTCAATGCGATAGATCCTCGAGTTATCGTGACTGCGCTCCAGACCAAGTCTGTTGTAGGAGGCAGTGTTTTTACAGCTCGAACTGTTTATATCTGTCTTGCTCCATGGACTCCGATTGTTCAGTGAATGAAGTCTGTTGTAGCAGCAAGTGTCGTTCTGGTNNNNNNNNNNCTGACTGCAGTGGGGATTTTTGTCGCTCGAACAATGATTGCAGCGTTGGGCAAAAGTGTTGTGTGAATACCTGCACCAACTATGATTGTGAGGACCCTACCGTCGCCATTCTTATCGCGGTAGTGGGTTCGCTCGTGGGCTTATTTGTTGTTTTCATTTCAATTTACTACTGCCACAGAAGAGCTCGTTTGGGTCGTTCCGGTACAGCAGAGGTGGGAAGACAAGTTGCCCCAACCGATGCTATCACAACCCAATCAGCAAACCAACAAGGCTACGCATATCAGCAACTCCCTTAAATATCATCAGTATCAGACACCCATTTACAATCCGGAGACACAGAGACAACCAGGAGGAATACTTACTTCACATCGTGCATATGGTGAACTTCAAACCACTTGATCCCCATGTCCAGCGGAAGACT\r\n"
       ]
      }
     ],
     "prompt_number": 7
    },
    {
     "cell_type": "code",
     "collapsed": false,
     "input": [
      "\n",
      "#add column with length of sequence\n",
      "!perl -e '$col = 2;' -e 'while (<>) { s/\\r?\\n//; @F = split /\\t/, $_; $len = length($F[$col]); print \"$_\\t$len\\n\" } warn \"\\nAdded column with length of column $col for $. lines.\\n\\n\";' \\\n",
      "query.tab > query.length.tab"
     ],
     "language": "python",
     "metadata": {},
     "outputs": [
      {
       "output_type": "stream",
       "stream": "stdout",
       "text": [
        "\r\n",
        "Added column with length of column 2 for 52963 lines.\r\n",
        "\r\n"
       ]
      }
     ],
     "prompt_number": 8
    },
    {
     "cell_type": "code",
     "collapsed": false,
     "input": [
      "!head -1 query.length.tab"
     ],
     "language": "python",
     "metadata": {},
     "outputs": [
      {
       "output_type": "stream",
       "stream": "stdout",
       "text": [
        "gi|379072745|gb|JR970414.1|\tTSA: Acropora millepora Cluster034439.Acmimixed mRNA sequence\tTCATCATTATTTCTTTTTGTTTTTCTGTGATCTTCGGTCAATGCGATAGATCCTCGAGTTATCGTGACTGCGCTCCAGACCAAGTCTGTTGTAGGAGGCAGTGTTTTTACAGCTCGAACTGTTTATATCTGTCTTGCTCCATGGACTCCGATTGTTCAGTGAATGAAGTCTGTTGTAGCAGCAAGTGTCGTTCTGGTNNNNNNNNNNCTGACTGCAGTGGGGATTTTTGTCGCTCGAACAATGATTGCAGCGTTGGGCAAAAGTGTTGTGTGAATACCTGCACCAACTATGATTGTGAGGACCCTACCGTCGCCATTCTTATCGCGGTAGTGGGTTCGCTCGTGGGCTTATTTGTTGTTTTCATTTCAATTTACTACTGCCACAGAAGAGCTCGTTTGGGTCGTTCCGGTACAGCAGAGGTGGGAAGACAAGTTGCCCCAACCGATGCTATCACAACCCAATCAGCAAACCAACAAGGCTACGCATATCAGCAACTCCCTTAAATATCATCAGTATCAGACACCCATTTACAATCCGGAGACACAGAGACAACCAGGAGGAATACTTACTTCACATCGTGCATATGGTGAACTTCAAACCACTTGATCCCCATGTCCAGCGGAAGACT\t628\r\n"
       ]
      }
     ],
     "prompt_number": 10
    },
    {
     "cell_type": "code",
     "collapsed": false,
     "input": [
      "!awk -F\\CG '$2 {print NF-1}' query.length.tab > query.length.tab.CG\n",
      "!awk -F\\C '$2 {print NF-1}' query.length.tab > query.length.tab.C\n",
      "!awk -F\\G '$2 {print NF-1}' query.length.tab > query.length.tab.G\n",
      "!paste query.length.tab \\\n",
      "query.length.tab.CG \\\n",
      "query.length.tab.C \\\n",
      "query.length.tab.G \\\n",
      "> query.C-G.tab\n",
      "!head -1 query.C-G.tab"
     ],
     "language": "python",
     "metadata": {},
     "outputs": [
      {
       "output_type": "stream",
       "stream": "stdout",
       "text": [
        "gi|379072745|gb|JR970414.1|\tTSA: Acropora millepora Cluster034439.Acmimixed mRNA sequence\tTCATCATTATTTCTTTTTGTTTTTCTGTGATCTTCGGTCAATGCGATAGATCCTCGAGTTATCGTGACTGCGCTCCAGACCAAGTCTGTTGTAGGAGGCAGTGTTTTTACAGCTCGAACTGTTTATATCTGTCTTGCTCCATGGACTCCGATTGTTCAGTGAATGAAGTCTGTTGTAGCAGCAAGTGTCGTTCTGGTNNNNNNNNNNCTGACTGCAGTGGGGATTTTTGTCGCTCGAACAATGATTGCAGCGTTGGGCAAAAGTGTTGTGTGAATACCTGCACCAACTATGATTGTGAGGACCCTACCGTCGCCATTCTTATCGCGGTAGTGGGTTCGCTCGTGGGCTTATTTGTTGTTTTCATTTCAATTTACTACTGCCACAGAAGAGCTCGTTTGGGTCGTTCCGGTACAGCAGAGGTGGGAAGACAAGTTGCCCCAACCGATGCTATCACAACCCAATCAGCAAACCAACAAGGCTACGCATATCAGCAACTCCCTTAAATATCATCAGTATCAGACACCCATTTACAATCCGGAGACACAGAGACAACCAGGAGGAATACTTACTTCACATCGTGCATATGGTGAACTTCAAACCACTTGATCCCCATGTCCAGCGGAAGACT\t628\t25\t146\t140\r\n"
       ]
      }
     ],
     "prompt_number": 13
    },
    {
     "cell_type": "markdown",
     "metadata": {},
     "source": [
      "<img src=\"http://eagle.fish.washington.edu/cnidarian/skitch/Jay-CpG_1A9FE9EF.png\" alt=\"Jay-CpG_1A9FE9EF.png\"/>"
     ]
    },
    {
     "cell_type": "code",
     "collapsed": false,
     "input": [
      "!awk -F\"\\t\" '{print $1, \"\\t\", (($5)/($6*$7))*(($4**2)/($4-1))}' \\\n",
      "query.C-G.tab > query-CpG.tab\n",
      "!head query-CpG.tab"
     ],
     "language": "python",
     "metadata": {},
     "outputs": [
      {
       "output_type": "stream",
       "stream": "stdout",
       "text": [
        "awk: division by zero\r\n",
        " input record number 41342, file query.C-G.tab\r\n",
        " source line number 1\r\n"
       ]
      },
      {
       "output_type": "stream",
       "stream": "stdout",
       "text": [
        "gi|379072745|gb|JR970414.1| \t 0.769327\r\n",
        "gi|379072746|gb|JR970415.1| \t 0.281847\r\n",
        "gi|379072747|gb|JR970416.1| \t 0.557002\r\n",
        "gi|379072748|gb|JR970417.1| \t 0.656684\r\n",
        "gi|379072749|gb|JR970418.1| \t 0.732022\r\n",
        "gi|379072750|gb|JR970419.1| \t 0.315608\r\n",
        "gi|379072751|gb|JR970420.1| \t 1.24577\r\n",
        "gi|379072752|gb|JR970421.1| \t 0.325823\r\n",
        "gi|379072753|gb|JR970422.1| \t 0.995875\r\n",
        "gi|379072754|gb|JR970423.1| \t 0.767179\r\n"
       ]
      }
     ],
     "prompt_number": 20
    },
    {
     "cell_type": "code",
     "collapsed": false,
     "input": [
      "!head Amil_GOslim.tab"
     ],
     "language": "python",
     "metadata": {},
     "outputs": [
      {
       "output_type": "stream",
       "stream": "stdout",
       "text": [
        "ContigID\tGOSlim_bin\r",
        "\r\n",
        "gi|379077778|gb|JR975447.1|\tother metabolic processes\r",
        "\r\n",
        "gi|379112754|gb|JT010424.1|\tRNA metabolism\r",
        "\r\n",
        "gi|379113068|gb|JT010738.1|\tsignal transduction\r",
        "\r\n",
        "gi|379115473|gb|JT013143.1|\tcell organization and biogenesis\r",
        "\r\n",
        "gi|379080703|gb|JR978372.1|\tcell cycle and proliferation\r",
        "\r\n",
        "gi|379114946|gb|JT012616.1|\tstress response\r",
        "\r\n",
        "gi|379095104|gb|JR992773.1|\tdevelopmental processes\r",
        "\r\n",
        "gi|379117258|gb|JT014928.1|\tdevelopmental processes\r",
        "\r\n",
        "gi|379110167|gb|JT007837.1|\tRNA metabolism\r",
        "\r\n"
       ]
      }
     ],
     "prompt_number": 21
    },
    {
     "cell_type": "code",
     "collapsed": false,
     "input": [
      "!sort Amil_GOslim.tab | tail -n +2 > Amil_GOslim.tab.sorted\n",
      "!awk -F $'\\t' '{print $1, \"\\t\", $2}' Amil_GOslim.tab.sorted > Amil_GOslim.tab.sortedtab\n",
      "!head Amil_GOslim.tab.sortedtab"
     ],
     "language": "python",
     "metadata": {},
     "outputs": [
      {
       "output_type": "stream",
       "stream": "stdout",
       "text": [
        "gi|379072747|gb|JR970416.1| \t transport\r",
        "\r\n",
        "gi|379072753|gb|JR970422.1| \t other biological processes\r",
        "\r\n",
        "gi|379072753|gb|JR970422.1| \t transport\r",
        "\r\n",
        "gi|379072756|gb|JR970425.1| \t cell organization and biogenesis\r",
        "\r\n",
        "gi|379072758|gb|JR970427.1| \t cell adhesion\r",
        "\r\n",
        "gi|379072759|gb|JR970428.1| \t other biological processes\r",
        "\r\n",
        "gi|379072759|gb|JR970428.1| \t signal transduction\r",
        "\r\n",
        "gi|379072759|gb|JR970428.1| \t transport\r",
        "\r\n",
        "gi|379072761|gb|JR970430.1| \t RNA metabolism\r",
        "\r\n",
        "gi|379072761|gb|JR970430.1| \t other metabolic processes\r",
        "\r\n"
       ]
      }
     ],
     "prompt_number": 23
    },
    {
     "cell_type": "code",
     "collapsed": false,
     "input": [
      "!sort query-CpG.tab > query-CpG.tab.sorted\n",
      "!head query-CpG.tab.sorted\n",
      "#!awk -F $'\\t' '{print $1, \"\\t\", $2}' ../data/Piura_v1_CpG.sorted > ../data/Piura_v1_CpG.sortedtab\n",
      "#!head ../data/Piura_v1_CpG.sortedtab"
     ],
     "language": "python",
     "metadata": {},
     "outputs": [
      {
       "output_type": "stream",
       "stream": "stdout",
       "text": [
        "gi|379072745|gb|JR970414.1| \t 0.769327\r\n",
        "gi|379072746|gb|JR970415.1| \t 0.281847\r\n",
        "gi|379072747|gb|JR970416.1| \t 0.557002\r\n",
        "gi|379072748|gb|JR970417.1| \t 0.656684\r\n",
        "gi|379072749|gb|JR970418.1| \t 0.732022\r\n",
        "gi|379072750|gb|JR970419.1| \t 0.315608\r\n",
        "gi|379072751|gb|JR970420.1| \t 1.24577\r\n",
        "gi|379072752|gb|JR970421.1| \t 0.325823\r\n",
        "gi|379072753|gb|JR970422.1| \t 0.995875\r\n",
        "gi|379072754|gb|JR970423.1| \t 0.767179\r\n"
       ]
      }
     ],
     "prompt_number": 24
    },
    {
     "cell_type": "code",
     "collapsed": false,
     "input": [
      "!join -t $'\\t' query-CpG.tab.sorted Amil_GOslim.tab.sortedtab \\\n",
      "> Amil_CpG-GOslim.tab"
     ],
     "language": "python",
     "metadata": {},
     "outputs": [],
     "prompt_number": 25
    },
    {
     "cell_type": "code",
     "collapsed": false,
     "input": [
      "!head Amil_CpG-GOslim.tab"
     ],
     "language": "python",
     "metadata": {},
     "outputs": [
      {
       "output_type": "stream",
       "stream": "stdout",
       "text": [
        "gi|379072747|gb|JR970416.1| \t 0.557002\t transport\r",
        "\r\n",
        "gi|379072753|gb|JR970422.1| \t 0.995875\t other biological processes\r",
        "\r\n",
        "gi|379072753|gb|JR970422.1| \t 0.995875\t transport\r",
        "\r\n",
        "gi|379072756|gb|JR970425.1| \t 0.975518\t cell organization and biogenesis\r",
        "\r\n",
        "gi|379072758|gb|JR970427.1| \t 0.401841\t cell adhesion\r",
        "\r\n",
        "gi|379072759|gb|JR970428.1| \t 2.02664\t other biological processes\r",
        "\r\n",
        "gi|379072759|gb|JR970428.1| \t 2.02664\t signal transduction\r",
        "\r\n",
        "gi|379072759|gb|JR970428.1| \t 2.02664\t transport\r",
        "\r\n",
        "gi|379072761|gb|JR970430.1| \t 2.85161\t RNA metabolism\r",
        "\r\n",
        "gi|379072761|gb|JR970430.1| \t 2.85161\t other metabolic processes\r",
        "\r\n"
       ]
      }
     ],
     "prompt_number": 26
    },
    {
     "cell_type": "code",
     "collapsed": false,
     "input": [
      "import pandas as pd\n"
     ],
     "language": "python",
     "metadata": {},
     "outputs": [],
     "prompt_number": 27
    },
    {
     "cell_type": "code",
     "collapsed": false,
     "input": [
      "CpG = pd.read_table('Amil_CpG-GOslim.tab', header=None)\n"
     ],
     "language": "python",
     "metadata": {},
     "outputs": [],
     "prompt_number": 28
    },
    {
     "cell_type": "code",
     "collapsed": false,
     "input": [
      "%matplotlib inline\n"
     ],
     "language": "python",
     "metadata": {},
     "outputs": [],
     "prompt_number": 29
    },
    {
     "cell_type": "code",
     "collapsed": false,
     "input": [
      "import matplotlib.pyplot as plt \n"
     ],
     "language": "python",
     "metadata": {},
     "outputs": [],
     "prompt_number": 30
    },
    {
     "cell_type": "code",
     "collapsed": false,
     "input": [
      "CpG.groupby(2)[1].mean().plot(kind='barh', color=list('myb'))\n",
      "plt.axis([1.2, 1.6, 0, 15])"
     ],
     "language": "python",
     "metadata": {},
     "outputs": [
      {
       "metadata": {},
       "output_type": "pyout",
       "prompt_number": 56,
       "text": [
        "[1.2, 1.6, 0, 15]"
       ]
      },
      {
       "metadata": {},
       "output_type": "display_data",
       "png": "[encoded data removed]",
       "text": [
        "<matplotlib.figure.Figure at 0x10ae37d10>"
       ]
      }
     ],
     "prompt_number": 56
    },
    {
     "cell_type": "code",
     "collapsed": false,
     "input": [
      "#whole transcriptome\n",
      "trans = pd.read_table('query-CpG.tab', header=None)\n"
     ],
     "language": "python",
     "metadata": {},
     "outputs": [],
     "prompt_number": 38
    },
    {
     "cell_type": "code",
     "collapsed": false,
     "input": [
      "trans"
     ],
     "language": "python",
     "metadata": {},
     "outputs": [
      {
       "html": [
        "<div style=\"max-height:1000px;max-width:1500px;overflow:auto;\">\n",
        "<table border=\"1\" class=\"dataframe\">\n",
        "  <thead>\n",
        "    <tr style=\"text-align: right;\">\n",
        "      <th></th>\n",
        "      <th>0</th>\n",
        "      <th>1</th>\n",
        "    </tr>\n",
        "  </thead>\n",
        "  <tbody>\n",
        "    <tr>\n",
        "      <th>0    </th>\n",
        "      <td> gi|379072745|gb|JR970414.1| </td>\n",
        "      <td>   0.769327</td>\n",
        "    </tr>\n",
        "    <tr>\n",
        "      <th>1    </th>\n",
        "      <td> gi|379072746|gb|JR970415.1| </td>\n",
        "      <td>   0.281847</td>\n",
        "    </tr>\n",
        "    <tr>\n",
        "      <th>2    </th>\n",
        "      <td> gi|379072747|gb|JR970416.1| </td>\n",
        "      <td>   0.557002</td>\n",
        "    </tr>\n",
        "    <tr>\n",
        "      <th>3    </th>\n",
        "      <td> gi|379072748|gb|JR970417.1| </td>\n",
        "      <td>   0.656684</td>\n",
        "    </tr>\n",
        "    <tr>\n",
        "      <th>4    </th>\n",
        "      <td> gi|379072749|gb|JR970418.1| </td>\n",
        "      <td>   0.732022</td>\n",
        "    </tr>\n",
        "    <tr>\n",
        "      <th>5    </th>\n",
        "      <td> gi|379072750|gb|JR970419.1| </td>\n",
        "      <td>   0.315608</td>\n",
        "    </tr>\n",
        "    <tr>\n",
        "      <th>6    </th>\n",
        "      <td> gi|379072751|gb|JR970420.1| </td>\n",
        "      <td>    1.24577</td>\n",
        "    </tr>\n",
        "    <tr>\n",
        "      <th>7    </th>\n",
        "      <td> gi|379072752|gb|JR970421.1| </td>\n",
        "      <td>   0.325823</td>\n",
        "    </tr>\n",
        "    <tr>\n",
        "      <th>8    </th>\n",
        "      <td> gi|379072753|gb|JR970422.1| </td>\n",
        "      <td>   0.995875</td>\n",
        "    </tr>\n",
        "    <tr>\n",
        "      <th>9    </th>\n",
        "      <td> gi|379072754|gb|JR970423.1| </td>\n",
        "      <td>   0.767179</td>\n",
        "    </tr>\n",
        "    <tr>\n",
        "      <th>10   </th>\n",
        "      <td> gi|379072755|gb|JR970424.1| </td>\n",
        "      <td>    2.85464</td>\n",
        "    </tr>\n",
        "    <tr>\n",
        "      <th>11   </th>\n",
        "      <td> gi|379072756|gb|JR970425.1| </td>\n",
        "      <td>   0.975518</td>\n",
        "    </tr>\n",
        "    <tr>\n",
        "      <th>12   </th>\n",
        "      <td> gi|379072757|gb|JR970426.1| </td>\n",
        "      <td>    5.79017</td>\n",
        "    </tr>\n",
        "    <tr>\n",
        "      <th>13   </th>\n",
        "      <td> gi|379072758|gb|JR970427.1| </td>\n",
        "      <td>   0.401841</td>\n",
        "    </tr>\n",
        "    <tr>\n",
        "      <th>14   </th>\n",
        "      <td> gi|379072759|gb|JR970428.1| </td>\n",
        "      <td>    2.02664</td>\n",
        "    </tr>\n",
        "    <tr>\n",
        "      <th>15   </th>\n",
        "      <td> gi|379072760|gb|JR970429.1| </td>\n",
        "      <td>    2.28761</td>\n",
        "    </tr>\n",
        "    <tr>\n",
        "      <th>16   </th>\n",
        "      <td> gi|379072761|gb|JR970430.1| </td>\n",
        "      <td>    2.85161</td>\n",
        "    </tr>\n",
        "    <tr>\n",
        "      <th>17   </th>\n",
        "      <td> gi|379072762|gb|JR970431.1| </td>\n",
        "      <td>   0.855382</td>\n",
        "    </tr>\n",
        "    <tr>\n",
        "      <th>18   </th>\n",
        "      <td> gi|379072763|gb|JR970432.1| </td>\n",
        "      <td>    1.18468</td>\n",
        "    </tr>\n",
        "    <tr>\n",
        "      <th>19   </th>\n",
        "      <td> gi|379072764|gb|JR970433.1| </td>\n",
        "      <td>   0.120073</td>\n",
        "    </tr>\n",
        "    <tr>\n",
        "      <th>20   </th>\n",
        "      <td> gi|379072765|gb|JR970434.1| </td>\n",
        "      <td>   0.156759</td>\n",
        "    </tr>\n",
        "    <tr>\n",
        "      <th>21   </th>\n",
        "      <td> gi|379072766|gb|JR970435.1| </td>\n",
        "      <td>    1.23984</td>\n",
        "    </tr>\n",
        "    <tr>\n",
        "      <th>22   </th>\n",
        "      <td> gi|379072767|gb|JR970436.1| </td>\n",
        "      <td>    1.06557</td>\n",
        "    </tr>\n",
        "    <tr>\n",
        "      <th>23   </th>\n",
        "      <td> gi|379072768|gb|JR970437.1| </td>\n",
        "      <td>   0.515349</td>\n",
        "    </tr>\n",
        "    <tr>\n",
        "      <th>24   </th>\n",
        "      <td> gi|379072769|gb|JR970438.1| </td>\n",
        "      <td>   0.526373</td>\n",
        "    </tr>\n",
        "    <tr>\n",
        "      <th>25   </th>\n",
        "      <td> gi|379072770|gb|JR970439.1| </td>\n",
        "      <td>   0.408767</td>\n",
        "    </tr>\n",
        "    <tr>\n",
        "      <th>26   </th>\n",
        "      <td> gi|379072771|gb|JR970440.1| </td>\n",
        "      <td>    0.29592</td>\n",
        "    </tr>\n",
        "    <tr>\n",
        "      <th>27   </th>\n",
        "      <td> gi|379072772|gb|JR970441.1| </td>\n",
        "      <td>    1.39866</td>\n",
        "    </tr>\n",
        "    <tr>\n",
        "      <th>28   </th>\n",
        "      <td> gi|379072773|gb|JR970442.1| </td>\n",
        "      <td>   0.396381</td>\n",
        "    </tr>\n",
        "    <tr>\n",
        "      <th>29   </th>\n",
        "      <td> gi|379072774|gb|JR970443.1| </td>\n",
        "      <td>   0.234138</td>\n",
        "    </tr>\n",
        "    <tr>\n",
        "      <th>...</th>\n",
        "      <td>...</td>\n",
        "      <td>...</td>\n",
        "    </tr>\n",
        "    <tr>\n",
        "      <th>41312</th>\n",
        "      <td> gi|379114057|gb|JT011727.1| </td>\n",
        "      <td>    2.94508</td>\n",
        "    </tr>\n",
        "    <tr>\n",
        "      <th>41313</th>\n",
        "      <td> gi|379114058|gb|JT011728.1| </td>\n",
        "      <td>    1.56722</td>\n",
        "    </tr>\n",
        "    <tr>\n",
        "      <th>41314</th>\n",
        "      <td> gi|379114059|gb|JT011729.1| </td>\n",
        "      <td>    6.42792</td>\n",
        "    </tr>\n",
        "    <tr>\n",
        "      <th>41315</th>\n",
        "      <td> gi|379114060|gb|JT011730.1| </td>\n",
        "      <td>    2.88186</td>\n",
        "    </tr>\n",
        "    <tr>\n",
        "      <th>41316</th>\n",
        "      <td> gi|379114061|gb|JT011731.1| </td>\n",
        "      <td>   0.138823</td>\n",
        "    </tr>\n",
        "    <tr>\n",
        "      <th>41317</th>\n",
        "      <td> gi|379114062|gb|JT011732.1| </td>\n",
        "      <td>   0.378154</td>\n",
        "    </tr>\n",
        "    <tr>\n",
        "      <th>41318</th>\n",
        "      <td> gi|379114063|gb|JT011733.1| </td>\n",
        "      <td>    5.22273</td>\n",
        "    </tr>\n",
        "    <tr>\n",
        "      <th>41319</th>\n",
        "      <td> gi|379114064|gb|JT011734.1| </td>\n",
        "      <td>    3.78541</td>\n",
        "    </tr>\n",
        "    <tr>\n",
        "      <th>41320</th>\n",
        "      <td> gi|379114065|gb|JT011735.1| </td>\n",
        "      <td>   0.326288</td>\n",
        "    </tr>\n",
        "    <tr>\n",
        "      <th>41321</th>\n",
        "      <td> gi|379114066|gb|JT011736.1| </td>\n",
        "      <td>   0.379141</td>\n",
        "    </tr>\n",
        "    <tr>\n",
        "      <th>41322</th>\n",
        "      <td> gi|379114067|gb|JT011737.1| </td>\n",
        "      <td>   0.157684</td>\n",
        "    </tr>\n",
        "    <tr>\n",
        "      <th>41323</th>\n",
        "      <td> gi|379114068|gb|JT011738.1| </td>\n",
        "      <td>     1.9432</td>\n",
        "    </tr>\n",
        "    <tr>\n",
        "      <th>41324</th>\n",
        "      <td> gi|379114069|gb|JT011739.1| </td>\n",
        "      <td>    2.93217</td>\n",
        "    </tr>\n",
        "    <tr>\n",
        "      <th>41325</th>\n",
        "      <td> gi|379114070|gb|JT011740.1| </td>\n",
        "      <td>   0.470824</td>\n",
        "    </tr>\n",
        "    <tr>\n",
        "      <th>41326</th>\n",
        "      <td> gi|379114071|gb|JT011741.1| </td>\n",
        "      <td>    1.13473</td>\n",
        "    </tr>\n",
        "    <tr>\n",
        "      <th>41327</th>\n",
        "      <td> gi|379114072|gb|JT011742.1| </td>\n",
        "      <td>    1.58317</td>\n",
        "    </tr>\n",
        "    <tr>\n",
        "      <th>41328</th>\n",
        "      <td> gi|379114073|gb|JT011743.1| </td>\n",
        "      <td>   0.516248</td>\n",
        "    </tr>\n",
        "    <tr>\n",
        "      <th>41329</th>\n",
        "      <td> gi|379114074|gb|JT011744.1| </td>\n",
        "      <td>    1.26871</td>\n",
        "    </tr>\n",
        "    <tr>\n",
        "      <th>41330</th>\n",
        "      <td> gi|379114075|gb|JT011745.1| </td>\n",
        "      <td>    2.03734</td>\n",
        "    </tr>\n",
        "    <tr>\n",
        "      <th>41331</th>\n",
        "      <td> gi|379114076|gb|JT011746.1| </td>\n",
        "      <td>    0.07933</td>\n",
        "    </tr>\n",
        "    <tr>\n",
        "      <th>41332</th>\n",
        "      <td> gi|379114077|gb|JT011747.1| </td>\n",
        "      <td>    1.36067</td>\n",
        "    </tr>\n",
        "    <tr>\n",
        "      <th>41333</th>\n",
        "      <td> gi|379114078|gb|JT011748.1| </td>\n",
        "      <td>   0.914951</td>\n",
        "    </tr>\n",
        "    <tr>\n",
        "      <th>41334</th>\n",
        "      <td> gi|379114079|gb|JT011749.1| </td>\n",
        "      <td>   0.738412</td>\n",
        "    </tr>\n",
        "    <tr>\n",
        "      <th>41335</th>\n",
        "      <td> gi|379114080|gb|JT011750.1| </td>\n",
        "      <td>    2.07363</td>\n",
        "    </tr>\n",
        "    <tr>\n",
        "      <th>41336</th>\n",
        "      <td> gi|379114081|gb|JT011751.1| </td>\n",
        "      <td>  0.0215669</td>\n",
        "    </tr>\n",
        "    <tr>\n",
        "      <th>41337</th>\n",
        "      <td> gi|379114082|gb|JT011752.1| </td>\n",
        "      <td>   0.116059</td>\n",
        "    </tr>\n",
        "    <tr>\n",
        "      <th>41338</th>\n",
        "      <td> gi|379114083|gb|JT011753.1| </td>\n",
        "      <td>    1.17576</td>\n",
        "    </tr>\n",
        "    <tr>\n",
        "      <th>41339</th>\n",
        "      <td> gi|379114084|gb|JT011754.1| </td>\n",
        "      <td>   0.678292</td>\n",
        "    </tr>\n",
        "    <tr>\n",
        "      <th>41340</th>\n",
        "      <td> gi|379114085|gb|JT011755.1| </td>\n",
        "      <td>   0.658117</td>\n",
        "    </tr>\n",
        "    <tr>\n",
        "      <th>41341</th>\n",
        "      <td> gi|379114086|gb|JT011756.1| </td>\n",
        "      <td>           </td>\n",
        "    </tr>\n",
        "  </tbody>\n",
        "</table>\n",
        "<p>41342 rows \u00d7 2 columns</p>\n",
        "</div>"
       ],
       "metadata": {},
       "output_type": "pyout",
       "prompt_number": 44,
       "text": [
        "                                  0           1\n",
        "0      gi|379072745|gb|JR970414.1|     0.769327\n",
        "1      gi|379072746|gb|JR970415.1|     0.281847\n",
        "2      gi|379072747|gb|JR970416.1|     0.557002\n",
        "3      gi|379072748|gb|JR970417.1|     0.656684\n",
        "4      gi|379072749|gb|JR970418.1|     0.732022\n",
        "5      gi|379072750|gb|JR970419.1|     0.315608\n",
        "6      gi|379072751|gb|JR970420.1|      1.24577\n",
        "7      gi|379072752|gb|JR970421.1|     0.325823\n",
        "8      gi|379072753|gb|JR970422.1|     0.995875\n",
        "9      gi|379072754|gb|JR970423.1|     0.767179\n",
        "10     gi|379072755|gb|JR970424.1|      2.85464\n",
        "11     gi|379072756|gb|JR970425.1|     0.975518\n",
        "12     gi|379072757|gb|JR970426.1|      5.79017\n",
        "13     gi|379072758|gb|JR970427.1|     0.401841\n",
        "14     gi|379072759|gb|JR970428.1|      2.02664\n",
        "15     gi|379072760|gb|JR970429.1|      2.28761\n",
        "16     gi|379072761|gb|JR970430.1|      2.85161\n",
        "17     gi|379072762|gb|JR970431.1|     0.855382\n",
        "18     gi|379072763|gb|JR970432.1|      1.18468\n",
        "19     gi|379072764|gb|JR970433.1|     0.120073\n",
        "20     gi|379072765|gb|JR970434.1|     0.156759\n",
        "21     gi|379072766|gb|JR970435.1|      1.23984\n",
        "22     gi|379072767|gb|JR970436.1|      1.06557\n",
        "23     gi|379072768|gb|JR970437.1|     0.515349\n",
        "24     gi|379072769|gb|JR970438.1|     0.526373\n",
        "25     gi|379072770|gb|JR970439.1|     0.408767\n",
        "26     gi|379072771|gb|JR970440.1|      0.29592\n",
        "27     gi|379072772|gb|JR970441.1|      1.39866\n",
        "28     gi|379072773|gb|JR970442.1|     0.396381\n",
        "29     gi|379072774|gb|JR970443.1|     0.234138\n",
        "...                             ...         ...\n",
        "41312  gi|379114057|gb|JT011727.1|      2.94508\n",
        "41313  gi|379114058|gb|JT011728.1|      1.56722\n",
        "41314  gi|379114059|gb|JT011729.1|      6.42792\n",
        "41315  gi|379114060|gb|JT011730.1|      2.88186\n",
        "41316  gi|379114061|gb|JT011731.1|     0.138823\n",
        "41317  gi|379114062|gb|JT011732.1|     0.378154\n",
        "41318  gi|379114063|gb|JT011733.1|      5.22273\n",
        "41319  gi|379114064|gb|JT011734.1|      3.78541\n",
        "41320  gi|379114065|gb|JT011735.1|     0.326288\n",
        "41321  gi|379114066|gb|JT011736.1|     0.379141\n",
        "41322  gi|379114067|gb|JT011737.1|     0.157684\n",
        "41323  gi|379114068|gb|JT011738.1|       1.9432\n",
        "41324  gi|379114069|gb|JT011739.1|      2.93217\n",
        "41325  gi|379114070|gb|JT011740.1|     0.470824\n",
        "41326  gi|379114071|gb|JT011741.1|      1.13473\n",
        "41327  gi|379114072|gb|JT011742.1|      1.58317\n",
        "41328  gi|379114073|gb|JT011743.1|     0.516248\n",
        "41329  gi|379114074|gb|JT011744.1|      1.26871\n",
        "41330  gi|379114075|gb|JT011745.1|      2.03734\n",
        "41331  gi|379114076|gb|JT011746.1|      0.07933\n",
        "41332  gi|379114077|gb|JT011747.1|      1.36067\n",
        "41333  gi|379114078|gb|JT011748.1|     0.914951\n",
        "41334  gi|379114079|gb|JT011749.1|     0.738412\n",
        "41335  gi|379114080|gb|JT011750.1|      2.07363\n",
        "41336  gi|379114081|gb|JT011751.1|    0.0215669\n",
        "41337  gi|379114082|gb|JT011752.1|     0.116059\n",
        "41338  gi|379114083|gb|JT011753.1|      1.17576\n",
        "41339  gi|379114084|gb|JT011754.1|     0.678292\n",
        "41340  gi|379114085|gb|JT011755.1|     0.658117\n",
        "41341  gi|379114086|gb|JT011756.1|             \n",
        "\n",
        "[41342 rows x 2 columns]"
       ]
      }
     ],
     "prompt_number": 44
    },
    {
     "cell_type": "code",
     "collapsed": false,
     "input": [
      "# pandas density plot\n",
      "trans[1].plot(kind='kde', linewidth=3);\n",
      "#plt.axis([0, 1.5, 0, 1.9])"
     ],
     "language": "python",
     "metadata": {},
     "outputs": [
      {
       "ename": "TypeError",
       "evalue": "Empty 'Series': no numeric data to plot",
       "output_type": "pyerr",
       "traceback": [
        "\u001b[0;31m---------------------------------------------------------------------------\u001b[0m\n\u001b[0;31mTypeError\u001b[0m                                 Traceback (most recent call last)",
        "\u001b[0;32m<ipython-input-47-e54d084685a9>\u001b[0m in \u001b[0;36m<module>\u001b[0;34m()\u001b[0m\n\u001b[1;32m      1\u001b[0m \u001b[0;31m# pandas density plot\u001b[0m\u001b[0;34m\u001b[0m\u001b[0;34m\u001b[0m\u001b[0m\n\u001b[0;32m----> 2\u001b[0;31m \u001b[0mtrans\u001b[0m\u001b[0;34m[\u001b[0m\u001b[0;36m1\u001b[0m\u001b[0;34m]\u001b[0m\u001b[0;34m.\u001b[0m\u001b[0mplot\u001b[0m\u001b[0;34m(\u001b[0m\u001b[0mkind\u001b[0m\u001b[0;34m=\u001b[0m\u001b[0;34m'kde'\u001b[0m\u001b[0;34m,\u001b[0m \u001b[0mlinewidth\u001b[0m\u001b[0;34m=\u001b[0m\u001b[0;36m3\u001b[0m\u001b[0;34m)\u001b[0m\u001b[0;34m;\u001b[0m\u001b[0;34m\u001b[0m\u001b[0m\n\u001b[0m\u001b[1;32m      3\u001b[0m \u001b[0;31m#plt.axis([0, 1.5, 0, 1.9])\u001b[0m\u001b[0;34m\u001b[0m\u001b[0;34m\u001b[0m\u001b[0m\n",
        "\u001b[0;32m/Users/sr320/anaconda/lib/python2.7/site-packages/pandas/tools/plotting.pyc\u001b[0m in \u001b[0;36mplot_series\u001b[0;34m(series, label, kind, use_index, rot, xticks, yticks, xlim, ylim, ax, style, grid, legend, logx, logy, secondary_y, **kwds)\u001b[0m\n\u001b[1;32m   2258\u001b[0m                      secondary_y=secondary_y, **kwds)\n\u001b[1;32m   2259\u001b[0m \u001b[0;34m\u001b[0m\u001b[0m\n\u001b[0;32m-> 2260\u001b[0;31m     \u001b[0mplot_obj\u001b[0m\u001b[0;34m.\u001b[0m\u001b[0mgenerate\u001b[0m\u001b[0;34m(\u001b[0m\u001b[0;34m)\u001b[0m\u001b[0;34m\u001b[0m\u001b[0m\n\u001b[0m\u001b[1;32m   2261\u001b[0m     \u001b[0mplot_obj\u001b[0m\u001b[0;34m.\u001b[0m\u001b[0mdraw\u001b[0m\u001b[0;34m(\u001b[0m\u001b[0;34m)\u001b[0m\u001b[0;34m\u001b[0m\u001b[0m\n\u001b[1;32m   2262\u001b[0m \u001b[0;34m\u001b[0m\u001b[0m\n",
        "\u001b[0;32m/Users/sr320/anaconda/lib/python2.7/site-packages/pandas/tools/plotting.pyc\u001b[0m in \u001b[0;36mgenerate\u001b[0;34m(self)\u001b[0m\n\u001b[1;32m    898\u001b[0m     \u001b[0;32mdef\u001b[0m \u001b[0mgenerate\u001b[0m\u001b[0;34m(\u001b[0m\u001b[0mself\u001b[0m\u001b[0;34m)\u001b[0m\u001b[0;34m:\u001b[0m\u001b[0;34m\u001b[0m\u001b[0m\n\u001b[1;32m    899\u001b[0m         \u001b[0mself\u001b[0m\u001b[0;34m.\u001b[0m\u001b[0m_args_adjust\u001b[0m\u001b[0;34m(\u001b[0m\u001b[0;34m)\u001b[0m\u001b[0;34m\u001b[0m\u001b[0m\n\u001b[0;32m--> 900\u001b[0;31m         \u001b[0mself\u001b[0m\u001b[0;34m.\u001b[0m\u001b[0m_compute_plot_data\u001b[0m\u001b[0;34m(\u001b[0m\u001b[0;34m)\u001b[0m\u001b[0;34m\u001b[0m\u001b[0m\n\u001b[0m\u001b[1;32m    901\u001b[0m         \u001b[0mself\u001b[0m\u001b[0;34m.\u001b[0m\u001b[0m_setup_subplots\u001b[0m\u001b[0;34m(\u001b[0m\u001b[0;34m)\u001b[0m\u001b[0;34m\u001b[0m\u001b[0m\n\u001b[1;32m    902\u001b[0m         \u001b[0mself\u001b[0m\u001b[0;34m.\u001b[0m\u001b[0m_make_plot\u001b[0m\u001b[0;34m(\u001b[0m\u001b[0;34m)\u001b[0m\u001b[0;34m\u001b[0m\u001b[0m\n",
        "\u001b[0;32m/Users/sr320/anaconda/lib/python2.7/site-packages/pandas/tools/plotting.pyc\u001b[0m in \u001b[0;36m_compute_plot_data\u001b[0;34m(self)\u001b[0m\n\u001b[1;32m    968\u001b[0m         \u001b[0;32mif\u001b[0m \u001b[0mis_empty\u001b[0m\u001b[0;34m:\u001b[0m\u001b[0;34m\u001b[0m\u001b[0m\n\u001b[1;32m    969\u001b[0m             raise TypeError('Empty {0!r}: no numeric data to '\n\u001b[0;32m--> 970\u001b[0;31m                             'plot'.format(numeric_data.__class__.__name__))\n\u001b[0m\u001b[1;32m    971\u001b[0m \u001b[0;34m\u001b[0m\u001b[0m\n\u001b[1;32m    972\u001b[0m         \u001b[0mself\u001b[0m\u001b[0;34m.\u001b[0m\u001b[0mdata\u001b[0m \u001b[0;34m=\u001b[0m \u001b[0mnumeric_data\u001b[0m\u001b[0;34m\u001b[0m\u001b[0m\n",
        "\u001b[0;31mTypeError\u001b[0m: Empty 'Series': no numeric data to plot"
       ]
      }
     ],
     "prompt_number": 47
    },
    {
     "cell_type": "code",
     "collapsed": false,
     "input": [],
     "language": "python",
     "metadata": {},
     "outputs": []
    }
   ],
   "metadata": {}
  }
 ]
}