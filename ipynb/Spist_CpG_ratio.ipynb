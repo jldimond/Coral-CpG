{
 "cells": [
  {
   "cell_type": "markdown",
   "metadata": {},
   "source": [
    "# Calculating CpG ratio for the *Stylophora pistillata* transcriptome"
   ]
  },
  {
   "cell_type": "markdown",
   "metadata": {},
   "source": [
    "This workflow calculates CpG ratio, or CpG O/E, for contigs in the *Stylophora pistillata* [transcriptome](http://data.centrescientifique.mc/Data/454Isotigs.fas.zip). CpG ratio is an estimate of germline DNA methylation.\n",
    "\n",
    "This workflow is an extension of another IPython notebook workflow, `Spist_blast_anno.ipynb`, that generates an annotation of the same transcriptome. This workflow assumes that you have created the directories and files specified in the annotation workflow."
   ]
  },
  {
   "cell_type": "code",
   "execution_count": 1,
   "metadata": {
    "collapsed": false
   },
   "outputs": [
    {
     "name": "stdout",
     "output_type": "stream",
     "text": [
      "/Users/jd/Documents/Projects/Coral-CpG-ratio-MS/data/Spist\n"
     ]
    }
   ],
   "source": [
    "cd ../data/Spist"
   ]
  },
  {
   "cell_type": "code",
   "execution_count": 2,
   "metadata": {
    "collapsed": false
   },
   "outputs": [
    {
     "name": "stdout",
     "output_type": "stream",
     "text": [
      ">Spi_contig00032  gene=isogroup00001  length=1566\n",
      "GgATCCATCGAAAGAAAAaGTCGTAGTTGACAGTGATTGCATGACTTCTGTACAACGTCCGATTAGTTTTtGCGTTTTATTGTCTtCTTTTGTACTGgAAATTCGACTCTAGCAAGTTGATTTCGTTTAGTTATGTCTGGCATTGCTTTGGGCAGATTATCAGAAGAGAGAAAAGCTTGGCGTAAAGACcATCCTTTCGGATTTGTGGCCAAACCGGTTAAAAATCCTGATGGTACTCTAAATCTGATGAACTGGGAATGTGCGATCCCaGGAAAGAAAGCGACCCCATGGGAAGGAGGCTCTTTCAAATTGAAGATGATATTTAAAGACGACTATCCATCCTCTCCGCCAAAATGTAAATTTGATCCTCCAATTTTCCATCCTAATGTATACCCATCTGGCACAGTGTGTCTGTCTCTTCTAGATGAAGAGAAAGACTGGAGACCTGCCGTCACTATAAAACAGATTTTATTGGGAATTCAAGACTTACTGAaTGATCCAAaCaTAaGaGATCCAGCTCAAGCAGAAGCATACaCCATTTACTGCCAAAACAGATCAGAATATGAGAAACGAGTCAGAAGTCAAGCTGCAAaGTTCTCAAGTTCATAGTGAATAAAGAAAAATATAAAATACTTCGCTAGCAGACGTGTAGGTTAACaGTGACTGGCAGAAATTGGATTTATTTTTtCTCcGTTtGTAAacAaCAaTGTGGAGTGGAGCAaGAATTCATCCgTAACTGCGTTAATACCACAGCTGTTGTTGTGAATTGGAaGGACAATCATGTCTGTTATTTtAGGAAGTTTCACAATGTACAGTTCAACTAACTTATACTAAAAAaCAGCTAAAGTtCACCTTAGTCTATGTtAGTTTtGTTAAAGCTTCTCTGTAgAAGGTTTGGGAGGgTtGTAATGGCTGTAACTATTCAGGgAGATCTGTCAAAGTACACTCTCTAATCCCATTGTTTCTTAAGGAATGAGTCATTATTTATTGTCTGGTGGGACGGaGGaTTTTAATCGTGTCACAATAAAATTTACCTGATCTTCCCatAagACCTGTAGTAATCTAaTGGTCCCTGTCATTGGCAGTCAaTTTTCTATAGTTTCCTGTTAACCTCTGTTAGCTACAACTGATGCCCCcTCTGTACCCCCCTAAAATTGTGTTCCCCCAAAgAAaTCCTTCCACCCACCCCATaCCTCCAGGTGATAACTAATGActGGTCCTTAATTCATTCTCTTTTTTTtGTTCTTGATTATTTGACTAAACCAAAGGCGatAAGTAAGATATACCCcAAtACGATTTGACGAACAATCTCTAGATTTTTTATTtAATCTTTAGTTGTAGATGTAATCAGAGGTGCAAAGCTTTACTGTTTtGAGTGTAAAGTGCCTGTTTCTAGGGATCCAGTGAAACCAGTAGTGTTGGGATTGTAAAGAGaTCAAAGAaTACCTCAAAGCACCAATCATAATGCTCTAATGTTGACAACTGCTAATGATTGGTtCAGCCTaTGGCTTTCATTAAAAaCGTCAAAAAaTAACGCTTCACTTCATTGCAAGTGATTCAGGTGGa\n",
      "\n",
      "number of seqs =\n",
      "15052\n"
     ]
    }
   ],
   "source": [
    "#fasta file\n",
    "!head -2 Spist.fasta\n",
    "!echo \n",
    "!echo number of seqs =\n",
    "!fgrep -c \">\" Spist.fasta"
   ]
  },
  {
   "cell_type": "code",
   "execution_count": 1,
   "metadata": {
    "collapsed": false
   },
   "outputs": [
    {
     "name": "stdout",
     "output_type": "stream",
     "text": [
      "awk: cannot open Spist.fasta (No such file or directory)\r\n"
     ]
    }
   ],
   "source": [
    "#Just printing first line w/out comments and looking at contig names\n",
    "!awk '{print $1}' Spist.fasta > Spist2.fasta\n",
    "!head -10 Spist2.fasta\n",
    "!tail -10 Spist2.fasta"
   ]
  },
  {
   "cell_type": "code",
   "execution_count": 4,
   "metadata": {
    "collapsed": false
   },
   "outputs": [
    {
     "name": "stdout",
     "output_type": "stream",
     "text": [
      "\r\n",
      "Converted 15052 FASTA records in 30104 lines to tabular format\r\n",
      "Total sequence length: 16227896\r\n",
      "\r\n"
     ]
    }
   ],
   "source": [
    "#Converting FASTA to tabular format and placing output file in analyses directory\n",
    "!perl -e '$count=0; $len=0; while(<>) {s/\\r?\\n//; s/\\t/ /g; if (s/^>//) { if ($. != 1) {print \"\\n\"} s/ |$/\\t/; $count++; $_ .= \"\\t\";} else {s/ //g; $len += length($_)} print $_;} print \"\\n\"; warn \"\\nConverted $count FASTA records in $. lines to tabular format\\nTotal sequence length: $len\\n\\n\";' \\\n",
    "Spist2.fasta > ../../analyses/Spist/fasta2tab"
   ]
  },
  {
   "cell_type": "code",
   "execution_count": 3,
   "metadata": {
    "collapsed": false
   },
   "outputs": [
    {
     "name": "stdout",
     "output_type": "stream",
     "text": [
      "/home/jay/Documents/fish546-2015/Analyses/Spist\n"
     ]
    }
   ],
   "source": [
    "cd ../../analyses/Spist"
   ]
  },
  {
   "cell_type": "code",
   "execution_count": 4,
   "metadata": {
    "collapsed": false
   },
   "outputs": [
    {
     "name": "stdout",
     "output_type": "stream",
     "text": [
      "Spi_contig00032\t\tGgATCCATCGAAAGAAAAaGTCGTAGTTGACAGTGATTGCATGACTTCTGTACAACGTCCGATTAGTTTTtGCGTTTTATTGTCTtCTTTTGTACTGgAAATTCGACTCTAGCAAGTTGATTTCGTTTAGTTATGTCTGGCATTGCTTTGGGCAGATTATCAGAAGAGAGAAAAGCTTGGCGTAAAGACcATCCTTTCGGATTTGTGGCCAAACCGGTTAAAAATCCTGATGGTACTCTAAATCTGATGAACTGGGAATGTGCGATCCCaGGAAAGAAAGCGACCCCATGGGAAGGAGGCTCTTTCAAATTGAAGATGATATTTAAAGACGACTATCCATCCTCTCCGCCAAAATGTAAATTTGATCCTCCAATTTTCCATCCTAATGTATACCCATCTGGCACAGTGTGTCTGTCTCTTCTAGATGAAGAGAAAGACTGGAGACCTGCCGTCACTATAAAACAGATTTTATTGGGAATTCAAGACTTACTGAaTGATCCAAaCaTAaGaGATCCAGCTCAAGCAGAAGCATACaCCATTTACTGCCAAAACAGATCAGAATATGAGAAACGAGTCAGAAGTCAAGCTGCAAaGTTCTCAAGTTCATAGTGAATAAAGAAAAATATAAAATACTTCGCTAGCAGACGTGTAGGTTAACaGTGACTGGCAGAAATTGGATTTATTTTTtCTCcGTTtGTAAacAaCAaTGTGGAGTGGAGCAaGAATTCATCCgTAACTGCGTTAATACCACAGCTGTTGTTGTGAATTGGAaGGACAATCATGTCTGTTATTTtAGGAAGTTTCACAATGTACAGTTCAACTAACTTATACTAAAAAaCAGCTAAAGTtCACCTTAGTCTATGTtAGTTTtGTTAAAGCTTCTCTGTAgAAGGTTTGGGAGGgTtGTAATGGCTGTAACTATTCAGGgAGATCTGTCAAAGTACACTCTCTAATCCCATTGTTTCTTAAGGAATGAGTCATTATTTATTGTCTGGTGGGACGGaGGaTTTTAATCGTGTCACAATAAAATTTACCTGATCTTCCCatAagACCTGTAGTAATCTAaTGGTCCCTGTCATTGGCAGTCAaTTTTCTATAGTTTCCTGTTAACCTCTGTTAGCTACAACTGATGCCCCcTCTGTACCCCCCTAAAATTGTGTTCCCCCAAAgAAaTCCTTCCACCCACCCCATaCCTCCAGGTGATAACTAATGActGGTCCTTAATTCATTCTCTTTTTTTtGTTCTTGATTATTTGACTAAACCAAAGGCGatAAGTAAGATATACCCcAAtACGATTTGACGAACAATCTCTAGATTTTTTATTtAATCTTTAGTTGTAGATGTAATCAGAGGTGCAAAGCTTTACTGTTTtGAGTGTAAAGTGCCTGTTTCTAGGGATCCAGTGAAACCAGTAGTGTTGGGATTGTAAAGAGaTCAAAGAaTACCTCAAAGCACCAATCATAATGCTCTAATGTTGACAACTGCTAATGATTGGTtCAGCCTaTGGCTTTCATTAAAAaCGTCAAAAAaTAACGCTTCACTTCATTGCAAGTGATTCAGGTGGa\r\n",
      "Spi_contig00035\t\tAGCAGAGATCTATCAGACGACTATGTTACGACATGAAAaCCTTTTAGGCTTtGTAGCTGCTGACAaCAAaGATAATGGTGCCTGGACACAGCTTTGGCTGGTTACAGATTATTTagAAAGGGgCTCATTGTATGACTATCTTCAACTTGTTACCCTGAATGTTGAATCCATGCTGAAGTTAGCAGTGTCAATAGCCAGTGGACTTGCTCATCTCCACATtGAGATtGTAGGCACCCAAGgAAAGCCAGCTATTGCACATCGTGACTTAAAAaGTAAAAaCATTCTGGTTAAAAGAAATGGGACATGTTGCATAGGTGATTTGGGTCTTGCTGTTCGTCATAGTTCCATTACTGACACAGTTGATGTTCCTCCTGGGAACAGAgTTGGTACAAAGCGCTACATGCCACCTGAATTTTtAGATGACAATATACAGGTGCGGCACTTTGATGCATACAAGCGAGGTGATATGTATGCATTTGGTCTAGTGTTATGGGAAaTTGCAAGGACgTGTGTTTGTGGTGGATTGTGTGATGAATATCAGCTGCCCTACTATGACAGAGTTCCCTGTGATCCCAGCATTGAAGAtATGAGAAAGGTGGTCTGTGTGGAGAGGTATCGCCCTGCCTTTCCAAATAGGTGGATACAAGATCAGACACTACAGTCTATGTCCAAGTTGATGAAAGAATGTTGGTATGCCAATAGTGCTGCAAGACTTACAGCTCTCCGTGTTAAGAAGACTCTTACAACAcTGTGTCAGTTACATGATGTTGATATTATGGTTTAGAGGGaTCCATCAaGAAAACTCATGTAAAACAAGTgCAAGATGGGTGTATCACCAGGACTTATATAACAGGAGGAACCTCCTGATAATCCTTGCAGGCAATTTGTAGGTCCTGTAATGTGATACAGTACATGTCTACCATCATGCTATTGgTTTGCAGTTCAAACaGCAATGCTGTCTTTtATTTTTtGATAAAGCCATGAAGAATAAACGCGACAGAGAAAaTTTATGACTTCCTAGTTAACAAGAAGCATTCtCATTTTTTTTTTTTtttGCCTGCATAATTcTTGtATTTATATCCACAGCAACTGTCACTGACTCAAAGTgTtGgtAaTCatCAGCAACAAAGAACCCAACTTGgTTTTATGAAAGCACGTACATtCAAATGAGCAATTTAAATTGAAAACCTAAAAGGACATATCCATGTGCAACAACTGTAGAACTATGTATGAGCAGTGTCCACTATTCTCCTCCTTAGTTTATTTTAGATGTTTCGAATGAGAATACAGAATAGAGCTTCATCCTTTTGACATTGAAAGCATTTCATACTCAAGTATtGAAGGGTATGATTCTTTGTTGTGAGGAACGACACTCACCAAGTAATCCTCAAAATATTTAAGAGCATACATGGATTTTACCAAAAGATGTGGGTTGGTCATATCTACATTAAGAATTTGTTACAATAGTAAGGTAGTTGCAGTGCTGTAGCTAGCTCTTAGATGAAGCGTGTTTATTGCATTCAAATTGAAATGTTATTGTTTAAAGTGATTCTCAAATTAAAAGACATTGTATTTTTAGACAACTTTTTATCTTCGAAAACCCAGTGGTGTAAGGTAATTACATTATTTTATGTTCATAACAAATACATTTTAACTGTATTCCACCAAACAATGTGAAAGGGGCAGTTTAAGAATTAATGAAATCTTTCTTGATACCCGTTCTtcAGAACGCTTTATAGTATCTTCTTTATAGTTGTAAATAAaCCGAaTACTTTGCGTGTGAGGGGCATTGAaGAAACTGAAGGGTTTTGTTTGACTCTGTTCTAACAGAAtCAAACATAATGTAATTACTCGGAACTTCATTAAACTGGTGGCC\r\n"
     ]
    }
   ],
   "source": [
    "#Checking header on new tabular format file\n",
    "!head -2 fasta2tab"
   ]
  },
  {
   "cell_type": "code",
   "execution_count": 5,
   "metadata": {
    "collapsed": false
   },
   "outputs": [
    {
     "name": "stdout",
     "output_type": "stream",
     "text": [
      "\r\n",
      "Added column with length of column 2 for 15052 lines.\r\n",
      "\r\n"
     ]
    }
   ],
   "source": [
    "#Add column with length of sequence\n",
    "!perl -e '$col = 2;' -e 'while (<>) { s/\\r?\\n//; @F = split /\\t/, $_; $len = length($F[$col]); print \"$_\\t$len\\n\" } warn \"\\nAdded column with length of column $col for $. lines.\\n\\n\";' \\\n",
    "fasta2tab > tab_1"
   ]
  },
  {
   "cell_type": "code",
   "execution_count": 6,
   "metadata": {
    "collapsed": false
   },
   "outputs": [
    {
     "name": "stdout",
     "output_type": "stream",
     "text": [
      "   15052    45156 16565757 tab_1\r\n"
     ]
    }
   ],
   "source": [
    "!wc tab_1"
   ]
  },
  {
   "cell_type": "code",
   "execution_count": 7,
   "metadata": {
    "collapsed": false
   },
   "outputs": [],
   "source": [
    "#The file used to count Cs and Gs will only include the sequence\n",
    "!awk '{print $2}' tab_1 > tab_2"
   ]
  },
  {
   "cell_type": "code",
   "execution_count": 8,
   "metadata": {
    "collapsed": false
   },
   "outputs": [],
   "source": [
    "#This counts CGs - both cases\n",
    "!echo \"CG\" | awk -F\\[Cc][Gg] '{print NF-1}' tab_2 > CG "
   ]
  },
  {
   "cell_type": "code",
   "execution_count": 9,
   "metadata": {
    "collapsed": false
   },
   "outputs": [],
   "source": [
    "#Counts Cs\n",
    "!echo \"C\" | awk -F\\[Cc] '{print NF-1}' tab_2 > C "
   ]
  },
  {
   "cell_type": "code",
   "execution_count": 10,
   "metadata": {
    "collapsed": false
   },
   "outputs": [],
   "source": [
    "#Counts Gs\n",
    "!echo \"G\" | awk -F\\[Gg] '{print NF-1}' tab_2 > G "
   ]
  },
  {
   "cell_type": "code",
   "execution_count": 11,
   "metadata": {
    "collapsed": false
   },
   "outputs": [
    {
     "name": "stdout",
     "output_type": "stream",
     "text": [
      "Spi_contig00032\t\tGgATCCATCGAAAGAAAAaGTCGTAGTTGACAGTGATTGCATGACTTCTGTACAACGTCCGATTAGTTTTtGCGTTTTATTGTCTtCTTTTGTACTGgAAATTCGACTCTAGCAAGTTGATTTCGTTTAGTTATGTCTGGCATTGCTTTGGGCAGATTATCAGAAGAGAGAAAAGCTTGGCGTAAAGACcATCCTTTCGGATTTGTGGCCAAACCGGTTAAAAATCCTGATGGTACTCTAAATCTGATGAACTGGGAATGTGCGATCCCaGGAAAGAAAGCGACCCCATGGGAAGGAGGCTCTTTCAAATTGAAGATGATATTTAAAGACGACTATCCATCCTCTCCGCCAAAATGTAAATTTGATCCTCCAATTTTCCATCCTAATGTATACCCATCTGGCACAGTGTGTCTGTCTCTTCTAGATGAAGAGAAAGACTGGAGACCTGCCGTCACTATAAAACAGATTTTATTGGGAATTCAAGACTTACTGAaTGATCCAAaCaTAaGaGATCCAGCTCAAGCAGAAGCATACaCCATTTACTGCCAAAACAGATCAGAATATGAGAAACGAGTCAGAAGTCAAGCTGCAAaGTTCTCAAGTTCATAGTGAATAAAGAAAAATATAAAATACTTCGCTAGCAGACGTGTAGGTTAACaGTGACTGGCAGAAATTGGATTTATTTTTtCTCcGTTtGTAAacAaCAaTGTGGAGTGGAGCAaGAATTCATCCgTAACTGCGTTAATACCACAGCTGTTGTTGTGAATTGGAaGGACAATCATGTCTGTTATTTtAGGAAGTTTCACAATGTACAGTTCAACTAACTTATACTAAAAAaCAGCTAAAGTtCACCTTAGTCTATGTtAGTTTtGTTAAAGCTTCTCTGTAgAAGGTTTGGGAGGgTtGTAATGGCTGTAACTATTCAGGgAGATCTGTCAAAGTACACTCTCTAATCCCATTGTTTCTTAAGGAATGAGTCATTATTTATTGTCTGGTGGGACGGaGGaTTTTAATCGTGTCACAATAAAATTTACCTGATCTTCCCatAagACCTGTAGTAATCTAaTGGTCCCTGTCATTGGCAGTCAaTTTTCTATAGTTTCCTGTTAACCTCTGTTAGCTACAACTGATGCCCCcTCTGTACCCCCCTAAAATTGTGTTCCCCCAAAgAAaTCCTTCCACCCACCCCATaCCTCCAGGTGATAACTAATGActGGTCCTTAATTCATTCTCTTTTTTTtGTTCTTGATTATTTGACTAAACCAAAGGCGatAAGTAAGATATACCCcAAtACGATTTGACGAACAATCTCTAGATTTTTTATTtAATCTTTAGTTGTAGATGTAATCAGAGGTGCAAAGCTTTACTGTTTtGAGTGTAAAGTGCCTGTTTCTAGGGATCCAGTGAAACCAGTAGTGTTGGGATTGTAAAGAGaTCAAAGAaTACCTCAAAGCACCAATCATAATGCTCTAATGTTGACAACTGCTAATGATTGGTtCAGCCTaTGGCTTTCATTAAAAaCGTCAAAAAaTAACGCTTCACTTCATTGCAAGTGATTCAGGTGGa\t1566\t28\t297\t305\r\n"
     ]
    }
   ],
   "source": [
    "#Combining counts\n",
    "!paste tab_1 \\\n",
    "CG \\\n",
    "C \\\n",
    "G \\\n",
    "> comb\n",
    "!head -1 comb"
   ]
  },
  {
   "cell_type": "markdown",
   "metadata": {},
   "source": [
    "# Calculating CpGo/e based on [Gavery and Roberts (2010)](http://www.biomedcentral.com/1471-2164/11/483)"
   ]
  },
  {
   "cell_type": "markdown",
   "metadata": {},
   "source": [
    "<img src=\"http://eagle.fish.washington.edu/cnidarian/skitch/BMC_Genomics___Full_text___DNA_methylation_patterns_provide_insight_into_epigenetic_regulation_in_the_Pacific_oyster__Crassostrea_gigas__1A0683A5.png\" alt=\"BMC_Genomics___Full_text___DNA_methylation_patterns_provide_insight_into_epigenetic_regulation_in_the_Pacific_oyster__Crassostrea_gigas__1A0683A5.png\"/>"
   ]
  },
  {
   "cell_type": "code",
   "execution_count": 12,
   "metadata": {
    "collapsed": false
   },
   "outputs": [],
   "source": [
    "!awk '{print $1, \"\\t\", (($4)/($5*$6))*(($3^2)/($3-1))}' comb > ID_CpG #use ^ instead of ** for exponent\n"
   ]
  },
  {
   "cell_type": "code",
   "execution_count": 49,
   "metadata": {
    "collapsed": false
   },
   "outputs": [
    {
     "name": "stdout",
     "output_type": "stream",
     "text": [
      "Spi_contig00032 \t 0.484363\n",
      "Spi_contig00035 \t 0.335179\n",
      "Spi_contig00040 \t 0.854266\n",
      "Spi_contig00044 \t 0.867137\n",
      "Spi_contig00046 \t 0.196592\n",
      "Spi_contig00075 \t 0.871739\n",
      "Spi_contig00091 \t 0.937628\n",
      "Spi_contig00094 \t 0.131292\n",
      "Spi_contig00095 \t 0.684932\n",
      "Spi_contig00098 \t 0.584255\n",
      " 15052  30104 402540 ID_CpG\n"
     ]
    }
   ],
   "source": [
    "!head ID_CpG\n",
    "!wc ID_CpG"
   ]
  },
  {
   "cell_type": "markdown",
   "metadata": {},
   "source": [
    "# Now joining CpG to annotation, but first must sort files."
   ]
  },
  {
   "cell_type": "code",
   "execution_count": 2,
   "metadata": {
    "collapsed": false
   },
   "outputs": [
    {
     "name": "stdout",
     "output_type": "stream",
     "text": [
      "Spi_contig00035\tsp\tP80204\tTGFR1_RAT\t69.77\t258\t78\t0\t2\t775\t244\t501\t2e-129\t  397\r\n",
      "Spi_contig00040\tsp\tQ35101\tCOX1_METSE\t82.85\t449\t72\t1\t605\t1936\t70\t518\t0.0\t  665\r\n",
      "Spi_contig00046\tsp\tE7EY42\tPTSS2_DANRE\t56.41\t234\t101\t1\t19\t720\t26\t258\t6e-91\t  281\r\n",
      "Spi_contig00075\tsp\tQ37556\tNU1M_METSE\t80.16\t247\t48\t1\t1719\t2456\t29\t275\t3e-104\t  333\r\n",
      "Spi_contig00094\tsp\tP00519\tABL1_HUMAN\t48.15\t54\t28\t0\t2494\t2333\t443\t496\t2e-09\t65.1\r\n",
      "Spi_contig00095\tsp\tP20693\tFCER2_MOUSE\t28.57\t203\t122\t5\t831\t229\t128\t309\t6e-18\t87.0\r\n",
      "Spi_contig00834\tsp\tP19615\tMYP_STRPU\t32.94\t598\t321\t18\t50\t1741\t132\t683\t2e-84\t  294\r\n",
      "Spi_contig04187\tsp\tQ9CYA0\tCREL2_MOUSE\t43.57\t140\t77\t2\t82\t501\t193\t330\t1e-27\t  110\r\n",
      "Spi_isotig00002\tsp\tQ5I2B1\tACTPG_OULOR\t56.49\t131\t56\t1\t1429\t1037\t7\t136\t6e-41\t  151\r\n",
      "Spi_isotig00005\tsp\tC9EIC7\tACTP1_URTCR\t51.67\t120\t57\t1\t1444\t1085\t54\t172\t2e-31\t  126\r\n"
     ]
    }
   ],
   "source": [
    "#Sorting Ahya Uniprot/Swissprot annotation file. This file was the result of work done in another notebook: Ahya_blast_anno.ipynb\n",
    "!sort Spist_blastx_uniprot_sql.tab | tail -n +2 > Spist_blastx_uniprot_sql.tab.sorted\n",
    "!head Spist_blastx_uniprot_sql.tab.sorted"
   ]
  },
  {
   "cell_type": "code",
   "execution_count": 3,
   "metadata": {
    "collapsed": false
   },
   "outputs": [
    {
     "name": "stdout",
     "output_type": "stream",
     "text": [
      "sort: open failed: Spist_GOSlim.tab: No such file or directory\r\n"
     ]
    }
   ],
   "source": [
    "#Sorting GOSlim annotation file. This file was the result of work done in another notebook: Spist_blast_anno.ipynb\n",
    "!sort Spist_GOSlim.tab | tail -n +2 > Spist_GOSlim.sorted\n",
    "!head Spist_GOSlim.sorted"
   ]
  },
  {
   "cell_type": "code",
   "execution_count": 17,
   "metadata": {
    "collapsed": false
   },
   "outputs": [
    {
     "name": "stdout",
     "output_type": "stream",
     "text": [
      "Spi_contig00032 \t 0.484363\r\n",
      "Spi_contig00035 \t 0.335179\r\n",
      "Spi_contig00040 \t 0.854266\r\n",
      "Spi_contig00044 \t 0.867137\r\n",
      "Spi_contig00046 \t 0.196592\r\n",
      "Spi_contig00075 \t 0.871739\r\n",
      "Spi_contig00091 \t 0.937628\r\n",
      "Spi_contig00094 \t 0.131292\r\n",
      "Spi_contig00095 \t 0.684932\r\n",
      "Spi_contig00098 \t 0.584255\r\n"
     ]
    }
   ],
   "source": [
    "#Sorting CpG file\n",
    "!sort ID_CpG > ID_CpG.sorted\n",
    "!head ID_CpG.sorted"
   ]
  },
  {
   "cell_type": "markdown",
   "metadata": {},
   "source": [
    "# For this analysis, *Symbiodinium* sequences were removed. Using file generated from Spist_zoox_removal.ipynb, ID_CpG.sorted2"
   ]
  },
  {
   "cell_type": "code",
   "execution_count": 3,
   "metadata": {
    "collapsed": true
   },
   "outputs": [],
   "source": [
    "!join ID_CpG.sorted2 Spist_blastx_uniprot_sql.tab.sorted | awk '{print $1, \"\\t\", $2}' > Spist_cpg_anno"
   ]
  },
  {
   "cell_type": "code",
   "execution_count": 5,
   "metadata": {
    "collapsed": false
   },
   "outputs": [
    {
     "name": "stdout",
     "output_type": "stream",
     "text": [
      "Spi_contig00035 \t 0.335179\n",
      "Spi_contig00040 \t 0.854266\n",
      "Spi_contig00046 \t 0.196592\n",
      "Spi_contig00075 \t 0.871739\n",
      "Spi_contig00094 \t 0.131292\n",
      "Spi_contig00095 \t 0.684932\n",
      "Spi_contig00834 \t 0.654594\n",
      "Spi_contig04187 \t 0.876088\n",
      "Spi_isotig00002 \t 0.910243\n",
      "Spi_isotig00005 \t 0.900018\n",
      "    7061   14122  189272 Spist_cpg_anno\n"
     ]
    }
   ],
   "source": [
    "!head Spist_cpg_anno\n",
    "!wc Spist_cpg_anno"
   ]
  },
  {
   "cell_type": "code",
   "execution_count": 4,
   "metadata": {
    "collapsed": false
   },
   "outputs": [],
   "source": [
    "!join ID_CpG.sorted2 Spist_GOSlim.sorted > Spist_cpg_GOslim"
   ]
  },
  {
   "cell_type": "code",
   "execution_count": 5,
   "metadata": {
    "collapsed": false
   },
   "outputs": [
    {
     "name": "stdout",
     "output_type": "stream",
     "text": [
      "Spi_contig00032 0.484363 cell cycle and proliferation\r\n",
      "Spi_contig00032 0.484363 cell organization and biogenesis\r\n",
      "Spi_contig00032 0.484363 developmental processes\r\n",
      "Spi_contig00032 0.484363 other biological processes\r\n",
      "Spi_contig00032 0.484363 protein metabolism\r\n",
      "Spi_contig00035 0.335179 cell cycle and proliferation\r\n",
      "Spi_contig00035 0.335179 cell organization and biogenesis\r\n",
      "Spi_contig00035 0.335179 death\r\n",
      "Spi_contig00035 0.335179 developmental processes\r\n",
      "Spi_contig00035 0.335179 other biological processes\r\n"
     ]
    }
   ],
   "source": [
    "!head Spist_cpg_GOslim"
   ]
  },
  {
   "cell_type": "code",
   "execution_count": 6,
   "metadata": {
    "collapsed": false
   },
   "outputs": [
    {
     "name": "stdout",
     "output_type": "stream",
     "text": [
      "Spi_contig00032 \t 0.484363 \t cell cycle and proliferation\r\n",
      "Spi_contig00032 \t 0.484363 \t cell organization and biogenesis\r\n",
      "Spi_contig00032 \t 0.484363 \t developmental processes  \r\n",
      "Spi_contig00032 \t 0.484363 \t other biological processes \r\n",
      "Spi_contig00032 \t 0.484363 \t protein metabolism  \r\n",
      "Spi_contig00035 \t 0.335179 \t cell cycle and proliferation\r\n",
      "Spi_contig00035 \t 0.335179 \t cell organization and biogenesis\r\n",
      "Spi_contig00035 \t 0.335179 \t death   \r\n",
      "Spi_contig00035 \t 0.335179 \t developmental processes  \r\n",
      "Spi_contig00035 \t 0.335179 \t other biological processes \r\n"
     ]
    }
   ],
   "source": [
    "#Putting tabs in between columns\n",
    "!awk '{print $1, \"\\t\", $2, \"\\t\", $3, $4, $5, $6}' Spist_cpg_GOslim > Spist_cpg_GOslim.tab\n",
    "!head Spist_cpg_GOslim.tab"
   ]
  },
  {
   "cell_type": "markdown",
   "metadata": {},
   "source": [
    "# Now time to plot data using pandas and matplot"
   ]
  },
  {
   "cell_type": "code",
   "execution_count": 7,
   "metadata": {
    "collapsed": false
   },
   "outputs": [],
   "source": [
    "import pandas as pd"
   ]
  },
  {
   "cell_type": "code",
   "execution_count": 8,
   "metadata": {
    "collapsed": false
   },
   "outputs": [
    {
     "data": {
      "text/html": [
       "<div style=\"max-height:1000px;max-width:1500px;overflow:auto;\">\n",
       "<table border=\"1\" class=\"dataframe\">\n",
       "  <thead>\n",
       "    <tr style=\"text-align: right;\">\n",
       "      <th></th>\n",
       "      <th>0</th>\n",
       "      <th>1</th>\n",
       "      <th>2</th>\n",
       "    </tr>\n",
       "  </thead>\n",
       "  <tbody>\n",
       "    <tr>\n",
       "      <th>0    </th>\n",
       "      <td> Spi_contig00032 </td>\n",
       "      <td> 0.484363</td>\n",
       "      <td>      cell cycle and proliferation</td>\n",
       "    </tr>\n",
       "    <tr>\n",
       "      <th>1    </th>\n",
       "      <td> Spi_contig00032 </td>\n",
       "      <td> 0.484363</td>\n",
       "      <td>  cell organization and biogenesis</td>\n",
       "    </tr>\n",
       "    <tr>\n",
       "      <th>2    </th>\n",
       "      <td> Spi_contig00032 </td>\n",
       "      <td> 0.484363</td>\n",
       "      <td>         developmental processes  </td>\n",
       "    </tr>\n",
       "    <tr>\n",
       "      <th>3    </th>\n",
       "      <td> Spi_contig00032 </td>\n",
       "      <td> 0.484363</td>\n",
       "      <td>       other biological processes </td>\n",
       "    </tr>\n",
       "    <tr>\n",
       "      <th>4    </th>\n",
       "      <td> Spi_contig00032 </td>\n",
       "      <td> 0.484363</td>\n",
       "      <td>              protein metabolism  </td>\n",
       "    </tr>\n",
       "    <tr>\n",
       "      <th>5    </th>\n",
       "      <td> Spi_contig00035 </td>\n",
       "      <td> 0.335179</td>\n",
       "      <td>      cell cycle and proliferation</td>\n",
       "    </tr>\n",
       "    <tr>\n",
       "      <th>6    </th>\n",
       "      <td> Spi_contig00035 </td>\n",
       "      <td> 0.335179</td>\n",
       "      <td>  cell organization and biogenesis</td>\n",
       "    </tr>\n",
       "    <tr>\n",
       "      <th>7    </th>\n",
       "      <td> Spi_contig00035 </td>\n",
       "      <td> 0.335179</td>\n",
       "      <td>                          death   </td>\n",
       "    </tr>\n",
       "    <tr>\n",
       "      <th>8    </th>\n",
       "      <td> Spi_contig00035 </td>\n",
       "      <td> 0.335179</td>\n",
       "      <td>         developmental processes  </td>\n",
       "    </tr>\n",
       "    <tr>\n",
       "      <th>9    </th>\n",
       "      <td> Spi_contig00035 </td>\n",
       "      <td> 0.335179</td>\n",
       "      <td>       other biological processes </td>\n",
       "    </tr>\n",
       "    <tr>\n",
       "      <th>10   </th>\n",
       "      <td> Spi_contig00035 </td>\n",
       "      <td> 0.335179</td>\n",
       "      <td>        other metabolic processes </td>\n",
       "    </tr>\n",
       "    <tr>\n",
       "      <th>11   </th>\n",
       "      <td> Spi_contig00035 </td>\n",
       "      <td> 0.335179</td>\n",
       "      <td>              protein metabolism  </td>\n",
       "    </tr>\n",
       "    <tr>\n",
       "      <th>12   </th>\n",
       "      <td> Spi_contig00035 </td>\n",
       "      <td> 0.335179</td>\n",
       "      <td>                  RNA metabolism  </td>\n",
       "    </tr>\n",
       "    <tr>\n",
       "      <th>13   </th>\n",
       "      <td> Spi_contig00035 </td>\n",
       "      <td> 0.335179</td>\n",
       "      <td>             signal transduction  </td>\n",
       "    </tr>\n",
       "    <tr>\n",
       "      <th>14   </th>\n",
       "      <td> Spi_contig00035 </td>\n",
       "      <td> 0.335179</td>\n",
       "      <td>                 stress response  </td>\n",
       "    </tr>\n",
       "    <tr>\n",
       "      <th>15   </th>\n",
       "      <td> Spi_contig00035 </td>\n",
       "      <td> 0.335179</td>\n",
       "      <td>                      transport   </td>\n",
       "    </tr>\n",
       "    <tr>\n",
       "      <th>16   </th>\n",
       "      <td> Spi_contig00040 </td>\n",
       "      <td> 0.854266</td>\n",
       "      <td>        other metabolic processes </td>\n",
       "    </tr>\n",
       "    <tr>\n",
       "      <th>17   </th>\n",
       "      <td> Spi_contig00040 </td>\n",
       "      <td> 0.854266</td>\n",
       "      <td>                      transport   </td>\n",
       "    </tr>\n",
       "    <tr>\n",
       "      <th>18   </th>\n",
       "      <td> Spi_contig00046 </td>\n",
       "      <td> 0.196592</td>\n",
       "      <td>        other metabolic processes </td>\n",
       "    </tr>\n",
       "    <tr>\n",
       "      <th>19   </th>\n",
       "      <td> Spi_contig00075 </td>\n",
       "      <td> 0.871739</td>\n",
       "      <td>        other metabolic processes </td>\n",
       "    </tr>\n",
       "    <tr>\n",
       "      <th>20   </th>\n",
       "      <td> Spi_contig00075 </td>\n",
       "      <td> 0.871739</td>\n",
       "      <td>                      transport   </td>\n",
       "    </tr>\n",
       "    <tr>\n",
       "      <th>21   </th>\n",
       "      <td> Spi_contig00094 </td>\n",
       "      <td> 0.131292</td>\n",
       "      <td>                   cell adhesion  </td>\n",
       "    </tr>\n",
       "    <tr>\n",
       "      <th>22   </th>\n",
       "      <td> Spi_contig00094 </td>\n",
       "      <td> 0.131292</td>\n",
       "      <td>      cell cycle and proliferation</td>\n",
       "    </tr>\n",
       "    <tr>\n",
       "      <th>23   </th>\n",
       "      <td> Spi_contig00094 </td>\n",
       "      <td> 0.131292</td>\n",
       "      <td>  cell organization and biogenesis</td>\n",
       "    </tr>\n",
       "    <tr>\n",
       "      <th>24   </th>\n",
       "      <td> Spi_contig00094 </td>\n",
       "      <td> 0.131292</td>\n",
       "      <td>                          death   </td>\n",
       "    </tr>\n",
       "    <tr>\n",
       "      <th>25   </th>\n",
       "      <td> Spi_contig00094 </td>\n",
       "      <td> 0.131292</td>\n",
       "      <td>         developmental processes  </td>\n",
       "    </tr>\n",
       "    <tr>\n",
       "      <th>26   </th>\n",
       "      <td> Spi_contig00094 </td>\n",
       "      <td> 0.131292</td>\n",
       "      <td>                  DNA metabolism  </td>\n",
       "    </tr>\n",
       "    <tr>\n",
       "      <th>27   </th>\n",
       "      <td> Spi_contig00094 </td>\n",
       "      <td> 0.131292</td>\n",
       "      <td>       other biological processes </td>\n",
       "    </tr>\n",
       "    <tr>\n",
       "      <th>28   </th>\n",
       "      <td> Spi_contig00094 </td>\n",
       "      <td> 0.131292</td>\n",
       "      <td>        other metabolic processes </td>\n",
       "    </tr>\n",
       "    <tr>\n",
       "      <th>29   </th>\n",
       "      <td> Spi_contig00094 </td>\n",
       "      <td> 0.131292</td>\n",
       "      <td>              protein metabolism  </td>\n",
       "    </tr>\n",
       "    <tr>\n",
       "      <th>...</th>\n",
       "      <td>...</td>\n",
       "      <td>...</td>\n",
       "      <td>...</td>\n",
       "    </tr>\n",
       "    <tr>\n",
       "      <th>13603</th>\n",
       "      <td> Spi_isotig14901 </td>\n",
       "      <td> 0.815894</td>\n",
       "      <td>        other metabolic processes </td>\n",
       "    </tr>\n",
       "    <tr>\n",
       "      <th>13604</th>\n",
       "      <td> Spi_isotig14913 </td>\n",
       "      <td> 0.841359</td>\n",
       "      <td>             signal transduction  </td>\n",
       "    </tr>\n",
       "    <tr>\n",
       "      <th>13605</th>\n",
       "      <td> Spi_isotig14926 </td>\n",
       "      <td> 0.391261</td>\n",
       "      <td>              protein metabolism  </td>\n",
       "    </tr>\n",
       "    <tr>\n",
       "      <th>13606</th>\n",
       "      <td> Spi_isotig14932 </td>\n",
       "      <td> 0.626017</td>\n",
       "      <td>              protein metabolism  </td>\n",
       "    </tr>\n",
       "    <tr>\n",
       "      <th>13607</th>\n",
       "      <td> Spi_isotig14936 </td>\n",
       "      <td> 0.253558</td>\n",
       "      <td>        other metabolic processes </td>\n",
       "    </tr>\n",
       "    <tr>\n",
       "      <th>13608</th>\n",
       "      <td> Spi_isotig14955 </td>\n",
       "      <td> 0.534380</td>\n",
       "      <td>      cell cycle and proliferation</td>\n",
       "    </tr>\n",
       "    <tr>\n",
       "      <th>13609</th>\n",
       "      <td> Spi_isotig14955 </td>\n",
       "      <td> 0.534380</td>\n",
       "      <td>  cell organization and biogenesis</td>\n",
       "    </tr>\n",
       "    <tr>\n",
       "      <th>13610</th>\n",
       "      <td> Spi_isotig14955 </td>\n",
       "      <td> 0.534380</td>\n",
       "      <td>         developmental processes  </td>\n",
       "    </tr>\n",
       "    <tr>\n",
       "      <th>13611</th>\n",
       "      <td> Spi_isotig14956 </td>\n",
       "      <td> 0.431596</td>\n",
       "      <td>              protein metabolism  </td>\n",
       "    </tr>\n",
       "    <tr>\n",
       "      <th>13612</th>\n",
       "      <td> Spi_isotig14959 </td>\n",
       "      <td> 0.958655</td>\n",
       "      <td>  cell organization and biogenesis</td>\n",
       "    </tr>\n",
       "    <tr>\n",
       "      <th>13613</th>\n",
       "      <td> Spi_isotig14962 </td>\n",
       "      <td> 0.348816</td>\n",
       "      <td>        other metabolic processes </td>\n",
       "    </tr>\n",
       "    <tr>\n",
       "      <th>13614</th>\n",
       "      <td> Spi_isotig14962 </td>\n",
       "      <td> 0.348816</td>\n",
       "      <td>                      transport   </td>\n",
       "    </tr>\n",
       "    <tr>\n",
       "      <th>13615</th>\n",
       "      <td> Spi_isotig14966 </td>\n",
       "      <td> 0.683519</td>\n",
       "      <td>              protein metabolism  </td>\n",
       "    </tr>\n",
       "    <tr>\n",
       "      <th>13616</th>\n",
       "      <td> Spi_isotig14969 </td>\n",
       "      <td> 0.480887</td>\n",
       "      <td>                  DNA metabolism  </td>\n",
       "    </tr>\n",
       "    <tr>\n",
       "      <th>13617</th>\n",
       "      <td> Spi_isotig14969 </td>\n",
       "      <td> 0.480887</td>\n",
       "      <td>              protein metabolism  </td>\n",
       "    </tr>\n",
       "    <tr>\n",
       "      <th>13618</th>\n",
       "      <td> Spi_isotig14969 </td>\n",
       "      <td> 0.480887</td>\n",
       "      <td>             signal transduction  </td>\n",
       "    </tr>\n",
       "    <tr>\n",
       "      <th>13619</th>\n",
       "      <td> Spi_isotig14969 </td>\n",
       "      <td> 0.480887</td>\n",
       "      <td>                 stress response  </td>\n",
       "    </tr>\n",
       "    <tr>\n",
       "      <th>13620</th>\n",
       "      <td> Spi_isotig14970 </td>\n",
       "      <td> 0.269739</td>\n",
       "      <td>  cell organization and biogenesis</td>\n",
       "    </tr>\n",
       "    <tr>\n",
       "      <th>13621</th>\n",
       "      <td> Spi_isotig14970 </td>\n",
       "      <td> 0.269739</td>\n",
       "      <td>       other biological processes </td>\n",
       "    </tr>\n",
       "    <tr>\n",
       "      <th>13622</th>\n",
       "      <td> Spi_isotig14970 </td>\n",
       "      <td> 0.269739</td>\n",
       "      <td>        other metabolic processes </td>\n",
       "    </tr>\n",
       "    <tr>\n",
       "      <th>13623</th>\n",
       "      <td> Spi_isotig14970 </td>\n",
       "      <td> 0.269739</td>\n",
       "      <td>                  RNA metabolism  </td>\n",
       "    </tr>\n",
       "    <tr>\n",
       "      <th>13624</th>\n",
       "      <td> Spi_isotig14970 </td>\n",
       "      <td> 0.269739</td>\n",
       "      <td>                 stress response  </td>\n",
       "    </tr>\n",
       "    <tr>\n",
       "      <th>13625</th>\n",
       "      <td> Spi_isotig14981 </td>\n",
       "      <td> 0.202625</td>\n",
       "      <td>             signal transduction  </td>\n",
       "    </tr>\n",
       "    <tr>\n",
       "      <th>13626</th>\n",
       "      <td> Spi_isotig14993 </td>\n",
       "      <td> 0.663237</td>\n",
       "      <td>                          death   </td>\n",
       "    </tr>\n",
       "    <tr>\n",
       "      <th>13627</th>\n",
       "      <td> Spi_isotig14993 </td>\n",
       "      <td> 0.663237</td>\n",
       "      <td>       other biological processes </td>\n",
       "    </tr>\n",
       "    <tr>\n",
       "      <th>13628</th>\n",
       "      <td> Spi_isotig14993 </td>\n",
       "      <td> 0.663237</td>\n",
       "      <td>                 stress response  </td>\n",
       "    </tr>\n",
       "    <tr>\n",
       "      <th>13629</th>\n",
       "      <td> Spi_isotig14993 </td>\n",
       "      <td> 0.663237</td>\n",
       "      <td>                      transport   </td>\n",
       "    </tr>\n",
       "    <tr>\n",
       "      <th>13630</th>\n",
       "      <td> Spi_isotig14997 </td>\n",
       "      <td> 0.264544</td>\n",
       "      <td>        other metabolic processes </td>\n",
       "    </tr>\n",
       "    <tr>\n",
       "      <th>13631</th>\n",
       "      <td> Spi_isotig14998 </td>\n",
       "      <td> 0.575532</td>\n",
       "      <td>       other biological processes </td>\n",
       "    </tr>\n",
       "    <tr>\n",
       "      <th>13632</th>\n",
       "      <td> Spi_isotig15025 </td>\n",
       "      <td> 0.885773</td>\n",
       "      <td>              protein metabolism  </td>\n",
       "    </tr>\n",
       "  </tbody>\n",
       "</table>\n",
       "<p>13633 rows × 3 columns</p>\n",
       "</div>"
      ],
      "text/plain": [
       "                      0         1                                  2\n",
       "0      Spi_contig00032   0.484363       cell cycle and proliferation\n",
       "1      Spi_contig00032   0.484363   cell organization and biogenesis\n",
       "2      Spi_contig00032   0.484363          developmental processes  \n",
       "3      Spi_contig00032   0.484363        other biological processes \n",
       "4      Spi_contig00032   0.484363               protein metabolism  \n",
       "5      Spi_contig00035   0.335179       cell cycle and proliferation\n",
       "6      Spi_contig00035   0.335179   cell organization and biogenesis\n",
       "7      Spi_contig00035   0.335179                           death   \n",
       "8      Spi_contig00035   0.335179          developmental processes  \n",
       "9      Spi_contig00035   0.335179        other biological processes \n",
       "10     Spi_contig00035   0.335179         other metabolic processes \n",
       "11     Spi_contig00035   0.335179               protein metabolism  \n",
       "12     Spi_contig00035   0.335179                   RNA metabolism  \n",
       "13     Spi_contig00035   0.335179              signal transduction  \n",
       "14     Spi_contig00035   0.335179                  stress response  \n",
       "15     Spi_contig00035   0.335179                       transport   \n",
       "16     Spi_contig00040   0.854266         other metabolic processes \n",
       "17     Spi_contig00040   0.854266                       transport   \n",
       "18     Spi_contig00046   0.196592         other metabolic processes \n",
       "19     Spi_contig00075   0.871739         other metabolic processes \n",
       "20     Spi_contig00075   0.871739                       transport   \n",
       "21     Spi_contig00094   0.131292                    cell adhesion  \n",
       "22     Spi_contig00094   0.131292       cell cycle and proliferation\n",
       "23     Spi_contig00094   0.131292   cell organization and biogenesis\n",
       "24     Spi_contig00094   0.131292                           death   \n",
       "25     Spi_contig00094   0.131292          developmental processes  \n",
       "26     Spi_contig00094   0.131292                   DNA metabolism  \n",
       "27     Spi_contig00094   0.131292        other biological processes \n",
       "28     Spi_contig00094   0.131292         other metabolic processes \n",
       "29     Spi_contig00094   0.131292               protein metabolism  \n",
       "...                 ...       ...                                ...\n",
       "13603  Spi_isotig14901   0.815894         other metabolic processes \n",
       "13604  Spi_isotig14913   0.841359              signal transduction  \n",
       "13605  Spi_isotig14926   0.391261               protein metabolism  \n",
       "13606  Spi_isotig14932   0.626017               protein metabolism  \n",
       "13607  Spi_isotig14936   0.253558         other metabolic processes \n",
       "13608  Spi_isotig14955   0.534380       cell cycle and proliferation\n",
       "13609  Spi_isotig14955   0.534380   cell organization and biogenesis\n",
       "13610  Spi_isotig14955   0.534380          developmental processes  \n",
       "13611  Spi_isotig14956   0.431596               protein metabolism  \n",
       "13612  Spi_isotig14959   0.958655   cell organization and biogenesis\n",
       "13613  Spi_isotig14962   0.348816         other metabolic processes \n",
       "13614  Spi_isotig14962   0.348816                       transport   \n",
       "13615  Spi_isotig14966   0.683519               protein metabolism  \n",
       "13616  Spi_isotig14969   0.480887                   DNA metabolism  \n",
       "13617  Spi_isotig14969   0.480887               protein metabolism  \n",
       "13618  Spi_isotig14969   0.480887              signal transduction  \n",
       "13619  Spi_isotig14969   0.480887                  stress response  \n",
       "13620  Spi_isotig14970   0.269739   cell organization and biogenesis\n",
       "13621  Spi_isotig14970   0.269739        other biological processes \n",
       "13622  Spi_isotig14970   0.269739         other metabolic processes \n",
       "13623  Spi_isotig14970   0.269739                   RNA metabolism  \n",
       "13624  Spi_isotig14970   0.269739                  stress response  \n",
       "13625  Spi_isotig14981   0.202625              signal transduction  \n",
       "13626  Spi_isotig14993   0.663237                           death   \n",
       "13627  Spi_isotig14993   0.663237        other biological processes \n",
       "13628  Spi_isotig14993   0.663237                  stress response  \n",
       "13629  Spi_isotig14993   0.663237                       transport   \n",
       "13630  Spi_isotig14997   0.264544         other metabolic processes \n",
       "13631  Spi_isotig14998   0.575532        other biological processes \n",
       "13632  Spi_isotig15025   0.885773               protein metabolism  \n",
       "\n",
       "[13633 rows x 3 columns]"
      ]
     },
     "execution_count": 8,
     "metadata": {},
     "output_type": "execute_result"
    }
   ],
   "source": [
    "jData = pd.read_table('Spist_cpg_GOslim.tab', header=None)\n",
    "jData"
   ]
  },
  {
   "cell_type": "code",
   "execution_count": 9,
   "metadata": {
    "collapsed": false
   },
   "outputs": [],
   "source": [
    "%matplotlib inline"
   ]
  },
  {
   "cell_type": "code",
   "execution_count": 10,
   "metadata": {
    "collapsed": false
   },
   "outputs": [],
   "source": [
    "import matplotlib.pyplot as plt "
   ]
  },
  {
   "cell_type": "code",
   "execution_count": 11,
   "metadata": {
    "collapsed": false
   },
   "outputs": [
    {
     "data": {
      "image/png": "[encoded data removed]",
      "text/plain": [
       "<matplotlib.figure.Figure at 0x107e4b490>"
      ]
     },
     "metadata": {},
     "output_type": "display_data"
    }
   ],
   "source": [
    "jData.groupby(2)[1].mean().plot(kind='barh', color=list('myb'))\n",
    "plt.axis([0.5, 0.75, -1, 14])\n",
    "plt.xlabel('')\n",
    "plt.ylabel('')\n",
    "plt.show()"
   ]
  },
  {
   "cell_type": "code",
   "execution_count": 13,
   "metadata": {
    "collapsed": false
   },
   "outputs": [
    {
     "name": "stdout",
     "output_type": "stream",
     "text": [
      "0.484363\r\n",
      "0.335179\r\n",
      "0.854266\r\n",
      "0.867137\r\n",
      "0.196592\r\n",
      "0.871739\r\n",
      "0.937628\r\n",
      "0.131292\r\n",
      "0.684932\r\n",
      "0.584255\r\n"
     ]
    }
   ],
   "source": [
    "##To plot density curve, must use CpG data WITHOUT annotation. Also must remove \"-nan\" in order to plot.\n",
    "!awk '{print $2}' ID_CpG.sorted2 | sed '/-nan/d' > CpG\n",
    "!head CpG"
   ]
  },
  {
   "cell_type": "code",
   "execution_count": 14,
   "metadata": {
    "collapsed": false
   },
   "outputs": [
    {
     "data": {
      "text/html": [
       "<div style=\"max-height:1000px;max-width:1500px;overflow:auto;\">\n",
       "<table border=\"1\" class=\"dataframe\">\n",
       "  <thead>\n",
       "    <tr style=\"text-align: right;\">\n",
       "      <th></th>\n",
       "      <th>0</th>\n",
       "    </tr>\n",
       "  </thead>\n",
       "  <tbody>\n",
       "    <tr>\n",
       "      <th>0    </th>\n",
       "      <td> 0.484363</td>\n",
       "    </tr>\n",
       "    <tr>\n",
       "      <th>1    </th>\n",
       "      <td> 0.335179</td>\n",
       "    </tr>\n",
       "    <tr>\n",
       "      <th>2    </th>\n",
       "      <td> 0.854266</td>\n",
       "    </tr>\n",
       "    <tr>\n",
       "      <th>3    </th>\n",
       "      <td> 0.867137</td>\n",
       "    </tr>\n",
       "    <tr>\n",
       "      <th>4    </th>\n",
       "      <td> 0.196592</td>\n",
       "    </tr>\n",
       "    <tr>\n",
       "      <th>5    </th>\n",
       "      <td> 0.871739</td>\n",
       "    </tr>\n",
       "    <tr>\n",
       "      <th>6    </th>\n",
       "      <td> 0.937628</td>\n",
       "    </tr>\n",
       "    <tr>\n",
       "      <th>7    </th>\n",
       "      <td> 0.131292</td>\n",
       "    </tr>\n",
       "    <tr>\n",
       "      <th>8    </th>\n",
       "      <td> 0.684932</td>\n",
       "    </tr>\n",
       "    <tr>\n",
       "      <th>9    </th>\n",
       "      <td> 0.584255</td>\n",
       "    </tr>\n",
       "    <tr>\n",
       "      <th>10   </th>\n",
       "      <td> 0.857523</td>\n",
       "    </tr>\n",
       "    <tr>\n",
       "      <th>11   </th>\n",
       "      <td> 1.046390</td>\n",
       "    </tr>\n",
       "    <tr>\n",
       "      <th>12   </th>\n",
       "      <td> 0.981477</td>\n",
       "    </tr>\n",
       "    <tr>\n",
       "      <th>13   </th>\n",
       "      <td> 0.654594</td>\n",
       "    </tr>\n",
       "    <tr>\n",
       "      <th>14   </th>\n",
       "      <td> 0.631948</td>\n",
       "    </tr>\n",
       "    <tr>\n",
       "      <th>15   </th>\n",
       "      <td> 0.798651</td>\n",
       "    </tr>\n",
       "    <tr>\n",
       "      <th>16   </th>\n",
       "      <td> 0.876088</td>\n",
       "    </tr>\n",
       "    <tr>\n",
       "      <th>17   </th>\n",
       "      <td> 0.926440</td>\n",
       "    </tr>\n",
       "    <tr>\n",
       "      <th>18   </th>\n",
       "      <td> 0.910725</td>\n",
       "    </tr>\n",
       "    <tr>\n",
       "      <th>19   </th>\n",
       "      <td> 0.910243</td>\n",
       "    </tr>\n",
       "    <tr>\n",
       "      <th>20   </th>\n",
       "      <td> 0.896155</td>\n",
       "    </tr>\n",
       "    <tr>\n",
       "      <th>21   </th>\n",
       "      <td> 0.895683</td>\n",
       "    </tr>\n",
       "    <tr>\n",
       "      <th>22   </th>\n",
       "      <td> 0.900018</td>\n",
       "    </tr>\n",
       "    <tr>\n",
       "      <th>23   </th>\n",
       "      <td> 0.844576</td>\n",
       "    </tr>\n",
       "    <tr>\n",
       "      <th>24   </th>\n",
       "      <td> 0.932216</td>\n",
       "    </tr>\n",
       "    <tr>\n",
       "      <th>25   </th>\n",
       "      <td> 0.987775</td>\n",
       "    </tr>\n",
       "    <tr>\n",
       "      <th>26   </th>\n",
       "      <td> 0.987220</td>\n",
       "    </tr>\n",
       "    <tr>\n",
       "      <th>27   </th>\n",
       "      <td> 0.908013</td>\n",
       "    </tr>\n",
       "    <tr>\n",
       "      <th>28   </th>\n",
       "      <td> 0.972397</td>\n",
       "    </tr>\n",
       "    <tr>\n",
       "      <th>29   </th>\n",
       "      <td> 0.971853</td>\n",
       "    </tr>\n",
       "    <tr>\n",
       "      <th>...</th>\n",
       "      <td>...</td>\n",
       "    </tr>\n",
       "    <tr>\n",
       "      <th>14883</th>\n",
       "      <td> 0.077346</td>\n",
       "    </tr>\n",
       "    <tr>\n",
       "      <th>14884</th>\n",
       "      <td> 0.995899</td>\n",
       "    </tr>\n",
       "    <tr>\n",
       "      <th>14885</th>\n",
       "      <td> 0.805340</td>\n",
       "    </tr>\n",
       "    <tr>\n",
       "      <th>14886</th>\n",
       "      <td> 0.193988</td>\n",
       "    </tr>\n",
       "    <tr>\n",
       "      <th>14887</th>\n",
       "      <td> 1.762730</td>\n",
       "    </tr>\n",
       "    <tr>\n",
       "      <th>14888</th>\n",
       "      <td> 1.116090</td>\n",
       "    </tr>\n",
       "    <tr>\n",
       "      <th>14889</th>\n",
       "      <td> 0.735748</td>\n",
       "    </tr>\n",
       "    <tr>\n",
       "      <th>14890</th>\n",
       "      <td> 0.629234</td>\n",
       "    </tr>\n",
       "    <tr>\n",
       "      <th>14891</th>\n",
       "      <td> 1.161310</td>\n",
       "    </tr>\n",
       "    <tr>\n",
       "      <th>14892</th>\n",
       "      <td> 0.552857</td>\n",
       "    </tr>\n",
       "    <tr>\n",
       "      <th>14893</th>\n",
       "      <td> 0.122963</td>\n",
       "    </tr>\n",
       "    <tr>\n",
       "      <th>14894</th>\n",
       "      <td> 0.717703</td>\n",
       "    </tr>\n",
       "    <tr>\n",
       "      <th>14895</th>\n",
       "      <td> 0.896540</td>\n",
       "    </tr>\n",
       "    <tr>\n",
       "      <th>14896</th>\n",
       "      <td> 1.407900</td>\n",
       "    </tr>\n",
       "    <tr>\n",
       "      <th>14897</th>\n",
       "      <td> 0.808355</td>\n",
       "    </tr>\n",
       "    <tr>\n",
       "      <th>14898</th>\n",
       "      <td> 0.322698</td>\n",
       "    </tr>\n",
       "    <tr>\n",
       "      <th>14899</th>\n",
       "      <td> 1.115180</td>\n",
       "    </tr>\n",
       "    <tr>\n",
       "      <th>14900</th>\n",
       "      <td> 0.466681</td>\n",
       "    </tr>\n",
       "    <tr>\n",
       "      <th>14901</th>\n",
       "      <td> 0.419544</td>\n",
       "    </tr>\n",
       "    <tr>\n",
       "      <th>14902</th>\n",
       "      <td> 0.427099</td>\n",
       "    </tr>\n",
       "    <tr>\n",
       "      <th>14903</th>\n",
       "      <td> 0.843343</td>\n",
       "    </tr>\n",
       "    <tr>\n",
       "      <th>14904</th>\n",
       "      <td> 0.790032</td>\n",
       "    </tr>\n",
       "    <tr>\n",
       "      <th>14905</th>\n",
       "      <td> 0.885773</td>\n",
       "    </tr>\n",
       "    <tr>\n",
       "      <th>14906</th>\n",
       "      <td> 0.000000</td>\n",
       "    </tr>\n",
       "    <tr>\n",
       "      <th>14907</th>\n",
       "      <td> 1.242950</td>\n",
       "    </tr>\n",
       "    <tr>\n",
       "      <th>14908</th>\n",
       "      <td> 1.104080</td>\n",
       "    </tr>\n",
       "    <tr>\n",
       "      <th>14909</th>\n",
       "      <td> 0.430511</td>\n",
       "    </tr>\n",
       "    <tr>\n",
       "      <th>14910</th>\n",
       "      <td> 0.640071</td>\n",
       "    </tr>\n",
       "    <tr>\n",
       "      <th>14911</th>\n",
       "      <td> 0.899106</td>\n",
       "    </tr>\n",
       "    <tr>\n",
       "      <th>14912</th>\n",
       "      <td> 0.506757</td>\n",
       "    </tr>\n",
       "  </tbody>\n",
       "</table>\n",
       "<p>14913 rows × 1 columns</p>\n",
       "</div>"
      ],
      "text/plain": [
       "              0\n",
       "0      0.484363\n",
       "1      0.335179\n",
       "2      0.854266\n",
       "3      0.867137\n",
       "4      0.196592\n",
       "5      0.871739\n",
       "6      0.937628\n",
       "7      0.131292\n",
       "8      0.684932\n",
       "9      0.584255\n",
       "10     0.857523\n",
       "11     1.046390\n",
       "12     0.981477\n",
       "13     0.654594\n",
       "14     0.631948\n",
       "15     0.798651\n",
       "16     0.876088\n",
       "17     0.926440\n",
       "18     0.910725\n",
       "19     0.910243\n",
       "20     0.896155\n",
       "21     0.895683\n",
       "22     0.900018\n",
       "23     0.844576\n",
       "24     0.932216\n",
       "25     0.987775\n",
       "26     0.987220\n",
       "27     0.908013\n",
       "28     0.972397\n",
       "29     0.971853\n",
       "...         ...\n",
       "14883  0.077346\n",
       "14884  0.995899\n",
       "14885  0.805340\n",
       "14886  0.193988\n",
       "14887  1.762730\n",
       "14888  1.116090\n",
       "14889  0.735748\n",
       "14890  0.629234\n",
       "14891  1.161310\n",
       "14892  0.552857\n",
       "14893  0.122963\n",
       "14894  0.717703\n",
       "14895  0.896540\n",
       "14896  1.407900\n",
       "14897  0.808355\n",
       "14898  0.322698\n",
       "14899  1.115180\n",
       "14900  0.466681\n",
       "14901  0.419544\n",
       "14902  0.427099\n",
       "14903  0.843343\n",
       "14904  0.790032\n",
       "14905  0.885773\n",
       "14906  0.000000\n",
       "14907  1.242950\n",
       "14908  1.104080\n",
       "14909  0.430511\n",
       "14910  0.640071\n",
       "14911  0.899106\n",
       "14912  0.506757\n",
       "\n",
       "[14913 rows x 1 columns]"
      ]
     },
     "execution_count": 14,
     "metadata": {},
     "output_type": "execute_result"
    }
   ],
   "source": [
    "#To plot density curve, must use CpG data with original annotation\n",
    "CpG = pd.read_table('Spist_cpg_anno', header=None, )\n",
    "CpG"
   ]
  },
  {
   "cell_type": "code",
   "execution_count": 15,
   "metadata": {
    "collapsed": false
   },
   "outputs": [
    {
     "data": {
      "text/plain": [
       "[-0.3, 1.7, 0, 1.7]"
      ]
     },
     "execution_count": 15,
     "metadata": {},
     "output_type": "execute_result"
    },
    {
     "data": {
      "image/png": "[encoded data removed]",
      "text/plain": [
       "<matplotlib.figure.Figure at 0x107e4b350>"
      ]
     },
     "metadata": {},
     "output_type": "display_data"
    }
   ],
   "source": [
    "# pandas density plot\n",
    "CpG[0].plot(kind='kde', linewidth=3);\n",
    "plt.axis([-0.3, 1.7, 0, 1.7])"
   ]
  },
  {
   "cell_type": "code",
   "execution_count": null,
   "metadata": {
    "collapsed": true
   },
   "outputs": [],
   "source": []
  }
 ],
 "metadata": {
  "kernelspec": {
   "display_name": "Python 2",
   "language": "python",
   "name": "python2"
  },
  "language_info": {
   "codemirror_mode": {
    "name": "ipython",
    "version": 2
   },
   "file_extension": ".py",
   "mimetype": "text/x-python",
   "name": "python",
   "nbconvert_exporter": "python",
   "pygments_lexer": "ipython2",
   "version": "2.7.9"
  }
 },
 "nbformat": 4,
 "nbformat_minor": 0
}
