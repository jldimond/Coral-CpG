{
 "cells": [
  {
   "cell_type": "markdown",
   "metadata": {},
   "source": [
    "# Calculating CpG ratio for the *Porites astreoides* transcriptome"
   ]
  },
  {
   "cell_type": "markdown",
   "metadata": {},
   "source": [
    "This workflow calculates CpG ratio, or CpG O/E, for contigs in the *Porites astreoides* [transcriptome](https://dl.dropboxusercontent.com/u/37523721/pastreoides_transcriptome_july2014.zip). CpG ratio is an estimate of germline DNA methylation.\n",
    "\n",
    "This workflow is an extension of another IPython notebook workflow, `Past_blast_anno.ipynb`, that generates an annotation of the same transcriptome. This workflow assumes that you have created the directories and files specified in the annotation workflow."
   ]
  },
  {
   "cell_type": "code",
   "execution_count": 2,
   "metadata": {
    "collapsed": false
   },
   "outputs": [
    {
     "name": "stdout",
     "output_type": "stream",
     "text": [
      "/Users/jd/Documents/Projects/Coral-CpG-ratio-MS/data/Past\n"
     ]
    }
   ],
   "source": [
    "cd .data/Past"
   ]
  },
  {
   "cell_type": "code",
   "execution_count": 3,
   "metadata": {
    "collapsed": false
   },
   "outputs": [
    {
     "name": "stdout",
     "output_type": "stream",
     "text": [
      ">GCKDGN101CF7JK gene=GCKDGN101CF7JK\n",
      "GCAGTTCACATGACCCGAGGCTAGGAGATCCCATGAGATAGCACAGTGCAAGCGTGACTCATTGCACATGTGCTTGCAACGCGACTGGCGTCTTCTCGACGAGCTCCTGAGTATTTTCACAAGATTGGCCCCTATTTCTCAATGCCGTTGGGAAAATTATTGGGCCGTAGAAAACAGAATATCACACTAATGTAGTTGGTAGGTTAGCAAAACCAGTACCAGC\n",
      "\n",
      "number of seqs =\n",
      "30740\n"
     ]
    }
   ],
   "source": [
    "#fasta file\n",
    "!head -2 Past.fasta\n",
    "!echo \n",
    "!echo number of seqs =\n",
    "!fgrep -c \">\" Past.fasta"
   ]
  },
  {
   "cell_type": "code",
   "execution_count": 4,
   "metadata": {
    "collapsed": false
   },
   "outputs": [
    {
     "name": "stdout",
     "output_type": "stream",
     "text": [
      ">GCKDGN101CF7JK\n",
      "GCAGTTCACATGACCCGAGGCTAGGAGATCCCATGAGATAGCACAGTGCAAGCGTGACTCATTGCACATGTGCTTGCAACGCGACTGGCGTCTTCTCGACGAGCTCCTGAGTATTTTCACAAGATTGGCCCCTATTTCTCAATGCCGTTGGGAAAATTATTGGGCCGTAGAAAACAGAATATCACACTAATGTAGTTGGTAGGTTAGCAAAACCAGTACCAGC\n",
      ">GCKDGN101CAZ1A\n",
      "GCAGTTGACTGTCATTTCCCAGGGGACGATACAGTGCCACCACAATGACGTACTTACCGCTGGGGCTTGGCGCTGCCCCCATGCCTAGCTGATTGGTGTCTCTCCATATCATCTGTGTGAAGTGCTTTACTTTGTCATTGAGAACTGGATAGGAGAAGCTGTACGCTTTCTTCTCGCCGTACCATATAGTCGTGGCCTTGAGAGGTGCTCTCTGCAGATCGTGCCATATCTGTGCAATGTTTTCACCCGCTGGCTCGCCTTGGAAAGTGGACGGGTCACTGGCTACAGACTCTGCTATATTCTGCGCTTGTTCTGCTAGAGTGGCATTCCATTGTAAAGGGNGGACGTGATGAAGTGATCTGA\n",
      ">GCKDGN101ANI4S\n",
      "TGTCCTGTCTTTCTTCGTTGTTCTTCTTGACCTGCTATACACATTAAACCACTCTGGGTGATGATCCATCTTCTCCGACATGAGAGCCACGCGGCTCATGAAACCAAATGCCTGGTTGAAATTCTTGAACTTAAACTCTTTGTAAATGGCATCACGGCCTTCGACATCAGTCCACCCTGAGGACTTCAGAGGCTGAACCTCTGTTTCCCTTTCC\n",
      ">GCKDGN101BV6U3\n",
      "GCAGTATAGTCGTAGTTGATAGCGCATGGGTAGCATGTCTGGTGCGCAGGGCGCCAGTGCATATCCCACATAAACTTATTTGGCGATGTGTCAATGTATGACGTAAATTCGTCAAACGTTGGCCCAGAACACTCAACGCAACTGTCTGTTTTTCCCGCAGAACGACGAACCTTATTGACTATATCTCTGCCTAGCTTATTATACAATTGAGTCGTTTTTCCGACGAACTTGTCCCTATAGGCTGATAACAGTCTTTCGAAAGGTTCCCAAACAAAGA\n",
      ">GCKDGN101BQG8Q\n",
      "GCAGTATAACAGTAAATTGTTTCTACTCTCCACTTACCAAAGGAAACCATCAATATGACTGCCGTTTCTTTCTTTCAGTTCCATGTCTCGGTTACATTGAGCGCAGATCAGCGGGTTTGCCAAAAGAGATCGTTGTTGAAGCCACTGAATCAAATTGAGGCGTGGGCCCCGTTGCAAATCAATACATTCGTAAAGATCCATCTCCTTTATCATACGATGGTGCAAACGTCACTTAAATCGACTACCAAAATAGGGAGTAAAAACAGACCAGCTTATTCGAGGGTGGAGAAGTCCTATTAATCAACAATTCTTATGTATATGCGTAAGAGAAGACCGACTCCAGTGAACTACGTTTTGATTGGTTGAGGGTGATGTGGTGAAATAATTCTCATGTGAGCTCGTTTTGTTATCA\n",
      ">isotig29249\n",
      "TAGGAAGTGCTTTGAAACAAGCTATAGCAGTGCCAATACAATACAGTCGAACCTGtATTAAGCGGACACCCTCTATTAAGCGGACAGTAGCCGAAGTCCCAAAATTaCTTGAAATGAAACCTTTATtAAGCGGACACCTCTACTAAGCGGACGCGGACACCTAAAAaGTACCTGAAATGGTCATTTCTATtGTTTCCAACCTGTATTAAACGGACACTTGTAATTAAATTCCACCACCCAACgTgctAG\n",
      ">isotig32730\n",
      "AaTGGaCACGcTtCTTGTTTAAGACAGGAATACTGtCaTAAAAGATGTCCATTAaCATGGTTTTTCCACTTCCcAcTCCTCCGTGGAGATAGaGTCCCTGAGgTGCTTCCTGTGGTTGTGAat\n",
      ">isotig30623\n",
      "AACAAAGCCCAGCCAAGAATCACCGTGTAGTAAATGTTGATATACTGCATTACAAGCACACCGGCATAGCCAATTCCTtGGAAAagTGGACAGATTTtCCAAGCCGTGaTTCcACcTTgaCTCGTATATTGCCCCAGACCaatctccatcactaaaacgggtacaccagccacaatcaaacaaagcaagtagggaatgagaaaacaacc\n",
      ">isotig30838\n",
      "ACAGTCTGACTGTTGGAAGTGTGAAaGTTGATTTaCTTTGTAGAACTTTGCACTTGTAAGcctGTTTGTCatgtcttatgtgagaatttaaaggggctgtgtcatggatgtcaagttcattttctcaacattgcaaattatgcttccttatgcgctacagaacttaacaatagcgaaaagaaattaccaaatgataaaaca\n",
      ">isotig32258\n",
      "GCAGTTTGAAGTGTAATTTTAATATCATTTTtGGCTAAACTCTAGCTCCAGGCTCCTCTCTGTGCAATACCTCGACAACAAAGTTACCTGCATGAACTGAAAACTCTATTATAGTAGAGTTCATGGTCAAACTCAGTTGGGAGCA\n"
     ]
    }
   ],
   "source": [
    "#Just printing first line w/out comments and looking at contig names\n",
    "!awk '{print $1}' Past.fasta > Past2.fasta\n",
    "!head -10 Past2.fasta\n",
    "!tail -10 Past2.fasta"
   ]
  },
  {
   "cell_type": "code",
   "execution_count": 5,
   "metadata": {
    "collapsed": false
   },
   "outputs": [
    {
     "name": "stdout",
     "output_type": "stream",
     "text": [
      "\r\n",
      "Converted 30740 FASTA records in 61480 lines to tabular format\r\n",
      "Total sequence length: 16907062\r\n",
      "\r\n"
     ]
    }
   ],
   "source": [
    "#Converting FASTA to tabular format and placing output file in analyses directory\n",
    "!perl -e '$count=0; $len=0; while(<>) {s/\\r?\\n//; s/\\t/ /g; if (s/^>//) { if ($. != 1) {print \"\\n\"} s/ |$/\\t/; $count++; $_ .= \"\\t\";} else {s/ //g; $len += length($_)} print $_;} print \"\\n\"; warn \"\\nConverted $count FASTA records in $. lines to tabular format\\nTotal sequence length: $len\\n\\n\";' \\\n",
    "Past2.fasta > ../../analyses/Past/fasta2tab"
   ]
  },
  {
   "cell_type": "code",
   "execution_count": 1,
   "metadata": {
    "collapsed": false
   },
   "outputs": [
    {
     "name": "stdout",
     "output_type": "stream",
     "text": [
      "/Users/jd/Documents/Projects/Coral-CpG-ratio-MS/analyses/Past\n"
     ]
    }
   ],
   "source": [
    "cd ../../analyses/Past"
   ]
  },
  {
   "cell_type": "code",
   "execution_count": 7,
   "metadata": {
    "collapsed": false
   },
   "outputs": [
    {
     "name": "stdout",
     "output_type": "stream",
     "text": [
      "GCKDGN101CF7JK\t\tGCAGTTCACATGACCCGAGGCTAGGAGATCCCATGAGATAGCACAGTGCAAGCGTGACTCATTGCACATGTGCTTGCAACGCGACTGGCGTCTTCTCGACGAGCTCCTGAGTATTTTCACAAGATTGGCCCCTATTTCTCAATGCCGTTGGGAAAATTATTGGGCCGTAGAAAACAGAATATCACACTAATGTAGTTGGTAGGTTAGCAAAACCAGTACCAGC\r\n",
      "GCKDGN101CAZ1A\t\tGCAGTTGACTGTCATTTCCCAGGGGACGATACAGTGCCACCACAATGACGTACTTACCGCTGGGGCTTGGCGCTGCCCCCATGCCTAGCTGATTGGTGTCTCTCCATATCATCTGTGTGAAGTGCTTTACTTTGTCATTGAGAACTGGATAGGAGAAGCTGTACGCTTTCTTCTCGCCGTACCATATAGTCGTGGCCTTGAGAGGTGCTCTCTGCAGATCGTGCCATATCTGTGCAATGTTTTCACCCGCTGGCTCGCCTTGGAAAGTGGACGGGTCACTGGCTACAGACTCTGCTATATTCTGCGCTTGTTCTGCTAGAGTGGCATTCCATTGTAAAGGGNGGACGTGATGAAGTGATCTGA\r\n"
     ]
    }
   ],
   "source": [
    "#Checking header on new tabular format file\n",
    "!head -2 fasta2tab"
   ]
  },
  {
   "cell_type": "code",
   "execution_count": 8,
   "metadata": {
    "collapsed": false
   },
   "outputs": [
    {
     "name": "stdout",
     "output_type": "stream",
     "text": [
      "\r\n",
      "Added column with length of column 2 for 30740 lines.\r\n",
      "\r\n"
     ]
    }
   ],
   "source": [
    "#Add column with length of sequence\n",
    "!perl -e '$col = 2;' -e 'while (<>) { s/\\r?\\n//; @F = split /\\t/, $_; $len = length($F[$col]); print \"$_\\t$len\\n\" } warn \"\\nAdded column with length of column $col for $. lines.\\n\\n\";' \\\n",
    "fasta2tab > tab_1"
   ]
  },
  {
   "cell_type": "code",
   "execution_count": 9,
   "metadata": {
    "collapsed": false
   },
   "outputs": [
    {
     "name": "stdout",
     "output_type": "stream",
     "text": [
      "   30740   92220 17482850 tab_1\r\n"
     ]
    }
   ],
   "source": [
    "!wc tab_1"
   ]
  },
  {
   "cell_type": "code",
   "execution_count": 10,
   "metadata": {
    "collapsed": false
   },
   "outputs": [],
   "source": [
    "#The file used to count Cs and Gs will only include the sequence\n",
    "!awk '{print $2}' tab_1 > tab_2"
   ]
  },
  {
   "cell_type": "code",
   "execution_count": 11,
   "metadata": {
    "collapsed": false
   },
   "outputs": [],
   "source": [
    "#This counts CGs - both cases\n",
    "!echo \"CG\" | awk -F\\[Cc][Gg] '{print NF-1}' tab_2 > CG "
   ]
  },
  {
   "cell_type": "code",
   "execution_count": 12,
   "metadata": {
    "collapsed": false
   },
   "outputs": [],
   "source": [
    "#Counts Cs\n",
    "!echo \"C\" | awk -F\\[Cc] '{print NF-1}' tab_2 > C "
   ]
  },
  {
   "cell_type": "code",
   "execution_count": 13,
   "metadata": {
    "collapsed": false
   },
   "outputs": [],
   "source": [
    "#Counts Gs\n",
    "!echo \"G\" | awk -F\\[Gg] '{print NF-1}' tab_2 > G "
   ]
  },
  {
   "cell_type": "code",
   "execution_count": 14,
   "metadata": {
    "collapsed": false
   },
   "outputs": [
    {
     "name": "stdout",
     "output_type": "stream",
     "text": [
      "GCKDGN101CF7JK\t\tGCAGTTCACATGACCCGAGGCTAGGAGATCCCATGAGATAGCACAGTGCAAGCGTGACTCATTGCACATGTGCTTGCAACGCGACTGGCGTCTTCTCGACGAGCTCCTGAGTATTTTCACAAGATTGGCCCCTATTTCTCAATGCCGTTGGGAAAATTATTGGGCCGTAGAAAACAGAATATCACACTAATGTAGTTGGTAGGTTAGCAAAACCAGTACCAGC\t223\t9\t53\t54\r\n"
     ]
    }
   ],
   "source": [
    "#Combining counts\n",
    "!paste tab_1 \\\n",
    "CG \\\n",
    "C \\\n",
    "G \\\n",
    "> comb\n",
    "!head -1 comb"
   ]
  },
  {
   "cell_type": "markdown",
   "metadata": {},
   "source": [
    "# Calculating CpGo/e based on [Gavery and Roberts (2010)](http://www.biomedcentral.com/1471-2164/11/483)"
   ]
  },
  {
   "cell_type": "markdown",
   "metadata": {},
   "source": [
    "<img src=\"http://eagle.fish.washington.edu/cnidarian/skitch/BMC_Genomics___Full_text___DNA_methylation_patterns_provide_insight_into_epigenetic_regulation_in_the_Pacific_oyster__Crassostrea_gigas__1A0683A5.png\" alt=\"BMC_Genomics___Full_text___DNA_methylation_patterns_provide_insight_into_epigenetic_regulation_in_the_Pacific_oyster__Crassostrea_gigas__1A0683A5.png\"/>"
   ]
  },
  {
   "cell_type": "code",
   "execution_count": 15,
   "metadata": {
    "collapsed": false
   },
   "outputs": [],
   "source": [
    "!awk '{print $1, \"\\t\", (($4)/($5*$6))*(($3^2)/($3-1))}' comb > ID_CpG #use ^ instead of ** for exponent\n"
   ]
  },
  {
   "cell_type": "code",
   "execution_count": 16,
   "metadata": {
    "collapsed": false
   },
   "outputs": [
    {
     "name": "stdout",
     "output_type": "stream",
     "text": [
      "GCKDGN101CF7JK \t 0.704417\n",
      "GCKDGN101CAZ1A \t 0.590914\n",
      "GCKDGN101ANI4S \t 0.542256\n",
      "GCKDGN101BV6U3 \t 1.15835\n",
      "GCKDGN101BQG8Q \t 0.926274\n",
      "GCKDGN101CG9W2 \t 0.802327\n",
      "GCKDGN101A7H4U \t 1.20891\n",
      "GCKDGN101ATRIP \t 0.256737\n",
      "GCKDGN101CINM3 \t 0.342108\n",
      "GCKDGN101BOM13 \t 0.69067\n",
      "   30740   61480  716743 ID_CpG\n"
     ]
    }
   ],
   "source": [
    "!head ID_CpG\n",
    "!wc ID_CpG"
   ]
  },
  {
   "cell_type": "markdown",
   "metadata": {},
   "source": [
    "# Now joining CpG to annotation, but first must sort files."
   ]
  },
  {
   "cell_type": "code",
   "execution_count": 3,
   "metadata": {
    "collapsed": false
   },
   "outputs": [
    {
     "name": "stdout",
     "output_type": "stream",
     "text": [
      "GCKDGN101A00ZL\tsp\tQ23979\tMY61F_DROME\t70.97\t124\t35\t1\t371\t3\t322\t445\t3e-54\t  187\r\n",
      "GCKDGN101A02W5\tsp\tQ9PT84\tKCNH2_CHICK\t42.35\t85\t43\t2\t238\t2\t75\t159\t2e-09\t57.0\r\n",
      "GCKDGN101A03XE\tsp\tQ5RA96\tGUAA_PONAB\t76.15\t109\t26\t0\t338\t12\t28\t136\t1e-51\t  179\r\n",
      "GCKDGN101A06FB\tsp\tQ5PQ63\tIMP2L_XENLA\t65.45\t55\t19\t0\t7\t171\t105\t159\t2e-12\t63.9\r\n",
      "GCKDGN101A08CL\tsp\tQ09328\tMGT5A_HUMAN\t57.89\t57\t24\t0\t87\t257\t141\t197\t2e-16\t79.0\r\n",
      "GCKDGN101A097A\tsp\tQ3MHG6\tGTPBA_BOVIN\t43.42\t76\t42\t1\t17\t244\t81\t155\t6e-13\t66.6\r\n",
      "GCKDGN101A0KSC\tsp\tQ6P2K6\tP4R3A_MOUSE\t60.00\t90\t33\t1\t273\t4\t96\t182\t2e-25\t  105\r\n",
      "GCKDGN101A0M8H\tsp\tA2RUR9\tC144A_HUMAN\t29.31\t116\t75\t2\t386\t42\t1232\t1341\t3e-09\t58.5\r\n",
      "GCKDGN101A0NCL\tsp\tQ08AV6\tTBCC1_XENLA\t40.78\t103\t59\t2\t8\t310\t178\t280\t2e-17\t81.3\r\n",
      "GCKDGN101A0S0M\tsp\tO00763\tACACB_HUMAN\t67.20\t125\t41\t0\t381\t7\t326\t450\t8e-55\t  191\r\n"
     ]
    }
   ],
   "source": [
    "#Sorting Past Uniprot/Swissprot annotation file. This file was the result of work done in another notebook: \n",
    "#Past_blast_anno.ipynb\n",
    "!sort Past_blastx_uniprot.sql.tab | tail -n +2 > Past_blastx_uniprot.sql.tab.sorted\n",
    "!head Past_blastx_uniprot.sql.tab.sorted"
   ]
  },
  {
   "cell_type": "code",
   "execution_count": 18,
   "metadata": {
    "collapsed": false
   },
   "outputs": [
    {
     "name": "stdout",
     "output_type": "stream",
     "text": [
      "GCKDGN101A00AO\tother biological processes\r",
      "\r\n",
      "GCKDGN101A00ZL\tcell organization and biogenesis\r",
      "\r\n",
      "GCKDGN101A00ZL\tdevelopmental processes\r",
      "\r\n",
      "GCKDGN101A00ZL\tstress response\r",
      "\r\n",
      "GCKDGN101A028J\tRNA metabolism\r",
      "\r\n",
      "GCKDGN101A028J\tother biological processes\r",
      "\r\n",
      "GCKDGN101A02W5\ttransport\r",
      "\r\n",
      "GCKDGN101A03QE\tother metabolic processes\r",
      "\r\n",
      "GCKDGN101A03XE\tother metabolic processes\r",
      "\r\n",
      "GCKDGN101A0607\tprotein metabolism\r",
      "\r\n"
     ]
    }
   ],
   "source": [
    "#Sorting GOSlim annotation file. This file was the result of work done in another notebook: Past_blast_anno.ipynb\n",
    "!sort Past_GOSlim.tab | tail -n +2 > Past_GOSlim.sorted\n",
    "!head Past_GOSlim.sorted"
   ]
  },
  {
   "cell_type": "code",
   "execution_count": 6,
   "metadata": {
    "collapsed": false
   },
   "outputs": [
    {
     "name": "stdout",
     "output_type": "stream",
     "text": [
      "GCKDGN101A00AO \t 0.383276\r\n",
      "GCKDGN101A00ZL \t 0.335379\r\n",
      "GCKDGN101A028J \t 0.524246\r\n",
      "GCKDGN101A02W5 \t 0.559472\r\n",
      "GCKDGN101A03QE \t 0.177286\r\n",
      "GCKDGN101A03XE \t 0.618671\r\n",
      "GCKDGN101A0607 \t 1.03824\r\n",
      "GCKDGN101A06FB \t 0.207357\r\n",
      "GCKDGN101A0884 \t 0.876202\r\n",
      "GCKDGN101A08CL \t 0.342674\r\n"
     ]
    }
   ],
   "source": [
    "#Sorting CpG file\n",
    "!sort ID_CpG > ID_CpG.sorted\n",
    "!head ID_CpG.sorted"
   ]
  },
  {
   "cell_type": "code",
   "execution_count": 7,
   "metadata": {
    "collapsed": true
   },
   "outputs": [],
   "source": [
    "!join ID_CpG.sorted Past_blastx_uniprot.sql.tab.sorted | awk '{print $1, \"\\t\", $2}' > Past_cpg_anno"
   ]
  },
  {
   "cell_type": "code",
   "execution_count": 8,
   "metadata": {
    "collapsed": false
   },
   "outputs": [
    {
     "name": "stdout",
     "output_type": "stream",
     "text": [
      "GCKDGN101A00ZL \t 0.335379\r\n",
      "GCKDGN101A02W5 \t 0.559472\r\n",
      "GCKDGN101A03XE \t 0.618671\r\n",
      "GCKDGN101A06FB \t 0.207357\r\n",
      "GCKDGN101A08CL \t 0.342674\r\n",
      "GCKDGN101A097A \t 0.679228\r\n",
      "GCKDGN101A0KSC \t 1.03959\r\n",
      "GCKDGN101A0M8H \t 0.78113\r\n",
      "GCKDGN101A0NCL \t 0.404416\r\n",
      "GCKDGN101A0S0M \t 0.254499\r\n"
     ]
    }
   ],
   "source": [
    "!head Past_cpg_anno"
   ]
  },
  {
   "cell_type": "code",
   "execution_count": 20,
   "metadata": {
    "collapsed": true
   },
   "outputs": [],
   "source": [
    "!join ID_CpG.sorted Past_GOSlim.sorted > Past_cpg_GOslim"
   ]
  },
  {
   "cell_type": "code",
   "execution_count": 21,
   "metadata": {
    "collapsed": false
   },
   "outputs": [
    {
     "name": "stdout",
     "output_type": "stream",
     "text": [
      "GCKDGN101A00AO 0.383276 other biological processes\r",
      "\r\n",
      "GCKDGN101A00ZL 0.335379 cell organization and biogenesis\r",
      "\r\n",
      "GCKDGN101A00ZL 0.335379 developmental processes\r",
      "\r\n",
      "GCKDGN101A00ZL 0.335379 stress response\r",
      "\r\n",
      "GCKDGN101A028J 0.524246 RNA metabolism\r",
      "\r\n",
      "GCKDGN101A028J 0.524246 other biological processes\r",
      "\r\n",
      "GCKDGN101A02W5 0.559472 transport\r",
      "\r\n",
      "GCKDGN101A03QE 0.177286 other metabolic processes\r",
      "\r\n",
      "GCKDGN101A03XE 0.618671 other metabolic processes\r",
      "\r\n",
      "GCKDGN101A0607 1.03824 protein metabolism\r",
      "\r\n"
     ]
    }
   ],
   "source": [
    "!head Past_cpg_GOslim"
   ]
  },
  {
   "cell_type": "code",
   "execution_count": 22,
   "metadata": {
    "collapsed": false
   },
   "outputs": [
    {
     "name": "stdout",
     "output_type": "stream",
     "text": [
      "GCKDGN101A00AO \t 0.383276 \t other biological processes\r",
      " \r\n",
      "GCKDGN101A00ZL \t 0.335379 \t cell organization and biogenesis\r",
      "\r\n",
      "GCKDGN101A00ZL \t 0.335379 \t developmental processes\r",
      "  \r\n",
      "GCKDGN101A00ZL \t 0.335379 \t stress response\r",
      "  \r\n",
      "GCKDGN101A028J \t 0.524246 \t RNA metabolism\r",
      "  \r\n",
      "GCKDGN101A028J \t 0.524246 \t other biological processes\r",
      " \r\n",
      "GCKDGN101A02W5 \t 0.559472 \t transport\r",
      "   \r\n",
      "GCKDGN101A03QE \t 0.177286 \t other metabolic processes\r",
      " \r\n",
      "GCKDGN101A03XE \t 0.618671 \t other metabolic processes\r",
      " \r\n",
      "GCKDGN101A0607 \t 1.03824 \t protein metabolism\r",
      "  \r\n"
     ]
    }
   ],
   "source": [
    "#Putting tabs in between columns\n",
    "!awk '{print $1, \"\\t\", $2, \"\\t\", $3, $4, $5, $6}' Past_cpg_GOslim > Past_cpg_GOslim.tab\n",
    "!head Past_cpg_GOslim.tab"
   ]
  },
  {
   "cell_type": "markdown",
   "metadata": {},
   "source": [
    "# Now time to plot data using pandas and matplot"
   ]
  },
  {
   "cell_type": "code",
   "execution_count": 9,
   "metadata": {
    "collapsed": false
   },
   "outputs": [],
   "source": [
    "import pandas as pd"
   ]
  },
  {
   "cell_type": "code",
   "execution_count": 10,
   "metadata": {
    "collapsed": false
   },
   "outputs": [
    {
     "data": {
      "text/html": [
       "<div style=\"max-height:1000px;max-width:1500px;overflow:auto;\">\n",
       "<table border=\"1\" class=\"dataframe\">\n",
       "  <thead>\n",
       "    <tr style=\"text-align: right;\">\n",
       "      <th></th>\n",
       "      <th>0</th>\n",
       "      <th>1</th>\n",
       "      <th>2</th>\n",
       "    </tr>\n",
       "  </thead>\n",
       "  <tbody>\n",
       "    <tr>\n",
       "      <th>0     </th>\n",
       "      <td> GCKDGN101A00AO </td>\n",
       "      <td> 0.383276</td>\n",
       "      <td>        other biological processes</td>\n",
       "    </tr>\n",
       "    <tr>\n",
       "      <th>1     </th>\n",
       "      <td>                </td>\n",
       "      <td>      NaN</td>\n",
       "      <td>                               NaN</td>\n",
       "    </tr>\n",
       "    <tr>\n",
       "      <th>2     </th>\n",
       "      <td> GCKDGN101A00ZL </td>\n",
       "      <td> 0.335379</td>\n",
       "      <td>  cell organization and biogenesis</td>\n",
       "    </tr>\n",
       "    <tr>\n",
       "      <th>3     </th>\n",
       "      <td> GCKDGN101A00ZL </td>\n",
       "      <td> 0.335379</td>\n",
       "      <td>           developmental processes</td>\n",
       "    </tr>\n",
       "    <tr>\n",
       "      <th>4     </th>\n",
       "      <td>                </td>\n",
       "      <td>      NaN</td>\n",
       "      <td>                               NaN</td>\n",
       "    </tr>\n",
       "    <tr>\n",
       "      <th>5     </th>\n",
       "      <td> GCKDGN101A00ZL </td>\n",
       "      <td> 0.335379</td>\n",
       "      <td>                   stress response</td>\n",
       "    </tr>\n",
       "    <tr>\n",
       "      <th>6     </th>\n",
       "      <td>                </td>\n",
       "      <td>      NaN</td>\n",
       "      <td>                               NaN</td>\n",
       "    </tr>\n",
       "    <tr>\n",
       "      <th>7     </th>\n",
       "      <td> GCKDGN101A028J </td>\n",
       "      <td> 0.524246</td>\n",
       "      <td>                    RNA metabolism</td>\n",
       "    </tr>\n",
       "    <tr>\n",
       "      <th>8     </th>\n",
       "      <td>                </td>\n",
       "      <td>      NaN</td>\n",
       "      <td>                               NaN</td>\n",
       "    </tr>\n",
       "    <tr>\n",
       "      <th>9     </th>\n",
       "      <td> GCKDGN101A028J </td>\n",
       "      <td> 0.524246</td>\n",
       "      <td>        other biological processes</td>\n",
       "    </tr>\n",
       "    <tr>\n",
       "      <th>10    </th>\n",
       "      <td>                </td>\n",
       "      <td>      NaN</td>\n",
       "      <td>                               NaN</td>\n",
       "    </tr>\n",
       "    <tr>\n",
       "      <th>11    </th>\n",
       "      <td> GCKDGN101A02W5 </td>\n",
       "      <td> 0.559472</td>\n",
       "      <td>                         transport</td>\n",
       "    </tr>\n",
       "    <tr>\n",
       "      <th>12    </th>\n",
       "      <td>                </td>\n",
       "      <td>      NaN</td>\n",
       "      <td>                               NaN</td>\n",
       "    </tr>\n",
       "    <tr>\n",
       "      <th>13    </th>\n",
       "      <td> GCKDGN101A03QE </td>\n",
       "      <td> 0.177286</td>\n",
       "      <td>         other metabolic processes</td>\n",
       "    </tr>\n",
       "    <tr>\n",
       "      <th>14    </th>\n",
       "      <td>                </td>\n",
       "      <td>      NaN</td>\n",
       "      <td>                               NaN</td>\n",
       "    </tr>\n",
       "    <tr>\n",
       "      <th>15    </th>\n",
       "      <td> GCKDGN101A03XE </td>\n",
       "      <td> 0.618671</td>\n",
       "      <td>         other metabolic processes</td>\n",
       "    </tr>\n",
       "    <tr>\n",
       "      <th>16    </th>\n",
       "      <td>                </td>\n",
       "      <td>      NaN</td>\n",
       "      <td>                               NaN</td>\n",
       "    </tr>\n",
       "    <tr>\n",
       "      <th>17    </th>\n",
       "      <td> GCKDGN101A0607 </td>\n",
       "      <td> 1.038240</td>\n",
       "      <td>                protein metabolism</td>\n",
       "    </tr>\n",
       "    <tr>\n",
       "      <th>18    </th>\n",
       "      <td>                </td>\n",
       "      <td>      NaN</td>\n",
       "      <td>                               NaN</td>\n",
       "    </tr>\n",
       "    <tr>\n",
       "      <th>19    </th>\n",
       "      <td> GCKDGN101A06FB </td>\n",
       "      <td> 0.207357</td>\n",
       "      <td>                protein metabolism</td>\n",
       "    </tr>\n",
       "    <tr>\n",
       "      <th>20    </th>\n",
       "      <td>                </td>\n",
       "      <td>      NaN</td>\n",
       "      <td>                               NaN</td>\n",
       "    </tr>\n",
       "    <tr>\n",
       "      <th>21    </th>\n",
       "      <td> GCKDGN101A0884 </td>\n",
       "      <td> 0.876202</td>\n",
       "      <td>        other biological processes</td>\n",
       "    </tr>\n",
       "    <tr>\n",
       "      <th>22    </th>\n",
       "      <td>                </td>\n",
       "      <td>      NaN</td>\n",
       "      <td>                               NaN</td>\n",
       "    </tr>\n",
       "    <tr>\n",
       "      <th>23    </th>\n",
       "      <td> GCKDGN101A08CL </td>\n",
       "      <td> 0.342674</td>\n",
       "      <td>         other metabolic processes</td>\n",
       "    </tr>\n",
       "    <tr>\n",
       "      <th>24    </th>\n",
       "      <td>                </td>\n",
       "      <td>      NaN</td>\n",
       "      <td>                               NaN</td>\n",
       "    </tr>\n",
       "    <tr>\n",
       "      <th>25    </th>\n",
       "      <td> GCKDGN101A08CL </td>\n",
       "      <td> 0.342674</td>\n",
       "      <td>                protein metabolism</td>\n",
       "    </tr>\n",
       "    <tr>\n",
       "      <th>26    </th>\n",
       "      <td>                </td>\n",
       "      <td>      NaN</td>\n",
       "      <td>                               NaN</td>\n",
       "    </tr>\n",
       "    <tr>\n",
       "      <th>27    </th>\n",
       "      <td> GCKDGN101A08WT </td>\n",
       "      <td> 0.459782</td>\n",
       "      <td>        other biological processes</td>\n",
       "    </tr>\n",
       "    <tr>\n",
       "      <th>28    </th>\n",
       "      <td>                </td>\n",
       "      <td>      NaN</td>\n",
       "      <td>                               NaN</td>\n",
       "    </tr>\n",
       "    <tr>\n",
       "      <th>29    </th>\n",
       "      <td> GCKDGN101A08WT </td>\n",
       "      <td> 0.459782</td>\n",
       "      <td>                         transport</td>\n",
       "    </tr>\n",
       "    <tr>\n",
       "      <th>...</th>\n",
       "      <td>...</td>\n",
       "      <td>...</td>\n",
       "      <td>...</td>\n",
       "    </tr>\n",
       "    <tr>\n",
       "      <th>102278</th>\n",
       "      <td>    isotig33103 </td>\n",
       "      <td> 0.952471</td>\n",
       "      <td>               signal transduction</td>\n",
       "    </tr>\n",
       "    <tr>\n",
       "      <th>102279</th>\n",
       "      <td>                </td>\n",
       "      <td>      NaN</td>\n",
       "      <td>                               NaN</td>\n",
       "    </tr>\n",
       "    <tr>\n",
       "      <th>102280</th>\n",
       "      <td>    isotig33105 </td>\n",
       "      <td> 0.000000</td>\n",
       "      <td>               signal transduction</td>\n",
       "    </tr>\n",
       "    <tr>\n",
       "      <th>102281</th>\n",
       "      <td>                </td>\n",
       "      <td>      NaN</td>\n",
       "      <td>                               NaN</td>\n",
       "    </tr>\n",
       "    <tr>\n",
       "      <th>102282</th>\n",
       "      <td>    isotig33121 </td>\n",
       "      <td> 0.891861</td>\n",
       "      <td>        other biological processes</td>\n",
       "    </tr>\n",
       "    <tr>\n",
       "      <th>102283</th>\n",
       "      <td>                </td>\n",
       "      <td>      NaN</td>\n",
       "      <td>                               NaN</td>\n",
       "    </tr>\n",
       "    <tr>\n",
       "      <th>102284</th>\n",
       "      <td>    isotig33125 </td>\n",
       "      <td> 0.604802</td>\n",
       "      <td>        other biological processes</td>\n",
       "    </tr>\n",
       "    <tr>\n",
       "      <th>102285</th>\n",
       "      <td>                </td>\n",
       "      <td>      NaN</td>\n",
       "      <td>                               NaN</td>\n",
       "    </tr>\n",
       "    <tr>\n",
       "      <th>102286</th>\n",
       "      <td>    isotig33125 </td>\n",
       "      <td> 0.604802</td>\n",
       "      <td>         other metabolic processes</td>\n",
       "    </tr>\n",
       "    <tr>\n",
       "      <th>102287</th>\n",
       "      <td>                </td>\n",
       "      <td>      NaN</td>\n",
       "      <td>                               NaN</td>\n",
       "    </tr>\n",
       "    <tr>\n",
       "      <th>102288</th>\n",
       "      <td>    isotig33125 </td>\n",
       "      <td> 0.604802</td>\n",
       "      <td>                protein metabolism</td>\n",
       "    </tr>\n",
       "    <tr>\n",
       "      <th>102289</th>\n",
       "      <td>                </td>\n",
       "      <td>      NaN</td>\n",
       "      <td>                               NaN</td>\n",
       "    </tr>\n",
       "    <tr>\n",
       "      <th>102290</th>\n",
       "      <td>    isotig33125 </td>\n",
       "      <td> 0.604802</td>\n",
       "      <td>               signal transduction</td>\n",
       "    </tr>\n",
       "    <tr>\n",
       "      <th>102291</th>\n",
       "      <td>                </td>\n",
       "      <td>      NaN</td>\n",
       "      <td>                               NaN</td>\n",
       "    </tr>\n",
       "    <tr>\n",
       "      <th>102292</th>\n",
       "      <td>    isotig33125 </td>\n",
       "      <td> 0.604802</td>\n",
       "      <td>                   stress response</td>\n",
       "    </tr>\n",
       "    <tr>\n",
       "      <th>102293</th>\n",
       "      <td>                </td>\n",
       "      <td>      NaN</td>\n",
       "      <td>                               NaN</td>\n",
       "    </tr>\n",
       "    <tr>\n",
       "      <th>102294</th>\n",
       "      <td>    isotig33136 </td>\n",
       "      <td> 0.809603</td>\n",
       "      <td>         other metabolic processes</td>\n",
       "    </tr>\n",
       "    <tr>\n",
       "      <th>102295</th>\n",
       "      <td>                </td>\n",
       "      <td>      NaN</td>\n",
       "      <td>                               NaN</td>\n",
       "    </tr>\n",
       "    <tr>\n",
       "      <th>102296</th>\n",
       "      <td>    isotig33136 </td>\n",
       "      <td> 0.809603</td>\n",
       "      <td>                         transport</td>\n",
       "    </tr>\n",
       "    <tr>\n",
       "      <th>102297</th>\n",
       "      <td>                </td>\n",
       "      <td>      NaN</td>\n",
       "      <td>                               NaN</td>\n",
       "    </tr>\n",
       "    <tr>\n",
       "      <th>102298</th>\n",
       "      <td>    isotig33137 </td>\n",
       "      <td> 0.834088</td>\n",
       "      <td>  cell organization and biogenesis</td>\n",
       "    </tr>\n",
       "    <tr>\n",
       "      <th>102299</th>\n",
       "      <td>    isotig33141 </td>\n",
       "      <td> 0.000000</td>\n",
       "      <td>        other biological processes</td>\n",
       "    </tr>\n",
       "    <tr>\n",
       "      <th>102300</th>\n",
       "      <td>                </td>\n",
       "      <td>      NaN</td>\n",
       "      <td>                               NaN</td>\n",
       "    </tr>\n",
       "    <tr>\n",
       "      <th>102301</th>\n",
       "      <td>    isotig33141 </td>\n",
       "      <td> 0.000000</td>\n",
       "      <td>                protein metabolism</td>\n",
       "    </tr>\n",
       "    <tr>\n",
       "      <th>102302</th>\n",
       "      <td>                </td>\n",
       "      <td>      NaN</td>\n",
       "      <td>                               NaN</td>\n",
       "    </tr>\n",
       "    <tr>\n",
       "      <th>102303</th>\n",
       "      <td>    isotig33152 </td>\n",
       "      <td> 0.316646</td>\n",
       "      <td>        other biological processes</td>\n",
       "    </tr>\n",
       "    <tr>\n",
       "      <th>102304</th>\n",
       "      <td>                </td>\n",
       "      <td>      NaN</td>\n",
       "      <td>                               NaN</td>\n",
       "    </tr>\n",
       "    <tr>\n",
       "      <th>102305</th>\n",
       "      <td>    isotig33159 </td>\n",
       "      <td> 1.262630</td>\n",
       "      <td>                    RNA metabolism</td>\n",
       "    </tr>\n",
       "    <tr>\n",
       "      <th>102306</th>\n",
       "      <td>                </td>\n",
       "      <td>      NaN</td>\n",
       "      <td>                               NaN</td>\n",
       "    </tr>\n",
       "    <tr>\n",
       "      <th>102307</th>\n",
       "      <td>    isotig33159 </td>\n",
       "      <td> 1.262630</td>\n",
       "      <td>  cell organization and biogenesis</td>\n",
       "    </tr>\n",
       "  </tbody>\n",
       "</table>\n",
       "<p>102308 rows × 3 columns</p>\n",
       "</div>"
      ],
      "text/plain": [
       "                      0         1                                  2\n",
       "0       GCKDGN101A00AO   0.383276         other biological processes\n",
       "1                             NaN                                NaN\n",
       "2       GCKDGN101A00ZL   0.335379   cell organization and biogenesis\n",
       "3       GCKDGN101A00ZL   0.335379            developmental processes\n",
       "4                             NaN                                NaN\n",
       "5       GCKDGN101A00ZL   0.335379                    stress response\n",
       "6                             NaN                                NaN\n",
       "7       GCKDGN101A028J   0.524246                     RNA metabolism\n",
       "8                             NaN                                NaN\n",
       "9       GCKDGN101A028J   0.524246         other biological processes\n",
       "10                            NaN                                NaN\n",
       "11      GCKDGN101A02W5   0.559472                          transport\n",
       "12                            NaN                                NaN\n",
       "13      GCKDGN101A03QE   0.177286          other metabolic processes\n",
       "14                            NaN                                NaN\n",
       "15      GCKDGN101A03XE   0.618671          other metabolic processes\n",
       "16                            NaN                                NaN\n",
       "17      GCKDGN101A0607   1.038240                 protein metabolism\n",
       "18                            NaN                                NaN\n",
       "19      GCKDGN101A06FB   0.207357                 protein metabolism\n",
       "20                            NaN                                NaN\n",
       "21      GCKDGN101A0884   0.876202         other biological processes\n",
       "22                            NaN                                NaN\n",
       "23      GCKDGN101A08CL   0.342674          other metabolic processes\n",
       "24                            NaN                                NaN\n",
       "25      GCKDGN101A08CL   0.342674                 protein metabolism\n",
       "26                            NaN                                NaN\n",
       "27      GCKDGN101A08WT   0.459782         other biological processes\n",
       "28                            NaN                                NaN\n",
       "29      GCKDGN101A08WT   0.459782                          transport\n",
       "...                 ...       ...                                ...\n",
       "102278     isotig33103   0.952471                signal transduction\n",
       "102279                        NaN                                NaN\n",
       "102280     isotig33105   0.000000                signal transduction\n",
       "102281                        NaN                                NaN\n",
       "102282     isotig33121   0.891861         other biological processes\n",
       "102283                        NaN                                NaN\n",
       "102284     isotig33125   0.604802         other biological processes\n",
       "102285                        NaN                                NaN\n",
       "102286     isotig33125   0.604802          other metabolic processes\n",
       "102287                        NaN                                NaN\n",
       "102288     isotig33125   0.604802                 protein metabolism\n",
       "102289                        NaN                                NaN\n",
       "102290     isotig33125   0.604802                signal transduction\n",
       "102291                        NaN                                NaN\n",
       "102292     isotig33125   0.604802                    stress response\n",
       "102293                        NaN                                NaN\n",
       "102294     isotig33136   0.809603          other metabolic processes\n",
       "102295                        NaN                                NaN\n",
       "102296     isotig33136   0.809603                          transport\n",
       "102297                        NaN                                NaN\n",
       "102298     isotig33137   0.834088   cell organization and biogenesis\n",
       "102299     isotig33141   0.000000         other biological processes\n",
       "102300                        NaN                                NaN\n",
       "102301     isotig33141   0.000000                 protein metabolism\n",
       "102302                        NaN                                NaN\n",
       "102303     isotig33152   0.316646         other biological processes\n",
       "102304                        NaN                                NaN\n",
       "102305     isotig33159   1.262630                     RNA metabolism\n",
       "102306                        NaN                                NaN\n",
       "102307     isotig33159   1.262630   cell organization and biogenesis\n",
       "\n",
       "[102308 rows x 3 columns]"
      ]
     },
     "execution_count": 10,
     "metadata": {},
     "output_type": "execute_result"
    }
   ],
   "source": [
    "jData = pd.read_table('Past_cpg_GOslim.tab', header=None)\n",
    "jData"
   ]
  },
  {
   "cell_type": "code",
   "execution_count": 11,
   "metadata": {
    "collapsed": false
   },
   "outputs": [],
   "source": [
    "%matplotlib inline"
   ]
  },
  {
   "cell_type": "code",
   "execution_count": 12,
   "metadata": {
    "collapsed": false
   },
   "outputs": [],
   "source": [
    "import matplotlib.pyplot as plt "
   ]
  },
  {
   "cell_type": "code",
   "execution_count": 13,
   "metadata": {
    "collapsed": false
   },
   "outputs": [
    {
     "data": {
      "image/png": "[encoded data removed]",
      "text/plain": [
       "<matplotlib.figure.Figure at 0x108565450>"
      ]
     },
     "metadata": {},
     "output_type": "display_data"
    }
   ],
   "source": [
    "jData.groupby(2)[1].mean().plot(kind='barh', color=list('myb'))\n",
    "plt.axis([0.6, 0.75, -1, 14])\n",
    "plt.xlabel('')\n",
    "plt.ylabel('')\n",
    "plt.show()"
   ]
  },
  {
   "cell_type": "code",
   "execution_count": 15,
   "metadata": {
    "collapsed": false
   },
   "outputs": [
    {
     "data": {
      "text/html": [
       "<div style=\"max-height:1000px;max-width:1500px;overflow:auto;\">\n",
       "<table border=\"1\" class=\"dataframe\">\n",
       "  <thead>\n",
       "    <tr style=\"text-align: right;\">\n",
       "      <th></th>\n",
       "      <th>0</th>\n",
       "      <th>1</th>\n",
       "    </tr>\n",
       "  </thead>\n",
       "  <tbody>\n",
       "    <tr>\n",
       "      <th>0    </th>\n",
       "      <td> GCKDGN101A00ZL </td>\n",
       "      <td> 0.335379</td>\n",
       "    </tr>\n",
       "    <tr>\n",
       "      <th>1    </th>\n",
       "      <td> GCKDGN101A02W5 </td>\n",
       "      <td> 0.559472</td>\n",
       "    </tr>\n",
       "    <tr>\n",
       "      <th>2    </th>\n",
       "      <td> GCKDGN101A03XE </td>\n",
       "      <td> 0.618671</td>\n",
       "    </tr>\n",
       "    <tr>\n",
       "      <th>3    </th>\n",
       "      <td> GCKDGN101A06FB </td>\n",
       "      <td> 0.207357</td>\n",
       "    </tr>\n",
       "    <tr>\n",
       "      <th>4    </th>\n",
       "      <td> GCKDGN101A08CL </td>\n",
       "      <td> 0.342674</td>\n",
       "    </tr>\n",
       "    <tr>\n",
       "      <th>5    </th>\n",
       "      <td> GCKDGN101A097A </td>\n",
       "      <td> 0.679228</td>\n",
       "    </tr>\n",
       "    <tr>\n",
       "      <th>6    </th>\n",
       "      <td> GCKDGN101A0KSC </td>\n",
       "      <td> 1.039590</td>\n",
       "    </tr>\n",
       "    <tr>\n",
       "      <th>7    </th>\n",
       "      <td> GCKDGN101A0M8H </td>\n",
       "      <td> 0.781130</td>\n",
       "    </tr>\n",
       "    <tr>\n",
       "      <th>8    </th>\n",
       "      <td> GCKDGN101A0NCL </td>\n",
       "      <td> 0.404416</td>\n",
       "    </tr>\n",
       "    <tr>\n",
       "      <th>9    </th>\n",
       "      <td> GCKDGN101A0S0M </td>\n",
       "      <td> 0.254499</td>\n",
       "    </tr>\n",
       "    <tr>\n",
       "      <th>10   </th>\n",
       "      <td> GCKDGN101A12VJ </td>\n",
       "      <td> 0.184560</td>\n",
       "    </tr>\n",
       "    <tr>\n",
       "      <th>11   </th>\n",
       "      <td> GCKDGN101A13V9 </td>\n",
       "      <td> 0.147354</td>\n",
       "    </tr>\n",
       "    <tr>\n",
       "      <th>12   </th>\n",
       "      <td> GCKDGN101A15QU </td>\n",
       "      <td> 0.712784</td>\n",
       "    </tr>\n",
       "    <tr>\n",
       "      <th>13   </th>\n",
       "      <td> GCKDGN101A17ZT </td>\n",
       "      <td> 0.472153</td>\n",
       "    </tr>\n",
       "    <tr>\n",
       "      <th>14   </th>\n",
       "      <td> GCKDGN101A19EE </td>\n",
       "      <td> 0.850999</td>\n",
       "    </tr>\n",
       "    <tr>\n",
       "      <th>15   </th>\n",
       "      <td> GCKDGN101A1O0W </td>\n",
       "      <td> 0.802256</td>\n",
       "    </tr>\n",
       "    <tr>\n",
       "      <th>16   </th>\n",
       "      <td> GCKDGN101A1T4S </td>\n",
       "      <td> 0.076902</td>\n",
       "    </tr>\n",
       "    <tr>\n",
       "      <th>17   </th>\n",
       "      <td> GCKDGN101A1TLT </td>\n",
       "      <td> 0.380306</td>\n",
       "    </tr>\n",
       "    <tr>\n",
       "      <th>18   </th>\n",
       "      <td> GCKDGN101A20KS </td>\n",
       "      <td> 0.922365</td>\n",
       "    </tr>\n",
       "    <tr>\n",
       "      <th>19   </th>\n",
       "      <td> GCKDGN101A23YI </td>\n",
       "      <td> 0.698875</td>\n",
       "    </tr>\n",
       "    <tr>\n",
       "      <th>20   </th>\n",
       "      <td> GCKDGN101A28J5 </td>\n",
       "      <td> 0.698418</td>\n",
       "    </tr>\n",
       "    <tr>\n",
       "      <th>21   </th>\n",
       "      <td> GCKDGN101A2DZK </td>\n",
       "      <td> 0.751943</td>\n",
       "    </tr>\n",
       "    <tr>\n",
       "      <th>22   </th>\n",
       "      <td> GCKDGN101A2LIL </td>\n",
       "      <td> 0.605440</td>\n",
       "    </tr>\n",
       "    <tr>\n",
       "      <th>23   </th>\n",
       "      <td> GCKDGN101A2NZY </td>\n",
       "      <td> 0.445518</td>\n",
       "    </tr>\n",
       "    <tr>\n",
       "      <th>24   </th>\n",
       "      <td> GCKDGN101A2R04 </td>\n",
       "      <td> 0.694789</td>\n",
       "    </tr>\n",
       "    <tr>\n",
       "      <th>25   </th>\n",
       "      <td> GCKDGN101A2WY5 </td>\n",
       "      <td> 0.628895</td>\n",
       "    </tr>\n",
       "    <tr>\n",
       "      <th>26   </th>\n",
       "      <td> GCKDGN101A35AI </td>\n",
       "      <td> 0.170293</td>\n",
       "    </tr>\n",
       "    <tr>\n",
       "      <th>27   </th>\n",
       "      <td> GCKDGN101A38VU </td>\n",
       "      <td> 0.886832</td>\n",
       "    </tr>\n",
       "    <tr>\n",
       "      <th>28   </th>\n",
       "      <td> GCKDGN101A39U8 </td>\n",
       "      <td> 0.491907</td>\n",
       "    </tr>\n",
       "    <tr>\n",
       "      <th>29   </th>\n",
       "      <td> GCKDGN101A3AVK </td>\n",
       "      <td> 0.524441</td>\n",
       "    </tr>\n",
       "    <tr>\n",
       "      <th>...</th>\n",
       "      <td>...</td>\n",
       "      <td>...</td>\n",
       "    </tr>\n",
       "    <tr>\n",
       "      <th>13758</th>\n",
       "      <td>    isotig32619 </td>\n",
       "      <td> 1.032320</td>\n",
       "    </tr>\n",
       "    <tr>\n",
       "      <th>13759</th>\n",
       "      <td>    isotig32645 </td>\n",
       "      <td> 0.984676</td>\n",
       "    </tr>\n",
       "    <tr>\n",
       "      <th>13760</th>\n",
       "      <td>    isotig32665 </td>\n",
       "      <td> 0.230087</td>\n",
       "    </tr>\n",
       "    <tr>\n",
       "      <th>13761</th>\n",
       "      <td>    isotig32717 </td>\n",
       "      <td> 0.733053</td>\n",
       "    </tr>\n",
       "    <tr>\n",
       "      <th>13762</th>\n",
       "      <td>    isotig32730 </td>\n",
       "      <td> 0.340215</td>\n",
       "    </tr>\n",
       "    <tr>\n",
       "      <th>13763</th>\n",
       "      <td>    isotig32740 </td>\n",
       "      <td> 0.593341</td>\n",
       "    </tr>\n",
       "    <tr>\n",
       "      <th>13764</th>\n",
       "      <td>    isotig32767 </td>\n",
       "      <td> 0.970656</td>\n",
       "    </tr>\n",
       "    <tr>\n",
       "      <th>13765</th>\n",
       "      <td>    isotig32781 </td>\n",
       "      <td> 0.861883</td>\n",
       "    </tr>\n",
       "    <tr>\n",
       "      <th>13766</th>\n",
       "      <td>    isotig32795 </td>\n",
       "      <td> 1.010170</td>\n",
       "    </tr>\n",
       "    <tr>\n",
       "      <th>13767</th>\n",
       "      <td>    isotig32805 </td>\n",
       "      <td> 0.468420</td>\n",
       "    </tr>\n",
       "    <tr>\n",
       "      <th>13768</th>\n",
       "      <td>    isotig32821 </td>\n",
       "      <td> 0.207627</td>\n",
       "    </tr>\n",
       "    <tr>\n",
       "      <th>13769</th>\n",
       "      <td>    isotig32829 </td>\n",
       "      <td> 0.756356</td>\n",
       "    </tr>\n",
       "    <tr>\n",
       "      <th>13770</th>\n",
       "      <td>    isotig32836 </td>\n",
       "      <td> 1.457250</td>\n",
       "    </tr>\n",
       "    <tr>\n",
       "      <th>13771</th>\n",
       "      <td>    isotig32872 </td>\n",
       "      <td> 0.960073</td>\n",
       "    </tr>\n",
       "    <tr>\n",
       "      <th>13772</th>\n",
       "      <td>    isotig32873 </td>\n",
       "      <td> 0.753304</td>\n",
       "    </tr>\n",
       "    <tr>\n",
       "      <th>13773</th>\n",
       "      <td>    isotig32875 </td>\n",
       "      <td> 0.691457</td>\n",
       "    </tr>\n",
       "    <tr>\n",
       "      <th>13774</th>\n",
       "      <td>    isotig32909 </td>\n",
       "      <td> 0.000000</td>\n",
       "    </tr>\n",
       "    <tr>\n",
       "      <th>13775</th>\n",
       "      <td>    isotig32914 </td>\n",
       "      <td> 0.000000</td>\n",
       "    </tr>\n",
       "    <tr>\n",
       "      <th>13776</th>\n",
       "      <td>    isotig32936 </td>\n",
       "      <td> 1.585850</td>\n",
       "    </tr>\n",
       "    <tr>\n",
       "      <th>13777</th>\n",
       "      <td>    isotig32941 </td>\n",
       "      <td> 0.261595</td>\n",
       "    </tr>\n",
       "    <tr>\n",
       "      <th>13778</th>\n",
       "      <td>    isotig32968 </td>\n",
       "      <td> 0.707426</td>\n",
       "    </tr>\n",
       "    <tr>\n",
       "      <th>13779</th>\n",
       "      <td>    isotig33023 </td>\n",
       "      <td> 0.698778</td>\n",
       "    </tr>\n",
       "    <tr>\n",
       "      <th>13780</th>\n",
       "      <td>    isotig33042 </td>\n",
       "      <td> 0.963724</td>\n",
       "    </tr>\n",
       "    <tr>\n",
       "      <th>13781</th>\n",
       "      <td>    isotig33055 </td>\n",
       "      <td> 0.307721</td>\n",
       "    </tr>\n",
       "    <tr>\n",
       "      <th>13782</th>\n",
       "      <td>    isotig33063 </td>\n",
       "      <td> 0.875935</td>\n",
       "    </tr>\n",
       "    <tr>\n",
       "      <th>13783</th>\n",
       "      <td>    isotig33069 </td>\n",
       "      <td> 0.000000</td>\n",
       "    </tr>\n",
       "    <tr>\n",
       "      <th>13784</th>\n",
       "      <td>    isotig33082 </td>\n",
       "      <td> 0.218770</td>\n",
       "    </tr>\n",
       "    <tr>\n",
       "      <th>13785</th>\n",
       "      <td>    isotig33093 </td>\n",
       "      <td> 0.429516</td>\n",
       "    </tr>\n",
       "    <tr>\n",
       "      <th>13786</th>\n",
       "      <td>    isotig33136 </td>\n",
       "      <td> 0.809603</td>\n",
       "    </tr>\n",
       "    <tr>\n",
       "      <th>13787</th>\n",
       "      <td>    isotig33159 </td>\n",
       "      <td> 1.262630</td>\n",
       "    </tr>\n",
       "  </tbody>\n",
       "</table>\n",
       "<p>13788 rows × 2 columns</p>\n",
       "</div>"
      ],
      "text/plain": [
       "                     0         1\n",
       "0      GCKDGN101A00ZL   0.335379\n",
       "1      GCKDGN101A02W5   0.559472\n",
       "2      GCKDGN101A03XE   0.618671\n",
       "3      GCKDGN101A06FB   0.207357\n",
       "4      GCKDGN101A08CL   0.342674\n",
       "5      GCKDGN101A097A   0.679228\n",
       "6      GCKDGN101A0KSC   1.039590\n",
       "7      GCKDGN101A0M8H   0.781130\n",
       "8      GCKDGN101A0NCL   0.404416\n",
       "9      GCKDGN101A0S0M   0.254499\n",
       "10     GCKDGN101A12VJ   0.184560\n",
       "11     GCKDGN101A13V9   0.147354\n",
       "12     GCKDGN101A15QU   0.712784\n",
       "13     GCKDGN101A17ZT   0.472153\n",
       "14     GCKDGN101A19EE   0.850999\n",
       "15     GCKDGN101A1O0W   0.802256\n",
       "16     GCKDGN101A1T4S   0.076902\n",
       "17     GCKDGN101A1TLT   0.380306\n",
       "18     GCKDGN101A20KS   0.922365\n",
       "19     GCKDGN101A23YI   0.698875\n",
       "20     GCKDGN101A28J5   0.698418\n",
       "21     GCKDGN101A2DZK   0.751943\n",
       "22     GCKDGN101A2LIL   0.605440\n",
       "23     GCKDGN101A2NZY   0.445518\n",
       "24     GCKDGN101A2R04   0.694789\n",
       "25     GCKDGN101A2WY5   0.628895\n",
       "26     GCKDGN101A35AI   0.170293\n",
       "27     GCKDGN101A38VU   0.886832\n",
       "28     GCKDGN101A39U8   0.491907\n",
       "29     GCKDGN101A3AVK   0.524441\n",
       "...                ...       ...\n",
       "13758     isotig32619   1.032320\n",
       "13759     isotig32645   0.984676\n",
       "13760     isotig32665   0.230087\n",
       "13761     isotig32717   0.733053\n",
       "13762     isotig32730   0.340215\n",
       "13763     isotig32740   0.593341\n",
       "13764     isotig32767   0.970656\n",
       "13765     isotig32781   0.861883\n",
       "13766     isotig32795   1.010170\n",
       "13767     isotig32805   0.468420\n",
       "13768     isotig32821   0.207627\n",
       "13769     isotig32829   0.756356\n",
       "13770     isotig32836   1.457250\n",
       "13771     isotig32872   0.960073\n",
       "13772     isotig32873   0.753304\n",
       "13773     isotig32875   0.691457\n",
       "13774     isotig32909   0.000000\n",
       "13775     isotig32914   0.000000\n",
       "13776     isotig32936   1.585850\n",
       "13777     isotig32941   0.261595\n",
       "13778     isotig32968   0.707426\n",
       "13779     isotig33023   0.698778\n",
       "13780     isotig33042   0.963724\n",
       "13781     isotig33055   0.307721\n",
       "13782     isotig33063   0.875935\n",
       "13783     isotig33069   0.000000\n",
       "13784     isotig33082   0.218770\n",
       "13785     isotig33093   0.429516\n",
       "13786     isotig33136   0.809603\n",
       "13787     isotig33159   1.262630\n",
       "\n",
       "[13788 rows x 2 columns]"
      ]
     },
     "execution_count": 15,
     "metadata": {},
     "output_type": "execute_result"
    }
   ],
   "source": [
    "#To plot density curve, must use CpG data with original annotation\n",
    "CpG = pd.read_table('Past_cpg_anno', header=None, )\n",
    "CpG"
   ]
  },
  {
   "cell_type": "code",
   "execution_count": 16,
   "metadata": {
    "collapsed": false
   },
   "outputs": [
    {
     "ename": "TypeError",
     "evalue": "Empty 'Series': no numeric data to plot",
     "output_type": "error",
     "traceback": [
      "\u001b[0;31m---------------------------------------------------------------------------\u001b[0m",
      "\u001b[0;31mTypeError\u001b[0m                                 Traceback (most recent call last)",
      "\u001b[0;32m<ipython-input-16-7c4dd726e07c>\u001b[0m in \u001b[0;36m<module>\u001b[0;34m()\u001b[0m\n\u001b[1;32m      1\u001b[0m \u001b[0;31m# pandas density plot\u001b[0m\u001b[0;34m\u001b[0m\u001b[0;34m\u001b[0m\u001b[0m\n\u001b[0;32m----> 2\u001b[0;31m \u001b[0mCpG\u001b[0m\u001b[0;34m[\u001b[0m\u001b[0;36m0\u001b[0m\u001b[0;34m]\u001b[0m\u001b[0;34m.\u001b[0m\u001b[0mplot\u001b[0m\u001b[0;34m(\u001b[0m\u001b[0mkind\u001b[0m\u001b[0;34m=\u001b[0m\u001b[0;34m'kde'\u001b[0m\u001b[0;34m,\u001b[0m \u001b[0mlinewidth\u001b[0m\u001b[0;34m=\u001b[0m\u001b[0;36m3\u001b[0m\u001b[0;34m)\u001b[0m\u001b[0;34m;\u001b[0m\u001b[0;34m\u001b[0m\u001b[0m\n\u001b[0m\u001b[1;32m      3\u001b[0m \u001b[0mplt\u001b[0m\u001b[0;34m.\u001b[0m\u001b[0maxis\u001b[0m\u001b[0;34m(\u001b[0m\u001b[0;34m[\u001b[0m\u001b[0;34m-\u001b[0m\u001b[0;36m0.3\u001b[0m\u001b[0;34m,\u001b[0m \u001b[0;36m1.7\u001b[0m\u001b[0;34m,\u001b[0m \u001b[0;36m0\u001b[0m\u001b[0;34m,\u001b[0m \u001b[0;36m1.7\u001b[0m\u001b[0;34m]\u001b[0m\u001b[0;34m)\u001b[0m\u001b[0;34m\u001b[0m\u001b[0m\n",
      "\u001b[0;32m/Users/jd/anaconda/lib/python2.7/site-packages/pandas/tools/plotting.pyc\u001b[0m in \u001b[0;36mplot_series\u001b[0;34m(series, label, kind, use_index, rot, xticks, yticks, xlim, ylim, ax, style, grid, legend, logx, logy, secondary_y, **kwds)\u001b[0m\n\u001b[1;32m   2258\u001b[0m                      secondary_y=secondary_y, **kwds)\n\u001b[1;32m   2259\u001b[0m \u001b[0;34m\u001b[0m\u001b[0m\n\u001b[0;32m-> 2260\u001b[0;31m     \u001b[0mplot_obj\u001b[0m\u001b[0;34m.\u001b[0m\u001b[0mgenerate\u001b[0m\u001b[0;34m(\u001b[0m\u001b[0;34m)\u001b[0m\u001b[0;34m\u001b[0m\u001b[0m\n\u001b[0m\u001b[1;32m   2261\u001b[0m     \u001b[0mplot_obj\u001b[0m\u001b[0;34m.\u001b[0m\u001b[0mdraw\u001b[0m\u001b[0;34m(\u001b[0m\u001b[0;34m)\u001b[0m\u001b[0;34m\u001b[0m\u001b[0m\n\u001b[1;32m   2262\u001b[0m \u001b[0;34m\u001b[0m\u001b[0m\n",
      "\u001b[0;32m/Users/jd/anaconda/lib/python2.7/site-packages/pandas/tools/plotting.pyc\u001b[0m in \u001b[0;36mgenerate\u001b[0;34m(self)\u001b[0m\n\u001b[1;32m    898\u001b[0m     \u001b[0;32mdef\u001b[0m \u001b[0mgenerate\u001b[0m\u001b[0;34m(\u001b[0m\u001b[0mself\u001b[0m\u001b[0;34m)\u001b[0m\u001b[0;34m:\u001b[0m\u001b[0;34m\u001b[0m\u001b[0m\n\u001b[1;32m    899\u001b[0m         \u001b[0mself\u001b[0m\u001b[0;34m.\u001b[0m\u001b[0m_args_adjust\u001b[0m\u001b[0;34m(\u001b[0m\u001b[0;34m)\u001b[0m\u001b[0;34m\u001b[0m\u001b[0m\n\u001b[0;32m--> 900\u001b[0;31m         \u001b[0mself\u001b[0m\u001b[0;34m.\u001b[0m\u001b[0m_compute_plot_data\u001b[0m\u001b[0;34m(\u001b[0m\u001b[0;34m)\u001b[0m\u001b[0;34m\u001b[0m\u001b[0m\n\u001b[0m\u001b[1;32m    901\u001b[0m         \u001b[0mself\u001b[0m\u001b[0;34m.\u001b[0m\u001b[0m_setup_subplots\u001b[0m\u001b[0;34m(\u001b[0m\u001b[0;34m)\u001b[0m\u001b[0;34m\u001b[0m\u001b[0m\n\u001b[1;32m    902\u001b[0m         \u001b[0mself\u001b[0m\u001b[0;34m.\u001b[0m\u001b[0m_make_plot\u001b[0m\u001b[0;34m(\u001b[0m\u001b[0;34m)\u001b[0m\u001b[0;34m\u001b[0m\u001b[0m\n",
      "\u001b[0;32m/Users/jd/anaconda/lib/python2.7/site-packages/pandas/tools/plotting.pyc\u001b[0m in \u001b[0;36m_compute_plot_data\u001b[0;34m(self)\u001b[0m\n\u001b[1;32m    968\u001b[0m         \u001b[0;32mif\u001b[0m \u001b[0mis_empty\u001b[0m\u001b[0;34m:\u001b[0m\u001b[0;34m\u001b[0m\u001b[0m\n\u001b[1;32m    969\u001b[0m             raise TypeError('Empty {0!r}: no numeric data to '\n\u001b[0;32m--> 970\u001b[0;31m                             'plot'.format(numeric_data.__class__.__name__))\n\u001b[0m\u001b[1;32m    971\u001b[0m \u001b[0;34m\u001b[0m\u001b[0m\n\u001b[1;32m    972\u001b[0m         \u001b[0mself\u001b[0m\u001b[0;34m.\u001b[0m\u001b[0mdata\u001b[0m \u001b[0;34m=\u001b[0m \u001b[0mnumeric_data\u001b[0m\u001b[0;34m\u001b[0m\u001b[0m\n",
      "\u001b[0;31mTypeError\u001b[0m: Empty 'Series': no numeric data to plot"
     ]
    }
   ],
   "source": [
    "# pandas density plot\n",
    "CpG[0].plot(kind='kde', linewidth=3);\n",
    "plt.axis([-0.3, 1.7, 0, 1.7])"
   ]
  },
  {
   "cell_type": "code",
   "execution_count": null,
   "metadata": {
    "collapsed": true
   },
   "outputs": [],
   "source": []
  }
 ],
 "metadata": {
  "kernelspec": {
   "display_name": "Python 2",
   "language": "python",
   "name": "python2"
  },
  "language_info": {
   "codemirror_mode": {
    "name": "ipython",
    "version": 2
   },
   "file_extension": ".py",
   "mimetype": "text/x-python",
   "name": "python",
   "nbconvert_exporter": "python",
   "pygments_lexer": "ipython2",
   "version": "2.7.9"
  }
 },
 "nbformat": 4,
 "nbformat_minor": 0
}
