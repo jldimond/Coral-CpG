{
 "cells": [
  {
   "cell_type": "markdown",
   "metadata": {},
   "source": [
    "# Calculating CpG ratio for the *Acropora millepora* transcriptome"
   ]
  },
  {
   "cell_type": "markdown",
   "metadata": {},
   "source": [
    "This workflow calculates CpG ratio, or CpG O/E, for contigs in the *Acropora millepora* [transcriptome](http://www.ncbi.nlm.nih.gov/nuccore?term=74409%5BBioProject%5D). CpG ratio is an estimate of germline DNA methylation.\n",
    "\n",
    "This workflow is an extension of another IPython notebook workflow, `Amil_blast_anno.ipynb`, that generates an annotation of the same transcriptome. This workflow assumes that you have created the directories and files specified in the annotation workflow."
   ]
  },
  {
   "cell_type": "code",
   "execution_count": 1,
   "metadata": {
    "collapsed": false
   },
   "outputs": [
    {
     "name": "stdout",
     "output_type": "stream",
     "text": [
      "/Users/jd/Documents/Projects/Coral-CpG-ratio-MS/data/Amil\n"
     ]
    }
   ],
   "source": [
    "cd .data/Amil"
   ]
  },
  {
   "cell_type": "code",
   "execution_count": 2,
   "metadata": {
    "collapsed": false
   },
   "outputs": [
    {
     "name": "stdout",
     "output_type": "stream",
     "text": [
      ">gi|379072745|gb|JR970414.1| TSA: Acropora millepora Cluster034439.Acmimixed mRNA sequence\n",
      "TCATCATTATTTCTTTTTGTTTTTCTGTGATCTTCGGTCAATGCGATAGATCCTCGAGTTATCGTGACTG\n",
      "\n",
      "number of seqs =\n",
      "52963\n"
     ]
    }
   ],
   "source": [
    "#fasta file\n",
    "!head -2 Amil_Moya.fasta\n",
    "!echo \n",
    "!echo number of seqs =\n",
    "!fgrep -c \">\" Amil_Moya.fasta"
   ]
  },
  {
   "cell_type": "code",
   "execution_count": 4,
   "metadata": {
    "collapsed": false
   },
   "outputs": [
    {
     "name": "stdout",
     "output_type": "stream",
     "text": [
      "\r\n",
      "Converted 52963 FASTA records in 1149658 lines to tabular format\r\n",
      "Total sequence length: 71250280\r\n",
      "\r\n"
     ]
    }
   ],
   "source": [
    "#Converting FASTA to tabular format and placing output file in analyses directory\n",
    "!perl -e '$count=0; $len=0; while(<>) {s/\\r?\\n//; s/\\t/ /g; if (s/^>//) { if ($. != 1) {print \"\\n\"} s/ |$/\\t/; $count++; $_ .= \"\\t\";} else {s/ //g; $len += length($_)} print $_;} print \"\\n\"; warn \"\\nConverted $count FASTA records in $. lines to tabular format\\nTotal sequence length: $len\\n\\n\";' \\\n",
    "Amil_Moya.fasta > ../../analyses/Amil/fasta2tab"
   ]
  },
  {
   "cell_type": "code",
   "execution_count": 1,
   "metadata": {
    "collapsed": false
   },
   "outputs": [
    {
     "name": "stdout",
     "output_type": "stream",
     "text": [
      "/Users/jd/Documents/Projects/Coral-CpG-ratio-MS/analyses/Amil\n"
     ]
    }
   ],
   "source": [
    "cd ../../analyses/Amil"
   ]
  },
  {
   "cell_type": "code",
   "execution_count": 6,
   "metadata": {
    "collapsed": false
   },
   "outputs": [
    {
     "name": "stdout",
     "output_type": "stream",
     "text": [
      "gi|379072745|gb|JR970414.1|\tTSA: Acropora millepora Cluster034439.Acmimixed mRNA sequence\tTCATCATTATTTCTTTTTGTTTTTCTGTGATCTTCGGTCAATGCGATAGATCCTCGAGTTATCGTGACTGCGCTCCAGACCAAGTCTGTTGTAGGAGGCAGTGTTTTTACAGCTCGAACTGTTTATATCTGTCTTGCTCCATGGACTCCGATTGTTCAGTGAATGAAGTCTGTTGTAGCAGCAAGTGTCGTTCTGGTNNNNNNNNNNCTGACTGCAGTGGGGATTTTTGTCGCTCGAACAATGATTGCAGCGTTGGGCAAAAGTGTTGTGTGAATACCTGCACCAACTATGATTGTGAGGACCCTACCGTCGCCATTCTTATCGCGGTAGTGGGTTCGCTCGTGGGCTTATTTGTTGTTTTCATTTCAATTTACTACTGCCACAGAAGAGCTCGTTTGGGTCGTTCCGGTACAGCAGAGGTGGGAAGACAAGTTGCCCCAACCGATGCTATCACAACCCAATCAGCAAACCAACAAGGCTACGCATATCAGCAACTCCCTTAAATATCATCAGTATCAGACACCCATTTACAATCCGGAGACACAGAGACAACCAGGAGGAATACTTACTTCACATCGTGCATATGGTGAACTTCAAACCACTTGATCCCCATGTCCAGCGGAAGACT\n",
      "gi|379072746|gb|JR970415.1|\tTSA: Acropora millepora Cluster034438.Acmimixed mRNA sequence\tCGCCCCCACGTCGTCATCTGACGTTCCTGTCCTGTTGCTAAATCAGCCTATTGATTGCGGGAACACATCAATCAACTACTAAACAACAGAATCCTGGGTTTTCAGACTTACAGTGTCTCTGCGATGAGGAGAATGTTCCCCTGTCACCACAAGCACTCCTGTCTGGGCACTAAGACAAATCAGCAATGAGACATTCTTGGCTTCCAAATCAATAAGTGCACATTAACTGGTGTTTGGAGAGACCAATCACCTATCTAGATATGGTCCACCATATTGCAGATTGAAACAATGAATAATAGAACACAAACAATACCCTAACTTGACCACAATAGAAGGTACAGGTTATAAGGACAAATAACAACAGAGGTCTGGAAAAGCCACAGGATTACTCAGTTTGAGGCAAGACATGCCACCTCATAAAATATCTTTGAACATCTATTATTGAATGTTTACATTAACCACCTGTAGATAAAGTGCTTAAGCCTCTTTGTAAAATACAAGAACACAAAACTATATATACACTAATTTGCAGTATCTCAAGTTGTTGTAACAGGCTACTCACTCAATCCTGTGTCCCTTCATATCTTTCATCAAATCAGAGCGAGCATTGGAATGCACACAATGTAGC\n",
      "gi|379125706|gb|JT023376.1|\tTSA: Acropora millepora Cluster011149.Acmimixed mRNA sequence\tGATATTGTCGTTAGTCTTGCTGTCATTTACAAAGCGCGTGTTTAGCAGCATGGAGCATATGACGCCATGAGTTCCCTAGACGCTTAGTAACCAAGCTACTGTTATCGACACGAGTGCAGTCGCTCTCGGACAAGCGATGATGCGGGTAATGTGAAGAGTCGATTCAATTCATTCTCCTAGAGGAACATGTCCGTTAGTTTTAAAGAGGGAGCTAGCCAAGGCTCTGCACAAACTATGAAAACCACGCCTAAAAAACACAGATGGTATCTTGGGGGTATCGCTTCTGCCATGGCGGCGTGCTGCACCCATCCATTGGATCTTCTTAAGGTTCATTTACAAACACAACAGCAAGCTACTCATAACCTTACATCCATGGGAATTCATGTTGTCCGTACGCAGGGTGTGTTAGCACTTTATAATGGACTTTCAGCCTCCGTAATGAGACAGTTAACATATTCCACAACACGCTATGGCTTATATGAAGTGGTAACAGCAGAGCTAAAGAAAACTAATGATCCAATACCCTTTTACCAGAAAATTGCTGTGGCAGCTGCAGCAGGTTTTGTGGGAGGAATTGTTGGAAACCCTGCAGATATGGTAAATGTAAGGATGCAAAATGATGTGAAAATGCTTGACTTGGCAAAAAGAAGAAACTACAACCACGTATTTGATGGTCTCTATCGAACAGCAACAGAAGAGGGTGTGAGCACATGGATGAGAGGTGTGACTATGACATCATCAAGGGCTCTTCTCATGACAGTGGCCCAGATAGCCTGCTATGACCAAGCAAAGCAGTTCTTACTTACAACAAGGTAAGGATAAACAAACATGGCAACTGTTTATTGATTGTTGTAATCATTGTGATTATCAACACACAGTATTTGTTGCAATGGTCACTCAACATTAGAATTGACATCAAAACCTTCCCCACTGATTGCAAAAAGTGTTATTTTCCTGTTATATAAACCTGTCAGCTGGCAATTAATTTTATATTTGCAGGTTTTTCAAGGACAATATCGTCACACATTTTACAGCGAGTTTCATAGCGGGTACAATTGCTACTAGCATTACACAGCCAGTTGATGTAATGAAAACAAGACTGATGGAGGCAAAACCTGGACAATATAAGAGTGTAGCCCATTGTATTCTTTATACAGCAAAACTTGGACCTCTTGGATTTTATAAGGGTTTTATTCCAGCTTGGGTTCGCTTAGCACCTCACACAATCCTCACATGGATTTTTCTGGAGCAGCTGAGGGTTTTCTTTCCAATAAAGCAGTAATAGTAATTCTCAAAGTATTAACTATGATTAGATTTTGTTTAGAAATAAAAGAAAGAGTTATTTATTTGAAAATTTAATTAAATGGAGTACATAATATTGTTTCAATTCCCAAAGGTGGAGGTAGGGGAAATAGCAGCATTTGCTACTCTCATTAGTCTGAAAGGAGTCCTATCTTTGCCACCAAGTCTAAGAACAAGGTGAAAATAAAAACAGGTGTAATGAGAAAATGTCTGCTCAAAATCTAGATTTTGCATGGTCATTTTTTAAGATGGAATCAAATGACGAAGGAGGAGTTGCTTGTAATCCAAGTTTAACCAACACTAGGGCGAAATTTATAATAATAATAATGATAATAATAATAATAATAATAATAATAACAACAACAAGAGTTATTGTTGAAGGGATTATCCATTCAAACTGATTACTCTCTCGCAAAGCAATTTGATTGTGCAAAAGGAACAATTATTGAGTTGTGTGAGAATGCACTGGGTAATGACATTGAAATTCTGAAGAATTACTGTTTTAAAATTTTCTGTTTAGATTGGCATCATTTTATAAATTACTTTCAGTAAGAATCCTCAGAAAGGTGTGATTAAGTTGTAGTATTAATAATAATTATTATTGAGATGATAATTGCGTTTAAGTGTTGTAATACAGTTTTTCATATCCTGAGTAATACATGTTTATATGCAACGTCAGTGGCAAAAAGTCAATGGTTTAATAAATTGGTCGCCGTGCAACGTAATTTTATTAATTATTTAACAAATAAATAAGCCTAAGCCGTGTTGCTCT\n",
      "gi|379125707|gb|JT023377.1|\tTSA: Acropora millepora Cluster028086.Acmimixed mRNA sequence\tAAGGTTCCAGAGCTTAATTCTATTGCGTTAGAAATTTTCCAGAAATGTATGTTAAATGGGATCACTATTGATGTGAATTGGATCCCAAGAGATTTCAACAGTGTGGCAGATGAGATTAGTAAGATAATAGATTACGATGATTACACAATTAATGATGATATTTTTGCTTTTTTGGACAAATCATGGGGACCCCATACAGTCGATCGTTTTGCGTGTCACTATAATAAGAAGCTACCTTTATTTAATTCGAAGTTTTTTCAGCCAGGCACGAGTGGGGTGAATGCTTTCAGCCAAGACTGGGCTTTTGCCAATAATTGGTTATGTCCTCCCATTTATCTCACCGCGAGGGTAGTTAATCATTTGAAAGCTTGTAGAGCGGCTGGGACCCTTATCGTCCCTTTGTGGAGATCGGCACATTTTTGGCCAATTATTTGTGACGATGGAGTTCACTTTAGTAACTTTGTGCATGACTGGTATGTTTTGCCGCACATTCCTAATTTATTTATTAGAGGTAAAGCAAAGAATTGTATCTTCGGAAACGGCCAGTTGAAGTTTATAATGTTGGCATTAAGGATTGATTTTTCTGTCCCTCTTAGGTCCGCTGTACGAGGATTTTGTACTGAGTTTAAGCAACTCTGCACTGTCTGTACGACGTGACGTCGTTTGTTGTGTCTTGTAGGGCTTGAGGCCACGGTTGTGCGTGTTTTTTCACACGTCTAGGTGATAATAGTGATAACACTGAGAGATCTGTGTTTTGTTGGCTTGAGGCCATGGAGGTTGTTCCCTGCGTGGAACTGGAGTTTTGGCATTTTAGGCCACAGAGATTGACGTTCTGAGAACTGTCGTATTTTACTATTCCAGATTGTGTATTATGGCGGGGCTAGGGTTTCGCAACTCGTACTCCTTCTAGCGTAGCTAAAGTTTCATTCGTGTTCAATCGAATAAATCACAAGAAAGAGAATGGATTCGTCGG\n"
     ]
    }
   ],
   "source": [
    "#Checking header on new tabular format file\n",
    "!head -2 fasta2tab\n",
    "!tail -2 fasta2tab"
   ]
  },
  {
   "cell_type": "code",
   "execution_count": 7,
   "metadata": {
    "collapsed": false
   },
   "outputs": [
    {
     "name": "stdout",
     "output_type": "stream",
     "text": [
      "gi\t379072745\tgb\tJR970414.1\t\tTSA: Acropora millepora Cluster034439.Acmimixed mRNA sequence\tTCATCATTATTTCTTTTTGTTTTTCTGTGATCTTCGGTCAATGCGATAGATCCTCGAGTTATCGTGACTGCGCTCCAGACCAAGTCTGTTGTAGGAGGCAGTGTTTTTACAGCTCGAACTGTTTATATCTGTCTTGCTCCATGGACTCCGATTGTTCAGTGAATGAAGTCTGTTGTAGCAGCAAGTGTCGTTCTGGTNNNNNNNNNNCTGACTGCAGTGGGGATTTTTGTCGCTCGAACAATGATTGCAGCGTTGGGCAAAAGTGTTGTGTGAATACCTGCACCAACTATGATTGTGAGGACCCTACCGTCGCCATTCTTATCGCGGTAGTGGGTTCGCTCGTGGGCTTATTTGTTGTTTTCATTTCAATTTACTACTGCCACAGAAGAGCTCGTTTGGGTCGTTCCGGTACAGCAGAGGTGGGAAGACAAGTTGCCCCAACCGATGCTATCACAACCCAATCAGCAAACCAACAAGGCTACGCATATCAGCAACTCCCTTAAATATCATCAGTATCAGACACCCATTTACAATCCGGAGACACAGAGACAACCAGGAGGAATACTTACTTCACATCGTGCATATGGTGAACTTCAAACCACTTGATCCCCATGTCCAGCGGAAGACT\r\n",
      "gi\t379072746\tgb\tJR970415.1\t\tTSA: Acropora millepora Cluster034438.Acmimixed mRNA sequence\tCGCCCCCACGTCGTCATCTGACGTTCCTGTCCTGTTGCTAAATCAGCCTATTGATTGCGGGAACACATCAATCAACTACTAAACAACAGAATCCTGGGTTTTCAGACTTACAGTGTCTCTGCGATGAGGAGAATGTTCCCCTGTCACCACAAGCACTCCTGTCTGGGCACTAAGACAAATCAGCAATGAGACATTCTTGGCTTCCAAATCAATAAGTGCACATTAACTGGTGTTTGGAGAGACCAATCACCTATCTAGATATGGTCCACCATATTGCAGATTGAAACAATGAATAATAGAACACAAACAATACCCTAACTTGACCACAATAGAAGGTACAGGTTATAAGGACAAATAACAACAGAGGTCTGGAAAAGCCACAGGATTACTCAGTTTGAGGCAAGACATGCCACCTCATAAAATATCTTTGAACATCTATTATTGAATGTTTACATTAACCACCTGTAGATAAAGTGCTTAAGCCTCTTTGTAAAATACAAGAACACAAAACTATATATACACTAATTTGCAGTATCTCAAGTTGTTGTAACAGGCTACTCACTCAATCCTGTGTCCCTTCATATCTTTCATCAAATCAGAGCGAGCATTGGAATGCACACAATGTAGC\r\n"
     ]
    }
   ],
   "source": [
    "#Removing pipes\n",
    "!tr '|' \"\\t\" <fasta2tab> fasta2tab2\n",
    "!head -2 fasta2tab2"
   ]
  },
  {
   "cell_type": "code",
   "execution_count": 8,
   "metadata": {
    "collapsed": false
   },
   "outputs": [
    {
     "name": "stdout",
     "output_type": "stream",
     "text": [
      "\r\n",
      "Added column with length of column 6 for 52963 lines.\r\n",
      "\r\n"
     ]
    }
   ],
   "source": [
    "#Add column with length of sequence\n",
    "!perl -e '$col = 6;' -e 'while (<>) { s/\\r?\\n//; @F = split /\\t/, $_; $len = length($F[$col]); print \"$_\\t$len\\n\" } warn \"\\nAdded column with length of column $col for $. lines.\\n\\n\";' \\\n",
    "fasta2tab2 > tab_1"
   ]
  },
  {
   "cell_type": "code",
   "execution_count": 9,
   "metadata": {
    "collapsed": false
   },
   "outputs": [
    {
     "name": "stdout",
     "output_type": "stream",
     "text": [
      "gi\t379072745\tgb\tJR970414.1\t\tTSA: Acropora millepora Cluster034439.Acmimixed mRNA sequence\tTCATCATTATTTCTTTTTGTTTTTCTGTGATCTTCGGTCAATGCGATAGATCCTCGAGTTATCGTGACTGCGCTCCAGACCAAGTCTGTTGTAGGAGGCAGTGTTTTTACAGCTCGAACTGTTTATATCTGTCTTGCTCCATGGACTCCGATTGTTCAGTGAATGAAGTCTGTTGTAGCAGCAAGTGTCGTTCTGGTNNNNNNNNNNCTGACTGCAGTGGGGATTTTTGTCGCTCGAACAATGATTGCAGCGTTGGGCAAAAGTGTTGTGTGAATACCTGCACCAACTATGATTGTGAGGACCCTACCGTCGCCATTCTTATCGCGGTAGTGGGTTCGCTCGTGGGCTTATTTGTTGTTTTCATTTCAATTTACTACTGCCACAGAAGAGCTCGTTTGGGTCGTTCCGGTACAGCAGAGGTGGGAAGACAAGTTGCCCCAACCGATGCTATCACAACCCAATCAGCAAACCAACAAGGCTACGCATATCAGCAACTCCCTTAAATATCATCAGTATCAGACACCCATTTACAATCCGGAGACACAGAGACAACCAGGAGGAATACTTACTTCACATCGTGCATATGGTGAACTTCAAACCACTTGATCCCCATGTCCAGCGGAAGACT\t628\n",
      "   52963  635556 76310959 tab_1\n"
     ]
    }
   ],
   "source": [
    "!head -1 tab_1\n",
    "!wc tab_1"
   ]
  },
  {
   "cell_type": "code",
   "execution_count": 10,
   "metadata": {
    "collapsed": false
   },
   "outputs": [
    {
     "name": "stdout",
     "output_type": "stream",
     "text": [
      "379072745 \t TCATCATTATTTCTTTTTGTTTTTCTGTGATCTTCGGTCAATGCGATAGATCCTCGAGTTATCGTGACTGCGCTCCAGACCAAGTCTGTTGTAGGAGGCAGTGTTTTTACAGCTCGAACTGTTTATATCTGTCTTGCTCCATGGACTCCGATTGTTCAGTGAATGAAGTCTGTTGTAGCAGCAAGTGTCGTTCTGGTNNNNNNNNNNCTGACTGCAGTGGGGATTTTTGTCGCTCGAACAATGATTGCAGCGTTGGGCAAAAGTGTTGTGTGAATACCTGCACCAACTATGATTGTGAGGACCCTACCGTCGCCATTCTTATCGCGGTAGTGGGTTCGCTCGTGGGCTTATTTGTTGTTTTCATTTCAATTTACTACTGCCACAGAAGAGCTCGTTTGGGTCGTTCCGGTACAGCAGAGGTGGGAAGACAAGTTGCCCCAACCGATGCTATCACAACCCAATCAGCAAACCAACAAGGCTACGCATATCAGCAACTCCCTTAAATATCATCAGTATCAGACACCCATTTACAATCCGGAGACACAGAGACAACCAGGAGGAATACTTACTTCACATCGTGCATATGGTGAACTTCAAACCACTTGATCCCCATGTCCAGCGGAAGACT \t 628\r\n"
     ]
    }
   ],
   "source": [
    "#Just printing contig ID in column 2\n",
    "!awk '{print $2, \"\\t\", $11, \"\\t\", $12}' tab_1 > tab_2\n",
    "!head -1 tab_2"
   ]
  },
  {
   "cell_type": "code",
   "execution_count": 11,
   "metadata": {
    "collapsed": false
   },
   "outputs": [],
   "source": [
    "#Instead of using the step to deal with description name issues above, the file used to count Cs and Gs will only include the sequence\n",
    "!awk '{print $2}' tab_2 > tab_3"
   ]
  },
  {
   "cell_type": "code",
   "execution_count": 12,
   "metadata": {
    "collapsed": false
   },
   "outputs": [],
   "source": [
    "#This counts CGs - both cases\n",
    "!echo \"CG\" | awk -F\\[Cc][Gg] '{print NF-1}' tab_3 > CG "
   ]
  },
  {
   "cell_type": "code",
   "execution_count": 13,
   "metadata": {
    "collapsed": false
   },
   "outputs": [],
   "source": [
    "#Counts Cs\n",
    "!echo \"C\" | awk -F\\[Cc] '{print NF-1}' tab_3 > C "
   ]
  },
  {
   "cell_type": "code",
   "execution_count": 14,
   "metadata": {
    "collapsed": false
   },
   "outputs": [],
   "source": [
    "#Counts Gs\n",
    "!echo \"G\" | awk -F\\[Gg] '{print NF-1}' tab_3 > G "
   ]
  },
  {
   "cell_type": "code",
   "execution_count": 15,
   "metadata": {
    "collapsed": false
   },
   "outputs": [
    {
     "name": "stdout",
     "output_type": "stream",
     "text": [
      "379072745 \t TCATCATTATTTCTTTTTGTTTTTCTGTGATCTTCGGTCAATGCGATAGATCCTCGAGTTATCGTGACTGCGCTCCAGACCAAGTCTGTTGTAGGAGGCAGTGTTTTTACAGCTCGAACTGTTTATATCTGTCTTGCTCCATGGACTCCGATTGTTCAGTGAATGAAGTCTGTTGTAGCAGCAAGTGTCGTTCTGGTNNNNNNNNNNCTGACTGCAGTGGGGATTTTTGTCGCTCGAACAATGATTGCAGCGTTGGGCAAAAGTGTTGTGTGAATACCTGCACCAACTATGATTGTGAGGACCCTACCGTCGCCATTCTTATCGCGGTAGTGGGTTCGCTCGTGGGCTTATTTGTTGTTTTCATTTCAATTTACTACTGCCACAGAAGAGCTCGTTTGGGTCGTTCCGGTACAGCAGAGGTGGGAAGACAAGTTGCCCCAACCGATGCTATCACAACCCAATCAGCAAACCAACAAGGCTACGCATATCAGCAACTCCCTTAAATATCATCAGTATCAGACACCCATTTACAATCCGGAGACACAGAGACAACCAGGAGGAATACTTACTTCACATCGTGCATATGGTGAACTTCAAACCACTTGATCCCCATGTCCAGCGGAAGACT \t 628\t25\t145\t140\r\n",
      "379072746 \t CGCCCCCACGTCGTCATCTGACGTTCCTGTCCTGTTGCTAAATCAGCCTATTGATTGCGGGAACACATCAATCAACTACTAAACAACAGAATCCTGGGTTTTCAGACTTACAGTGTCTCTGCGATGAGGAGAATGTTCCCCTGTCACCACAAGCACTCCTGTCTGGGCACTAAGACAAATCAGCAATGAGACATTCTTGGCTTCCAAATCAATAAGTGCACATTAACTGGTGTTTGGAGAGACCAATCACCTATCTAGATATGGTCCACCATATTGCAGATTGAAACAATGAATAATAGAACACAAACAATACCCTAACTTGACCACAATAGAAGGTACAGGTTATAAGGACAAATAACAACAGAGGTCTGGAAAAGCCACAGGATTACTCAGTTTGAGGCAAGACATGCCACCTCATAAAATATCTTTGAACATCTATTATTGAATGTTTACATTAACCACCTGTAGATAAAGTGCTTAAGCCTCTTTGTAAAATACAAGAACACAAAACTATATATACACTAATTTGCAGTATCTCAAGTTGTTGTAACAGGCTACTCACTCAATCCTGTGTCCCTTCATATCTTTCATCAAATCAGAGCGAGCATTGGAATGCACACAATGTAGC \t 628\t7\t145\t107\r\n",
      "379072747 \t CGTCCTCGTGACTCATCATTGCTTTTGTCAATACACGAGAGTGAAAAGTCCCAGATAATTGGGAGGCTGGAGGATACTGTGATCATAATATTGTAACTATTAATAAAGTATGAACAATGTGGCTGCACTGGGAAGAGCACCAATATGGCCTGCATGGGTCAGGAGCCTGACTTGGGGCTGTGTGCTGGTTGAGTCTGTAACAAGGTTTTCTTCACTGTTCCAAGAGGTTTAATCTTCAGTTCTTATAGGTTTGTATTTGATAGTGAATCACTATGGCAACCAATTGGAGACAGCTGCTGACTGTAGAACCAGTGATGTTCTTTTATGCATATGGCTTGTTTATGGCAATGCCTGTTTTCCAGCAATATATCTACCATCGGCTTAGTGAAGAACATCATTTTCCATACAACTTTAAGGAACAAACCTCAAGTTGCGGAAGTTCCTTGAATGAATCAATGGAGAAACTTGAGAAAAAGGTGCAGTCTTCTGCTTCTTATGTTCAACTGGGCGTTGTCATGTTTTCTACCTTTCCATCGATTGTGATGACCCTCTTCATGGGTGGTTGGACAGATAAGGTGGGCCGACGCCCTGCTCTGATCATGCCACTTCTTGGCAGTGCACTGGATGCTGCTGTTGTACTTACTGTCATGTATGCCAAGTTGCCTGTGTACTGTCTCTTTATTGGCTCTTTTATCCATGGAGTTTGTGGATATTACACCACCATTCTCTTGGCCTGTTTGGCCTACATTGCGGACACCACTGAGCGGGGACATTTTGCATTTAGATTGGGTATTTTAGAAGCCATTGTTTTTGTGGGAGGAATGGTTGCCCAGTTAACAAGTGGGTTTTGGATTGAAAAGCTGGGATTCACTGCTCCGTATTGGTTCATATTTGGATGTGAAGTCTTTGCGCTGATTTATGCAGCTGTTCTTGTTCCTGAGTCAAAATGCCCATCCAAGGAAGAGAGAGGAAAGCTTTTCAGCTTGGATAACTTGAAGTCTTCTTGGAAAGTTTACAAAAAGGCTGTGGGCACTAAGAAGAGAAATTTAATCATTTTGACATTTTGCTGTGGTATCACGGCCATACCAATCATGGGTATACGTGGAGTTTCGAGCCTGTTTTTGCTTTATTCCCCACTCTGTTTCTCACCAGAACGTGTGGGATATTTTTCAGCCTTGCAGAATTCTGTTTATGGTGTTGGTGGTATTGTGACTATAAAAGCATTTGGAATGTGTCTTTCTCATGTCAATGTAGCGCGCATATCCATTCTATCATATCTAGGATTCCTCGTATACTTTGGATTTTCAAGAACTCTGCTCATGGTCTTTTTGAGTCCCTTGATAGGGATTCTTGGTGGAGCTGTAGCCCCTTTAATCAGAGCGATGATGTCCGAGATTGTCAGTTCAGATGACCAAGGTTCACTTTTTTCAGCCACATCATCTATGGAGGTTCTATTCACGTACCTCGGAGCTCTCCTATTGAACTCACTCTACGCGAAATCTCTAAAATTCAATGCTCCTGGGTTTGTGTTTTTCCTGGCTGCTGGCATACTATTGCTGCCCCTCGCTTTAACTTTCTGCTTAAAAGATCTGTCCATGTTTAAAATGGGAAGGAAGCTAATAAATAAAGCCAGTAGATATGAGAGCATAACAGACGAGGAAGACGGGAGAGAGGGCCAAACAGGATCTCCCGATTCACCGTATTCTGACATAACTGGCGATGATCTGCATGTTATTCCGGGCGGTGACGGGAGGAATGTGTAAACTGAGGAAGTCCGCGTACGATGGGATAAAAACAGGTTTCTCTTCTTGGGGTTCTAGTGCTAAAGTTGCAGCCAAATTCTGACCAAAAAATCACAGAAGACGCCATGATACTTCATTTTGATGTCGATCATTGTACTGTTTGATATATTTTGGAACGTAAGATATGGTCGCATGCAATGAAAACCTTATTTCCATGCTGATTTGGTGTCATATATTTTGGTTCAACCAATCAGATCTGCTGTTAGATGAAAAAAAGGTGAAGCGTAGAAAATGATAAGCGTAACCAATAATAGCCAAAGAGGTCATTGTTCTTAAATGGAAACGAGGCTTCTGTCTCACGTGATCAAAGACTCGTTTGGTCTGTCTATCCACTCTTTGTAATGCGACCAGGAGCTTTACATCTCACATGTAGTTGTCTTTTCAAGGAAAAGGAATTTATTTAACACTGAAAATAGTTTGAACCCAGGAGTGACACGCCTTGATTGAATCTGATTGTATGGGCAAGTGGAATCCTGAGAAGAATTGTGGTTGGCTGTGACTGACGTTTCGACAACCTTTGCGGCAGAAATTTTCTGTGTCAAGTAATGATGTAATCAGTTGCTTTTATGTTCTTATTAATAAGTACTCCTCTCGCCAAGACGACCAGCTTTCATCAAGAAATTTTATTTACTTGTCGATTTGTAAATATTTCATAATCGACTGTCCCCAGTCGCTCAAAGGCTGGGTGGCACTTAGTCTATCCACTGGACAGAGACTTGGACATAGCGCTATCCACAGGTTGAACGACAGGGGCCTGGTATGTGTAAAATTAAGCTGAATATAGCAGATATCCGCGGACTTCGAACACCGATACGTTATTGAGATTAGGCGGTAGAAAGATAGATAGATAGAAAGATAGATAGATAGATAGATAGAT \t 2679\t65\t501\t623\r\n",
      "379072748 \t TCGACTTCGTCTTGGGAAACAGATATTCAAGGGAAACAAAATTCATTGTTCCCCAAAGGACCAGTCATTAAGTTATTTGTTGCATAGGAAAACAAAGGAAGAAAAAGCGTGCTGAGATTCCAGTGACAACAACAGGCCAACTTCAACGGCATGCTCAGATCACGTGTAGCAGCAGTCAACGTAGCCCGGGTAACAGTGAACTATTTCCCATTTTACGTTATCGTTTTCGCAATTGTTGCTGCTTGCGGCATTTGGCGGTGAACAGTTTCACAGTCAGAGGTCATGTGGCCATGAACTAGTCAATGAATGGGTGAGCCATGGCGGATGGCGGGAAGAACACCAGCTGTACAAAAATTTGTGTTAAGGTTGCATAAGTTTGATTCACAATTACAGTGCACAATAGAACTGAATCATAGGAAAACATGGACAAAGCACATCAAATCAAAACAAACATTGCTTGATATGCACCACAACGAAACTATTGTGAGAAGTCATTGAGACTCGGGTGGCTAAGTGTCTCAGTACCATATCCAGCAAAGTTGTATGAAAGGAGAGAATGATGCTCGCCCTTTATGTTATTTAGTCAGGGAGCCATTTAGTTTTTGGTGTGGTCACGCAACGCTACTCTC \t 629\t19\t123\t147\r\n",
      "379072749 \t TTGAGACGTAGCCTGGTGTAACAACCAATAAAATCCCTGTAAGCAAATCAGTTATTGCCAGGTTAAACAGCAGCATATTATGAGGCTTTCGTAACATTTCACGTTTCTTGAATAATACGAGACAAAACATGAGGTTGAACGTGAAGGCTGAGCCAGCGATGACGGTGAAAGCGGTTTCAAGCACACTCTCTGATAGCGACTCGCTTTGTTCGGTAAATGCAGTTGATTGGTTGTTTTCTTGTCCATTCAAGCTATATGATTGGCTTATTTCAGTGGCTGATATCAACGTTGATTGGTTGATTGCAGATTCCATGATGGCAGTTGATTGGCTTAATCAAAGCTTCGAACGCAGTGTCATTAGTTTCGTGCTTTTAGATGTGATGATGCCGAGTAAATTCTAAATCCTGTTTAGAAAGACCAGGCTCAAAGGTCAGTGTGACAAGTTATCTTCAAACAGATTCTACTTCTTTCAAGTGTTCTGGTTGTAGTCTTTCTGTGTCGAGCTTTTAAGATGTGTGCAGTGGGCCACCTCAATCAGTTACAACAGGATCACTTCCGGAAATGAAAATACAGGTTAATTCTCTGGAGTAAGCTTTGAGGTTGGATAAAACATTACTGACCGATGTGTG \t 629\t19\t111\t146\r\n"
     ]
    }
   ],
   "source": [
    "#Combining counts\n",
    "!paste tab_2 \\\n",
    "CG \\\n",
    "C \\\n",
    "G \\\n",
    "> comb\n",
    "!head -5 comb"
   ]
  },
  {
   "cell_type": "markdown",
   "metadata": {},
   "source": [
    "# Calculating CpGo/e based on [Gavery and Roberts (2010)](http://www.biomedcentral.com/1471-2164/11/483)"
   ]
  },
  {
   "cell_type": "markdown",
   "metadata": {},
   "source": [
    "<img src=\"http://eagle.fish.washington.edu/cnidarian/skitch/BMC_Genomics___Full_text___DNA_methylation_patterns_provide_insight_into_epigenetic_regulation_in_the_Pacific_oyster__Crassostrea_gigas__1A0683A5.png\" alt=\"BMC_Genomics___Full_text___DNA_methylation_patterns_provide_insight_into_epigenetic_regulation_in_the_Pacific_oyster__Crassostrea_gigas__1A0683A5.png\"/>"
   ]
  },
  {
   "cell_type": "code",
   "execution_count": 16,
   "metadata": {
    "collapsed": false
   },
   "outputs": [],
   "source": [
    "!awk '{print $1, \"\\t\", (($4)/($5*$6))*(($3^2)/($3-1))}' comb > ID_CpG #use ^ instead of ** for exponent\n"
   ]
  },
  {
   "cell_type": "code",
   "execution_count": 17,
   "metadata": {
    "collapsed": false
   },
   "outputs": [
    {
     "name": "stdout",
     "output_type": "stream",
     "text": [
      "379072745 \t 0.774633\r\n",
      "379072746 \t 0.283791\r\n",
      "379072747 \t 0.558113\r\n",
      "379072748 \t 0.662023\r\n",
      "379072749 \t 0.738617\r\n",
      "379072750 \t 0.318018\r\n",
      "379072751 \t 1.25641\r\n",
      "379072752 \t 0.328632\r\n",
      "379072753 \t 1.11106\r\n",
      "379072754 \t 0.801276\r\n"
     ]
    }
   ],
   "source": [
    "!head ID_CpG"
   ]
  },
  {
   "cell_type": "markdown",
   "metadata": {},
   "source": [
    "# Now joining CpG to annotation, but first must sort files."
   ]
  },
  {
   "cell_type": "code",
   "execution_count": 3,
   "metadata": {
    "collapsed": false
   },
   "outputs": [
    {
     "name": "stdout",
     "output_type": "stream",
     "text": [
      "gi\t379072753\tgb\tJR970422.1\t\tsp\tO17185\tSUP9_CAEEL\t35.41\t209\t106\t4\t3\t617\t25\t208\t8e-28\t  112\r\n",
      "gi\t379072756\tgb\tJR970425.1\t\tsp\tQ6DIF4\tWDR1_XENTR\t52.39\t607\t281\t7\t2609\t804\t1\t604\t0.0\t  644\r\n",
      "gi\t379072758\tgb\tJR970427.1\t\tsp\tA6H584\tCO6A5_MOUSE\t24.88\t406\t279\t12\t106\t1302\t639\t1025\t6e-26\t  117\r\n",
      "gi\t379072759\tgb\tJR970428.1\t\tsp\tQ17R07\tARFG3_BOVIN\t43.16\t95\t49\t2\t2396\t2124\t422\t515\t4e-07\t57.4\r\n",
      "gi\t379072761\tgb\tJR970430.1\t\tsp\tQ7ZYA5\tPRKAA_XENLA\t27.82\t284\t149\t8\t2334\t1486\t76\t304\t2e-14\t79.0\r\n",
      "gi\t379072762\tgb\tJR970431.1\t\tsp\tQ68ED3\tPAPD5_MOUSE\t55.14\t350\t143\t5\t313\t1359\t116\t452\t2e-122\t  390\r\n",
      "gi\t379072763\tgb\tJR970432.1\t\tsp\tO60678\tANM3_HUMAN\t49.48\t485\t223\t3\t79\t1506\t48\t519\t9e-151\t  460\r\n",
      "gi\t379072764\tgb\tJR970433.1\t\tsp\tQ8CI04\tCOG3_MOUSE\t48.46\t227\t113\t2\t865\t191\t583\t807\t1e-57\t  203\r\n",
      "gi\t379072772\tgb\tJR970441.1\t\tsp\tP15848\tARSB_HUMAN\t37.79\t217\t92\t6\t2\t547\t324\t532\t1e-31\t  124\r\n",
      "gi\t379072775\tgb\tJR970444.1\t\tsp\tQ5EBD9\tELP2_XENTR\t33.74\t243\t142\t6\t1064\t354\t189\t418\t4e-27\t  117\r\n"
     ]
    }
   ],
   "source": [
    "#Sorting Amil Uniprot/Swissprot annotation file. This file was the result of work done in another notebook: \n",
    "#Amil_blast_anno.ipynb\n",
    "!sort Amil_blastx_uniprot_sql.tab | tail -n +2 > Amil_blastx_uniprot_sql.tab.sorted\n",
    "!head Amil_blastx_uniprot_sql.tab.sorted"
   ]
  },
  {
   "cell_type": "code",
   "execution_count": 5,
   "metadata": {
    "collapsed": false
   },
   "outputs": [
    {
     "name": "stdout",
     "output_type": "stream",
     "text": [
      "379072753\tother biological processes\r",
      "\r\n",
      "379072753\ttransport\r",
      "\r\n",
      "379072756\tcell organization and biogenesis\r",
      "\r\n",
      "379072758\tcell adhesion\r",
      "\r\n",
      "379072759\tother biological processes\r",
      "\r\n",
      "379072759\tsignal transduction\r",
      "\r\n",
      "379072759\ttransport\r",
      "\r\n",
      "379072761\tRNA metabolism\r",
      "\r\n",
      "379072761\tother metabolic processes\r",
      "\r\n",
      "379072762\tDNA metabolism\r",
      "\r\n"
     ]
    }
   ],
   "source": [
    "#Sorting GOSlim annotation file. This file was the result of work done in another notebook: Amil_blast_anno.ipynb\n",
    "!sort Amil_GOSlim.tab | tail -n +2 > Amil_GOSlim.sorted\n",
    "!head Amil_GOSlim.sorted"
   ]
  },
  {
   "cell_type": "code",
   "execution_count": 6,
   "metadata": {
    "collapsed": false
   },
   "outputs": [
    {
     "name": "stdout",
     "output_type": "stream",
     "text": [
      "379072745 \t 0.774633\r\n",
      "379072746 \t 0.283791\r\n",
      "379072747 \t 0.558113\r\n",
      "379072748 \t 0.662023\r\n",
      "379072749 \t 0.738617\r\n",
      "379072750 \t 0.318018\r\n",
      "379072751 \t 1.25641\r\n",
      "379072752 \t 0.328632\r\n",
      "379072753 \t 1.11106\r\n",
      "379072754 \t 0.801276\r\n"
     ]
    }
   ],
   "source": [
    "#Sorting CpG file\n",
    "!sort ID_CpG > ID_CpG.sorted\n",
    "!head ID_CpG.sorted"
   ]
  },
  {
   "cell_type": "code",
   "execution_count": 6,
   "metadata": {
    "collapsed": true
   },
   "outputs": [],
   "source": [
    "!join -1 1 -2 2 ID_CpG.sorted Amil_blastx_uniprot_sql.tab.sorted | awk '{print $1, \"\\t\", $2}' > Amil_cpg_anno"
   ]
  },
  {
   "cell_type": "code",
   "execution_count": 7,
   "metadata": {
    "collapsed": false
   },
   "outputs": [
    {
     "name": "stdout",
     "output_type": "stream",
     "text": [
      "379072753 \t 1.11106\r\n",
      "379072756 \t 0.552288\r\n",
      "379072758 \t 0.764334\r\n",
      "379072759 \t 0.50257\r\n",
      "379072761 \t 0.76335\r\n",
      "379072762 \t 0.442442\r\n",
      "379072763 \t 0.592282\r\n",
      "379072764 \t 0.773241\r\n",
      "379072772 \t 0.689241\r\n",
      "379072775 \t 0.53775\r\n"
     ]
    }
   ],
   "source": [
    "!head Amil_cpg_anno"
   ]
  },
  {
   "cell_type": "code",
   "execution_count": 8,
   "metadata": {
    "collapsed": true
   },
   "outputs": [],
   "source": [
    "!join ID_CpG.sorted Amil_GOSlim.sorted > Amil_cpg_GOslim"
   ]
  },
  {
   "cell_type": "code",
   "execution_count": 9,
   "metadata": {
    "collapsed": false
   },
   "outputs": [
    {
     "name": "stdout",
     "output_type": "stream",
     "text": [
      "379072753 1.11106 other biological processes\r",
      "\r\n",
      "379072753 1.11106 transport\r",
      "\r\n",
      "379072756 0.552288 cell organization and biogenesis\r",
      "\r\n",
      "379072758 0.764334 cell adhesion\r",
      "\r\n",
      "379072759 0.50257 other biological processes\r",
      "\r\n",
      "379072759 0.50257 signal transduction\r",
      "\r\n",
      "379072759 0.50257 transport\r",
      "\r\n",
      "379072761 0.76335 RNA metabolism\r",
      "\r\n",
      "379072761 0.76335 other metabolic processes\r",
      "\r\n",
      "379072762 0.442442 DNA metabolism\r",
      "\r\n"
     ]
    }
   ],
   "source": [
    "!head Amil_cpg_GOslim"
   ]
  },
  {
   "cell_type": "code",
   "execution_count": 10,
   "metadata": {
    "collapsed": false
   },
   "outputs": [
    {
     "name": "stdout",
     "output_type": "stream",
     "text": [
      "379072753 \t 1.11106 \t other biological processes\r",
      " \r\n",
      "379072753 \t 1.11106 \t transport\r",
      "   \r\n",
      "379072756 \t 0.552288 \t cell organization and biogenesis\r",
      "\r\n",
      "379072758 \t 0.764334 \t cell adhesion\r",
      "  \r\n",
      "379072759 \t 0.50257 \t other biological processes\r",
      " \r\n",
      "379072759 \t 0.50257 \t signal transduction\r",
      "  \r\n",
      "379072759 \t 0.50257 \t transport\r",
      "   \r\n",
      "379072761 \t 0.76335 \t RNA metabolism\r",
      "  \r\n",
      "379072761 \t 0.76335 \t other metabolic processes\r",
      " \r\n",
      "379072762 \t 0.442442 \t DNA metabolism\r",
      "  \r\n"
     ]
    }
   ],
   "source": [
    "#Putting tabs in between columns\n",
    "!awk '{print $1, \"\\t\", $2, \"\\t\", $3, $4, $5, $6}' Amil_cpg_GOslim > Amil_cpg_GOslim.tab\n",
    "!head Amil_cpg_GOslim.tab"
   ]
  },
  {
   "cell_type": "markdown",
   "metadata": {},
   "source": [
    "# Now time to plot data using pandas and matplot"
   ]
  },
  {
   "cell_type": "code",
   "execution_count": 10,
   "metadata": {
    "collapsed": false
   },
   "outputs": [],
   "source": [
    "import pandas as pd"
   ]
  },
  {
   "cell_type": "code",
   "execution_count": 11,
   "metadata": {
    "collapsed": false
   },
   "outputs": [
    {
     "data": {
      "text/html": [
       "<div style=\"max-height:1000px;max-width:1500px;overflow:auto;\">\n",
       "<table border=\"1\" class=\"dataframe\">\n",
       "  <thead>\n",
       "    <tr style=\"text-align: right;\">\n",
       "      <th></th>\n",
       "      <th>0</th>\n",
       "      <th>1</th>\n",
       "      <th>2</th>\n",
       "    </tr>\n",
       "  </thead>\n",
       "  <tbody>\n",
       "    <tr>\n",
       "      <th>0    </th>\n",
       "      <td> 379072753 </td>\n",
       "      <td> 1.111060</td>\n",
       "      <td>        other biological processes</td>\n",
       "    </tr>\n",
       "    <tr>\n",
       "      <th>1    </th>\n",
       "      <td>           </td>\n",
       "      <td>      NaN</td>\n",
       "      <td>                               NaN</td>\n",
       "    </tr>\n",
       "    <tr>\n",
       "      <th>2    </th>\n",
       "      <td> 379072753 </td>\n",
       "      <td> 1.111060</td>\n",
       "      <td>                         transport</td>\n",
       "    </tr>\n",
       "    <tr>\n",
       "      <th>3    </th>\n",
       "      <td>           </td>\n",
       "      <td>      NaN</td>\n",
       "      <td>                               NaN</td>\n",
       "    </tr>\n",
       "    <tr>\n",
       "      <th>4    </th>\n",
       "      <td> 379072756 </td>\n",
       "      <td> 0.552288</td>\n",
       "      <td>  cell organization and biogenesis</td>\n",
       "    </tr>\n",
       "    <tr>\n",
       "      <th>5    </th>\n",
       "      <td> 379072758 </td>\n",
       "      <td> 0.764334</td>\n",
       "      <td>                     cell adhesion</td>\n",
       "    </tr>\n",
       "    <tr>\n",
       "      <th>6    </th>\n",
       "      <td>           </td>\n",
       "      <td>      NaN</td>\n",
       "      <td>                               NaN</td>\n",
       "    </tr>\n",
       "    <tr>\n",
       "      <th>7    </th>\n",
       "      <td> 379072759 </td>\n",
       "      <td> 0.502570</td>\n",
       "      <td>        other biological processes</td>\n",
       "    </tr>\n",
       "    <tr>\n",
       "      <th>8    </th>\n",
       "      <td>           </td>\n",
       "      <td>      NaN</td>\n",
       "      <td>                               NaN</td>\n",
       "    </tr>\n",
       "    <tr>\n",
       "      <th>9    </th>\n",
       "      <td> 379072759 </td>\n",
       "      <td> 0.502570</td>\n",
       "      <td>               signal transduction</td>\n",
       "    </tr>\n",
       "    <tr>\n",
       "      <th>10   </th>\n",
       "      <td>           </td>\n",
       "      <td>      NaN</td>\n",
       "      <td>                               NaN</td>\n",
       "    </tr>\n",
       "    <tr>\n",
       "      <th>11   </th>\n",
       "      <td> 379072759 </td>\n",
       "      <td> 0.502570</td>\n",
       "      <td>                         transport</td>\n",
       "    </tr>\n",
       "    <tr>\n",
       "      <th>12   </th>\n",
       "      <td>           </td>\n",
       "      <td>      NaN</td>\n",
       "      <td>                               NaN</td>\n",
       "    </tr>\n",
       "    <tr>\n",
       "      <th>13   </th>\n",
       "      <td> 379072761 </td>\n",
       "      <td> 0.763350</td>\n",
       "      <td>                    RNA metabolism</td>\n",
       "    </tr>\n",
       "    <tr>\n",
       "      <th>14   </th>\n",
       "      <td>           </td>\n",
       "      <td>      NaN</td>\n",
       "      <td>                               NaN</td>\n",
       "    </tr>\n",
       "    <tr>\n",
       "      <th>15   </th>\n",
       "      <td> 379072761 </td>\n",
       "      <td> 0.763350</td>\n",
       "      <td>         other metabolic processes</td>\n",
       "    </tr>\n",
       "    <tr>\n",
       "      <th>16   </th>\n",
       "      <td>           </td>\n",
       "      <td>      NaN</td>\n",
       "      <td>                               NaN</td>\n",
       "    </tr>\n",
       "    <tr>\n",
       "      <th>17   </th>\n",
       "      <td> 379072762 </td>\n",
       "      <td> 0.442442</td>\n",
       "      <td>                    DNA metabolism</td>\n",
       "    </tr>\n",
       "    <tr>\n",
       "      <th>18   </th>\n",
       "      <td>           </td>\n",
       "      <td>      NaN</td>\n",
       "      <td>                               NaN</td>\n",
       "    </tr>\n",
       "    <tr>\n",
       "      <th>19   </th>\n",
       "      <td> 379072762 </td>\n",
       "      <td> 0.442442</td>\n",
       "      <td>      cell cycle and proliferation</td>\n",
       "    </tr>\n",
       "    <tr>\n",
       "      <th>20   </th>\n",
       "      <td> 379072762 </td>\n",
       "      <td> 0.442442</td>\n",
       "      <td>  cell organization and biogenesis</td>\n",
       "    </tr>\n",
       "    <tr>\n",
       "      <th>21   </th>\n",
       "      <td> 379072762 </td>\n",
       "      <td> 0.442442</td>\n",
       "      <td>        other biological processes</td>\n",
       "    </tr>\n",
       "    <tr>\n",
       "      <th>22   </th>\n",
       "      <td>           </td>\n",
       "      <td>      NaN</td>\n",
       "      <td>                               NaN</td>\n",
       "    </tr>\n",
       "    <tr>\n",
       "      <th>23   </th>\n",
       "      <td> 379072763 </td>\n",
       "      <td> 0.592282</td>\n",
       "      <td>        other biological processes</td>\n",
       "    </tr>\n",
       "    <tr>\n",
       "      <th>24   </th>\n",
       "      <td>           </td>\n",
       "      <td>      NaN</td>\n",
       "      <td>                               NaN</td>\n",
       "    </tr>\n",
       "    <tr>\n",
       "      <th>25   </th>\n",
       "      <td> 379072763 </td>\n",
       "      <td> 0.592282</td>\n",
       "      <td>         other metabolic processes</td>\n",
       "    </tr>\n",
       "    <tr>\n",
       "      <th>26   </th>\n",
       "      <td>           </td>\n",
       "      <td>      NaN</td>\n",
       "      <td>                               NaN</td>\n",
       "    </tr>\n",
       "    <tr>\n",
       "      <th>27   </th>\n",
       "      <td> 379072763 </td>\n",
       "      <td> 0.592282</td>\n",
       "      <td>                protein metabolism</td>\n",
       "    </tr>\n",
       "    <tr>\n",
       "      <th>28   </th>\n",
       "      <td>           </td>\n",
       "      <td>      NaN</td>\n",
       "      <td>                               NaN</td>\n",
       "    </tr>\n",
       "    <tr>\n",
       "      <th>29   </th>\n",
       "      <td> 379072764 </td>\n",
       "      <td> 0.773241</td>\n",
       "      <td>                         transport</td>\n",
       "    </tr>\n",
       "    <tr>\n",
       "      <th>...</th>\n",
       "      <td>...</td>\n",
       "      <td>...</td>\n",
       "      <td>...</td>\n",
       "    </tr>\n",
       "    <tr>\n",
       "      <th>78246</th>\n",
       "      <td>           </td>\n",
       "      <td>      NaN</td>\n",
       "      <td>                               NaN</td>\n",
       "    </tr>\n",
       "    <tr>\n",
       "      <th>78247</th>\n",
       "      <td> 379125698 </td>\n",
       "      <td> 0.777251</td>\n",
       "      <td>               signal transduction</td>\n",
       "    </tr>\n",
       "    <tr>\n",
       "      <th>78248</th>\n",
       "      <td>           </td>\n",
       "      <td>      NaN</td>\n",
       "      <td>                               NaN</td>\n",
       "    </tr>\n",
       "    <tr>\n",
       "      <th>78249</th>\n",
       "      <td> 379125699 </td>\n",
       "      <td> 0.910527</td>\n",
       "      <td>      cell cycle and proliferation</td>\n",
       "    </tr>\n",
       "    <tr>\n",
       "      <th>78250</th>\n",
       "      <td> 379125699 </td>\n",
       "      <td> 0.910527</td>\n",
       "      <td>               cell-cell signaling</td>\n",
       "    </tr>\n",
       "    <tr>\n",
       "      <th>78251</th>\n",
       "      <td>           </td>\n",
       "      <td>      NaN</td>\n",
       "      <td>                               NaN</td>\n",
       "    </tr>\n",
       "    <tr>\n",
       "      <th>78252</th>\n",
       "      <td> 379125699 </td>\n",
       "      <td> 0.910527</td>\n",
       "      <td>           developmental processes</td>\n",
       "    </tr>\n",
       "    <tr>\n",
       "      <th>78253</th>\n",
       "      <td>           </td>\n",
       "      <td>      NaN</td>\n",
       "      <td>                               NaN</td>\n",
       "    </tr>\n",
       "    <tr>\n",
       "      <th>78254</th>\n",
       "      <td> 379125699 </td>\n",
       "      <td> 0.910527</td>\n",
       "      <td>        other biological processes</td>\n",
       "    </tr>\n",
       "    <tr>\n",
       "      <th>78255</th>\n",
       "      <td>           </td>\n",
       "      <td>      NaN</td>\n",
       "      <td>                               NaN</td>\n",
       "    </tr>\n",
       "    <tr>\n",
       "      <th>78256</th>\n",
       "      <td> 379125699 </td>\n",
       "      <td> 0.910527</td>\n",
       "      <td>               signal transduction</td>\n",
       "    </tr>\n",
       "    <tr>\n",
       "      <th>78257</th>\n",
       "      <td>           </td>\n",
       "      <td>      NaN</td>\n",
       "      <td>                               NaN</td>\n",
       "    </tr>\n",
       "    <tr>\n",
       "      <th>78258</th>\n",
       "      <td> 379125702 </td>\n",
       "      <td> 0.343027</td>\n",
       "      <td>                     cell adhesion</td>\n",
       "    </tr>\n",
       "    <tr>\n",
       "      <th>78259</th>\n",
       "      <td>           </td>\n",
       "      <td>      NaN</td>\n",
       "      <td>                               NaN</td>\n",
       "    </tr>\n",
       "    <tr>\n",
       "      <th>78260</th>\n",
       "      <td> 379125702 </td>\n",
       "      <td> 0.343027</td>\n",
       "      <td>  cell organization and biogenesis</td>\n",
       "    </tr>\n",
       "    <tr>\n",
       "      <th>78261</th>\n",
       "      <td> 379125702 </td>\n",
       "      <td> 0.343027</td>\n",
       "      <td>           developmental processes</td>\n",
       "    </tr>\n",
       "    <tr>\n",
       "      <th>78262</th>\n",
       "      <td>           </td>\n",
       "      <td>      NaN</td>\n",
       "      <td>                               NaN</td>\n",
       "    </tr>\n",
       "    <tr>\n",
       "      <th>78263</th>\n",
       "      <td> 379125702 </td>\n",
       "      <td> 0.343027</td>\n",
       "      <td>        other biological processes</td>\n",
       "    </tr>\n",
       "    <tr>\n",
       "      <th>78264</th>\n",
       "      <td>           </td>\n",
       "      <td>      NaN</td>\n",
       "      <td>                               NaN</td>\n",
       "    </tr>\n",
       "    <tr>\n",
       "      <th>78265</th>\n",
       "      <td> 379125702 </td>\n",
       "      <td> 0.343027</td>\n",
       "      <td>                   stress response</td>\n",
       "    </tr>\n",
       "    <tr>\n",
       "      <th>78266</th>\n",
       "      <td>           </td>\n",
       "      <td>      NaN</td>\n",
       "      <td>                               NaN</td>\n",
       "    </tr>\n",
       "    <tr>\n",
       "      <th>78267</th>\n",
       "      <td> 379125703 </td>\n",
       "      <td> 0.749044</td>\n",
       "      <td>                    RNA metabolism</td>\n",
       "    </tr>\n",
       "    <tr>\n",
       "      <th>78268</th>\n",
       "      <td>           </td>\n",
       "      <td>      NaN</td>\n",
       "      <td>                               NaN</td>\n",
       "    </tr>\n",
       "    <tr>\n",
       "      <th>78269</th>\n",
       "      <td> 379125703 </td>\n",
       "      <td> 0.749044</td>\n",
       "      <td>  cell organization and biogenesis</td>\n",
       "    </tr>\n",
       "    <tr>\n",
       "      <th>78270</th>\n",
       "      <td> 379125703 </td>\n",
       "      <td> 0.749044</td>\n",
       "      <td>                protein metabolism</td>\n",
       "    </tr>\n",
       "    <tr>\n",
       "      <th>78271</th>\n",
       "      <td>           </td>\n",
       "      <td>      NaN</td>\n",
       "      <td>                               NaN</td>\n",
       "    </tr>\n",
       "    <tr>\n",
       "      <th>78272</th>\n",
       "      <td> 379125706 </td>\n",
       "      <td> 0.510595</td>\n",
       "      <td>         other metabolic processes</td>\n",
       "    </tr>\n",
       "    <tr>\n",
       "      <th>78273</th>\n",
       "      <td>           </td>\n",
       "      <td>      NaN</td>\n",
       "      <td>                               NaN</td>\n",
       "    </tr>\n",
       "    <tr>\n",
       "      <th>78274</th>\n",
       "      <td> 379125706 </td>\n",
       "      <td> 0.510595</td>\n",
       "      <td>                         transport</td>\n",
       "    </tr>\n",
       "    <tr>\n",
       "      <th>78275</th>\n",
       "      <td>           </td>\n",
       "      <td>      NaN</td>\n",
       "      <td>                               NaN</td>\n",
       "    </tr>\n",
       "  </tbody>\n",
       "</table>\n",
       "<p>78276 rows × 3 columns</p>\n",
       "</div>"
      ],
      "text/plain": [
       "                0         1                                  2\n",
       "0      379072753   1.111060         other biological processes\n",
       "1                       NaN                                NaN\n",
       "2      379072753   1.111060                          transport\n",
       "3                       NaN                                NaN\n",
       "4      379072756   0.552288   cell organization and biogenesis\n",
       "5      379072758   0.764334                      cell adhesion\n",
       "6                       NaN                                NaN\n",
       "7      379072759   0.502570         other biological processes\n",
       "8                       NaN                                NaN\n",
       "9      379072759   0.502570                signal transduction\n",
       "10                      NaN                                NaN\n",
       "11     379072759   0.502570                          transport\n",
       "12                      NaN                                NaN\n",
       "13     379072761   0.763350                     RNA metabolism\n",
       "14                      NaN                                NaN\n",
       "15     379072761   0.763350          other metabolic processes\n",
       "16                      NaN                                NaN\n",
       "17     379072762   0.442442                     DNA metabolism\n",
       "18                      NaN                                NaN\n",
       "19     379072762   0.442442       cell cycle and proliferation\n",
       "20     379072762   0.442442   cell organization and biogenesis\n",
       "21     379072762   0.442442         other biological processes\n",
       "22                      NaN                                NaN\n",
       "23     379072763   0.592282         other biological processes\n",
       "24                      NaN                                NaN\n",
       "25     379072763   0.592282          other metabolic processes\n",
       "26                      NaN                                NaN\n",
       "27     379072763   0.592282                 protein metabolism\n",
       "28                      NaN                                NaN\n",
       "29     379072764   0.773241                          transport\n",
       "...           ...       ...                                ...\n",
       "78246                   NaN                                NaN\n",
       "78247  379125698   0.777251                signal transduction\n",
       "78248                   NaN                                NaN\n",
       "78249  379125699   0.910527       cell cycle and proliferation\n",
       "78250  379125699   0.910527                cell-cell signaling\n",
       "78251                   NaN                                NaN\n",
       "78252  379125699   0.910527            developmental processes\n",
       "78253                   NaN                                NaN\n",
       "78254  379125699   0.910527         other biological processes\n",
       "78255                   NaN                                NaN\n",
       "78256  379125699   0.910527                signal transduction\n",
       "78257                   NaN                                NaN\n",
       "78258  379125702   0.343027                      cell adhesion\n",
       "78259                   NaN                                NaN\n",
       "78260  379125702   0.343027   cell organization and biogenesis\n",
       "78261  379125702   0.343027            developmental processes\n",
       "78262                   NaN                                NaN\n",
       "78263  379125702   0.343027         other biological processes\n",
       "78264                   NaN                                NaN\n",
       "78265  379125702   0.343027                    stress response\n",
       "78266                   NaN                                NaN\n",
       "78267  379125703   0.749044                     RNA metabolism\n",
       "78268                   NaN                                NaN\n",
       "78269  379125703   0.749044   cell organization and biogenesis\n",
       "78270  379125703   0.749044                 protein metabolism\n",
       "78271                   NaN                                NaN\n",
       "78272  379125706   0.510595          other metabolic processes\n",
       "78273                   NaN                                NaN\n",
       "78274  379125706   0.510595                          transport\n",
       "78275                   NaN                                NaN\n",
       "\n",
       "[78276 rows x 3 columns]"
      ]
     },
     "execution_count": 11,
     "metadata": {},
     "output_type": "execute_result"
    }
   ],
   "source": [
    "jData = pd.read_table('Amil_cpg_GOslim.tab', header=None)\n",
    "jData"
   ]
  },
  {
   "cell_type": "code",
   "execution_count": 12,
   "metadata": {
    "collapsed": false
   },
   "outputs": [],
   "source": [
    "%matplotlib inline"
   ]
  },
  {
   "cell_type": "code",
   "execution_count": 13,
   "metadata": {
    "collapsed": false
   },
   "outputs": [],
   "source": [
    "import matplotlib.pyplot as plt "
   ]
  },
  {
   "cell_type": "code",
   "execution_count": 16,
   "metadata": {
    "collapsed": false
   },
   "outputs": [
    {
     "data": {
      "image/png": "[encoded data removed]",
      "text/plain": [
       "<matplotlib.figure.Figure at 0x108199650>"
      ]
     },
     "metadata": {},
     "output_type": "display_data"
    }
   ],
   "source": [
    "jData.groupby(2)[1].mean().plot(kind='barh', color=list('myb'))\n",
    "plt.axis([0.65, 0.8, -1, 14])\n",
    "plt.xlabel('')\n",
    "plt.ylabel('')\n",
    "plt.show()"
   ]
  },
  {
   "cell_type": "code",
   "execution_count": 22,
   "metadata": {
    "collapsed": false
   },
   "outputs": [
    {
     "data": {
      "text/html": [
       "<div style=\"max-height:1000px;max-width:1500px;overflow:auto;\">\n",
       "<table border=\"1\" class=\"dataframe\">\n",
       "  <thead>\n",
       "    <tr style=\"text-align: right;\">\n",
       "      <th></th>\n",
       "      <th>0</th>\n",
       "      <th>1</th>\n",
       "    </tr>\n",
       "  </thead>\n",
       "  <tbody>\n",
       "    <tr>\n",
       "      <th>0    </th>\n",
       "      <td> 379072753</td>\n",
       "      <td> 1.111060</td>\n",
       "    </tr>\n",
       "    <tr>\n",
       "      <th>1    </th>\n",
       "      <td> 379072756</td>\n",
       "      <td> 0.552288</td>\n",
       "    </tr>\n",
       "    <tr>\n",
       "      <th>2    </th>\n",
       "      <td> 379072758</td>\n",
       "      <td> 0.764334</td>\n",
       "    </tr>\n",
       "    <tr>\n",
       "      <th>3    </th>\n",
       "      <td> 379072759</td>\n",
       "      <td> 0.502570</td>\n",
       "    </tr>\n",
       "    <tr>\n",
       "      <th>4    </th>\n",
       "      <td> 379072761</td>\n",
       "      <td> 0.763350</td>\n",
       "    </tr>\n",
       "    <tr>\n",
       "      <th>5    </th>\n",
       "      <td> 379072762</td>\n",
       "      <td> 0.442442</td>\n",
       "    </tr>\n",
       "    <tr>\n",
       "      <th>6    </th>\n",
       "      <td> 379072763</td>\n",
       "      <td> 0.592282</td>\n",
       "    </tr>\n",
       "    <tr>\n",
       "      <th>7    </th>\n",
       "      <td> 379072764</td>\n",
       "      <td> 0.773241</td>\n",
       "    </tr>\n",
       "    <tr>\n",
       "      <th>8    </th>\n",
       "      <td> 379072772</td>\n",
       "      <td> 0.689241</td>\n",
       "    </tr>\n",
       "    <tr>\n",
       "      <th>9    </th>\n",
       "      <td> 379072775</td>\n",
       "      <td> 0.537750</td>\n",
       "    </tr>\n",
       "    <tr>\n",
       "      <th>10   </th>\n",
       "      <td> 379072779</td>\n",
       "      <td> 0.481619</td>\n",
       "    </tr>\n",
       "    <tr>\n",
       "      <th>11   </th>\n",
       "      <td> 379072782</td>\n",
       "      <td> 0.402079</td>\n",
       "    </tr>\n",
       "    <tr>\n",
       "      <th>12   </th>\n",
       "      <td> 379072783</td>\n",
       "      <td> 0.878372</td>\n",
       "    </tr>\n",
       "    <tr>\n",
       "      <th>13   </th>\n",
       "      <td> 379072785</td>\n",
       "      <td> 1.046400</td>\n",
       "    </tr>\n",
       "    <tr>\n",
       "      <th>14   </th>\n",
       "      <td> 379072788</td>\n",
       "      <td> 0.506499</td>\n",
       "    </tr>\n",
       "    <tr>\n",
       "      <th>15   </th>\n",
       "      <td> 379072794</td>\n",
       "      <td> 0.546124</td>\n",
       "    </tr>\n",
       "    <tr>\n",
       "      <th>16   </th>\n",
       "      <td> 379072796</td>\n",
       "      <td> 0.430313</td>\n",
       "    </tr>\n",
       "    <tr>\n",
       "      <th>17   </th>\n",
       "      <td> 379072797</td>\n",
       "      <td> 0.919021</td>\n",
       "    </tr>\n",
       "    <tr>\n",
       "      <th>18   </th>\n",
       "      <td> 379072798</td>\n",
       "      <td> 0.569863</td>\n",
       "    </tr>\n",
       "    <tr>\n",
       "      <th>19   </th>\n",
       "      <td> 379072801</td>\n",
       "      <td> 0.259086</td>\n",
       "    </tr>\n",
       "    <tr>\n",
       "      <th>20   </th>\n",
       "      <td> 379072802</td>\n",
       "      <td> 0.402691</td>\n",
       "    </tr>\n",
       "    <tr>\n",
       "      <th>21   </th>\n",
       "      <td> 379072806</td>\n",
       "      <td> 0.360158</td>\n",
       "    </tr>\n",
       "    <tr>\n",
       "      <th>22   </th>\n",
       "      <td> 379072808</td>\n",
       "      <td> 0.685396</td>\n",
       "    </tr>\n",
       "    <tr>\n",
       "      <th>23   </th>\n",
       "      <td> 379072811</td>\n",
       "      <td> 0.462238</td>\n",
       "    </tr>\n",
       "    <tr>\n",
       "      <th>24   </th>\n",
       "      <td> 379072812</td>\n",
       "      <td> 0.755046</td>\n",
       "    </tr>\n",
       "    <tr>\n",
       "      <th>25   </th>\n",
       "      <td> 379072814</td>\n",
       "      <td> 0.758242</td>\n",
       "    </tr>\n",
       "    <tr>\n",
       "      <th>26   </th>\n",
       "      <td> 379072815</td>\n",
       "      <td> 0.418246</td>\n",
       "    </tr>\n",
       "    <tr>\n",
       "      <th>27   </th>\n",
       "      <td> 379072816</td>\n",
       "      <td> 0.703233</td>\n",
       "    </tr>\n",
       "    <tr>\n",
       "      <th>28   </th>\n",
       "      <td> 379072818</td>\n",
       "      <td> 0.413860</td>\n",
       "    </tr>\n",
       "    <tr>\n",
       "      <th>29   </th>\n",
       "      <td> 379072819</td>\n",
       "      <td> 0.358968</td>\n",
       "    </tr>\n",
       "    <tr>\n",
       "      <th>...</th>\n",
       "      <td>...</td>\n",
       "      <td>...</td>\n",
       "    </tr>\n",
       "    <tr>\n",
       "      <th>20996</th>\n",
       "      <td> 379125610</td>\n",
       "      <td> 0.512602</td>\n",
       "    </tr>\n",
       "    <tr>\n",
       "      <th>20997</th>\n",
       "      <td> 379125611</td>\n",
       "      <td> 0.442092</td>\n",
       "    </tr>\n",
       "    <tr>\n",
       "      <th>20998</th>\n",
       "      <td> 379125612</td>\n",
       "      <td> 1.195840</td>\n",
       "    </tr>\n",
       "    <tr>\n",
       "      <th>20999</th>\n",
       "      <td> 379125613</td>\n",
       "      <td> 0.495122</td>\n",
       "    </tr>\n",
       "    <tr>\n",
       "      <th>21000</th>\n",
       "      <td> 379125619</td>\n",
       "      <td> 0.330585</td>\n",
       "    </tr>\n",
       "    <tr>\n",
       "      <th>21001</th>\n",
       "      <td> 379125620</td>\n",
       "      <td> 0.600177</td>\n",
       "    </tr>\n",
       "    <tr>\n",
       "      <th>21002</th>\n",
       "      <td> 379125634</td>\n",
       "      <td> 0.741742</td>\n",
       "    </tr>\n",
       "    <tr>\n",
       "      <th>21003</th>\n",
       "      <td> 379125638</td>\n",
       "      <td> 0.837108</td>\n",
       "    </tr>\n",
       "    <tr>\n",
       "      <th>21004</th>\n",
       "      <td> 379125642</td>\n",
       "      <td> 0.589219</td>\n",
       "    </tr>\n",
       "    <tr>\n",
       "      <th>21005</th>\n",
       "      <td> 379125643</td>\n",
       "      <td> 0.784883</td>\n",
       "    </tr>\n",
       "    <tr>\n",
       "      <th>21006</th>\n",
       "      <td> 379125644</td>\n",
       "      <td> 1.239730</td>\n",
       "    </tr>\n",
       "    <tr>\n",
       "      <th>21007</th>\n",
       "      <td> 379125645</td>\n",
       "      <td> 0.636768</td>\n",
       "    </tr>\n",
       "    <tr>\n",
       "      <th>21008</th>\n",
       "      <td> 379125650</td>\n",
       "      <td> 0.748982</td>\n",
       "    </tr>\n",
       "    <tr>\n",
       "      <th>21009</th>\n",
       "      <td> 379125652</td>\n",
       "      <td> 0.929860</td>\n",
       "    </tr>\n",
       "    <tr>\n",
       "      <th>21010</th>\n",
       "      <td> 379125653</td>\n",
       "      <td> 0.742625</td>\n",
       "    </tr>\n",
       "    <tr>\n",
       "      <th>21011</th>\n",
       "      <td> 379125654</td>\n",
       "      <td> 1.298870</td>\n",
       "    </tr>\n",
       "    <tr>\n",
       "      <th>21012</th>\n",
       "      <td> 379125655</td>\n",
       "      <td> 0.827989</td>\n",
       "    </tr>\n",
       "    <tr>\n",
       "      <th>21013</th>\n",
       "      <td> 379125656</td>\n",
       "      <td> 0.358576</td>\n",
       "    </tr>\n",
       "    <tr>\n",
       "      <th>21014</th>\n",
       "      <td> 379125657</td>\n",
       "      <td> 0.596212</td>\n",
       "    </tr>\n",
       "    <tr>\n",
       "      <th>21015</th>\n",
       "      <td> 379125672</td>\n",
       "      <td> 0.793318</td>\n",
       "    </tr>\n",
       "    <tr>\n",
       "      <th>21016</th>\n",
       "      <td> 379125674</td>\n",
       "      <td> 0.414220</td>\n",
       "    </tr>\n",
       "    <tr>\n",
       "      <th>21017</th>\n",
       "      <td> 379125690</td>\n",
       "      <td> 0.742127</td>\n",
       "    </tr>\n",
       "    <tr>\n",
       "      <th>21018</th>\n",
       "      <td> 379125695</td>\n",
       "      <td> 1.065260</td>\n",
       "    </tr>\n",
       "    <tr>\n",
       "      <th>21019</th>\n",
       "      <td> 379125697</td>\n",
       "      <td> 0.903123</td>\n",
       "    </tr>\n",
       "    <tr>\n",
       "      <th>21020</th>\n",
       "      <td> 379125698</td>\n",
       "      <td> 0.777251</td>\n",
       "    </tr>\n",
       "    <tr>\n",
       "      <th>21021</th>\n",
       "      <td> 379125699</td>\n",
       "      <td> 0.910527</td>\n",
       "    </tr>\n",
       "    <tr>\n",
       "      <th>21022</th>\n",
       "      <td> 379125700</td>\n",
       "      <td> 0.495359</td>\n",
       "    </tr>\n",
       "    <tr>\n",
       "      <th>21023</th>\n",
       "      <td> 379125702</td>\n",
       "      <td> 0.343027</td>\n",
       "    </tr>\n",
       "    <tr>\n",
       "      <th>21024</th>\n",
       "      <td> 379125703</td>\n",
       "      <td> 0.749044</td>\n",
       "    </tr>\n",
       "    <tr>\n",
       "      <th>21025</th>\n",
       "      <td> 379125706</td>\n",
       "      <td> 0.510595</td>\n",
       "    </tr>\n",
       "  </tbody>\n",
       "</table>\n",
       "<p>21026 rows × 2 columns</p>\n",
       "</div>"
      ],
      "text/plain": [
       "               0         1\n",
       "0      379072753  1.111060\n",
       "1      379072756  0.552288\n",
       "2      379072758  0.764334\n",
       "3      379072759  0.502570\n",
       "4      379072761  0.763350\n",
       "5      379072762  0.442442\n",
       "6      379072763  0.592282\n",
       "7      379072764  0.773241\n",
       "8      379072772  0.689241\n",
       "9      379072775  0.537750\n",
       "10     379072779  0.481619\n",
       "11     379072782  0.402079\n",
       "12     379072783  0.878372\n",
       "13     379072785  1.046400\n",
       "14     379072788  0.506499\n",
       "15     379072794  0.546124\n",
       "16     379072796  0.430313\n",
       "17     379072797  0.919021\n",
       "18     379072798  0.569863\n",
       "19     379072801  0.259086\n",
       "20     379072802  0.402691\n",
       "21     379072806  0.360158\n",
       "22     379072808  0.685396\n",
       "23     379072811  0.462238\n",
       "24     379072812  0.755046\n",
       "25     379072814  0.758242\n",
       "26     379072815  0.418246\n",
       "27     379072816  0.703233\n",
       "28     379072818  0.413860\n",
       "29     379072819  0.358968\n",
       "...          ...       ...\n",
       "20996  379125610  0.512602\n",
       "20997  379125611  0.442092\n",
       "20998  379125612  1.195840\n",
       "20999  379125613  0.495122\n",
       "21000  379125619  0.330585\n",
       "21001  379125620  0.600177\n",
       "21002  379125634  0.741742\n",
       "21003  379125638  0.837108\n",
       "21004  379125642  0.589219\n",
       "21005  379125643  0.784883\n",
       "21006  379125644  1.239730\n",
       "21007  379125645  0.636768\n",
       "21008  379125650  0.748982\n",
       "21009  379125652  0.929860\n",
       "21010  379125653  0.742625\n",
       "21011  379125654  1.298870\n",
       "21012  379125655  0.827989\n",
       "21013  379125656  0.358576\n",
       "21014  379125657  0.596212\n",
       "21015  379125672  0.793318\n",
       "21016  379125674  0.414220\n",
       "21017  379125690  0.742127\n",
       "21018  379125695  1.065260\n",
       "21019  379125697  0.903123\n",
       "21020  379125698  0.777251\n",
       "21021  379125699  0.910527\n",
       "21022  379125700  0.495359\n",
       "21023  379125702  0.343027\n",
       "21024  379125703  0.749044\n",
       "21025  379125706  0.510595\n",
       "\n",
       "[21026 rows x 2 columns]"
      ]
     },
     "execution_count": 22,
     "metadata": {},
     "output_type": "execute_result"
    }
   ],
   "source": [
    "#To plot density curve, must use CpG data with original annotation\n",
    "CpG = pd.read_table('Amil_cpg_anno', header=None)\n",
    "CpG"
   ]
  },
  {
   "cell_type": "code",
   "execution_count": 23,
   "metadata": {
    "collapsed": false
   },
   "outputs": [
    {
     "data": {
      "text/plain": [
       "[-0.3, 1.7, 0, 1.7]"
      ]
     },
     "execution_count": 23,
     "metadata": {},
     "output_type": "execute_result"
    },
    {
     "data": {
      "image/png": "[encoded data removed]",
      "text/plain": [
       "<matplotlib.figure.Figure at 0x10863dc50>"
      ]
     },
     "metadata": {},
     "output_type": "display_data"
    }
   ],
   "source": [
    "# pandas density plot\n",
    "CpG[1].plot(kind='kde', linewidth=3);\n",
    "plt.axis([-0.3, 1.7, 0, 1.7])"
   ]
  },
  {
   "cell_type": "markdown",
   "metadata": {},
   "source": [
    "## Now looking only at differentially expressed OA contigs, joining via common contig IDs"
   ]
  },
  {
   "cell_type": "markdown",
   "metadata": {},
   "source": [
    "The file Moya_OA_genes.csv is a list of differentially expressed contigs in response to ocean acidification derived from a [supplementary data file](http://onlinelibrary.wiley.com/store/10.1111/j.1365-294X.2012.05554.x/asset/supinfo/MEC_5554_sm_FigS1-S3_TableS1-S9.pdf?v=1&s=8986ebf969c7552ad857973fff80a0752f87a129) featured in [Moya et al. (2012)](http://onlinelibrary.wiley.com/doi/10.1111/j.1365-294X.2012.05554.x/full). The contig IDs are the same as in the transcriptome and can be joined using common contig IDs."
   ]
  },
  {
   "cell_type": "code",
   "execution_count": 59,
   "metadata": {
    "collapsed": false
   },
   "outputs": [
    {
     "name": "stdout",
     "output_type": "stream",
     "text": [
      "Cluster000096\n",
      "Cluster000102\n",
      "Cluster004352\n",
      "Cluster003365p\n",
      "Cluster020895\n",
      "Cluster021686\n",
      "Cluster000208\n",
      "Cluster001749\n",
      "Cluster020627\n",
      "Cluster011145\n",
      "     234     234    3352 Moya_OA_genes.csv\n"
     ]
    }
   ],
   "source": [
    "!head Moya_OA_genes.csv\n",
    "!wc Moya_OA_genes.csv"
   ]
  },
  {
   "cell_type": "code",
   "execution_count": 66,
   "metadata": {
    "collapsed": false
   },
   "outputs": [
    {
     "name": "stdout",
     "output_type": "stream",
     "text": [
      "Cluster000096\r\n",
      "Cluster000102\r\n",
      "Cluster004352\r\n",
      "Cluster003365p\r\n",
      "Cluster020895\r\n",
      "Cluster021686\r\n",
      "Cluster000208\r\n",
      "Cluster001749\r\n",
      "Cluster020627\r\n",
      "Cluster011145\r\n"
     ]
    }
   ],
   "source": [
    "!tr ',' \"\\t\" <Moya_OA_genes.csv> Moya_OA_genes.tab\n",
    "!head Moya_OA_genes.tab"
   ]
  },
  {
   "cell_type": "code",
   "execution_count": 58,
   "metadata": {
    "collapsed": false
   },
   "outputs": [
    {
     "name": "stdout",
     "output_type": "stream",
     "text": [
      "379072745,Cluster034439\n",
      "379072746,Cluster034438\n",
      "379072747,Cluster007054\n",
      "379072748,Cluster034431\n",
      "379072749,Cluster034430\n",
      "379072750,Cluster034433\n",
      "379072751,Cluster034432\n",
      "379072752,Cluster034435\n",
      "379072753,Cluster034434\n",
      "379072754,Cluster034437\n",
      "   52962   52963 1273552 contigIDs.csv\n"
     ]
    }
   ],
   "source": [
    "#In Excel, a .csv file was created that contains the 'Cluster\" ID and the other contig ID field we originally used. \n",
    "!head contigIDs.csv\n",
    "!wc contigIDs.csv"
   ]
  },
  {
   "cell_type": "code",
   "execution_count": 67,
   "metadata": {
    "collapsed": false
   },
   "outputs": [
    {
     "name": "stdout",
     "output_type": "stream",
     "text": [
      "379072745\tCluster034439\r\n",
      "379072746\tCluster034438\r\n",
      "379072747\tCluster007054\r\n",
      "379072748\tCluster034431\r\n",
      "379072749\tCluster034430\r\n",
      "379072750\tCluster034433\r\n",
      "379072751\tCluster034432\r\n",
      "379072752\tCluster034435\r\n",
      "379072753\tCluster034434\r\n",
      "379072754\tCluster034437\r\n"
     ]
    }
   ],
   "source": [
    "!tr ',' \"\\t\" <contigIDs.csv> contigIDs.tab\n",
    "!head contigIDs.tab"
   ]
  },
  {
   "cell_type": "code",
   "execution_count": 68,
   "metadata": {
    "collapsed": false
   },
   "outputs": [
    {
     "name": "stdout",
     "output_type": "stream",
     "text": [
      "Cluster000024\r\n",
      "Cluster000096\r\n",
      "Cluster000102\r\n",
      "Cluster000158m\t\r\n",
      "Cluster000158p\r\n",
      "Cluster000208\r\n",
      "Cluster000208\t\r\n",
      "Cluster000406\r\n",
      "Cluster000424\r\n",
      "Cluster000480\r\n"
     ]
    }
   ],
   "source": [
    "!sort Moya_OA_genes.tab > Moya_OA_genes_sorted.tab\n",
    "!head Moya_OA_genes_sorted.tab"
   ]
  },
  {
   "cell_type": "code",
   "execution_count": 69,
   "metadata": {
    "collapsed": false
   },
   "outputs": [
    {
     "name": "stdout",
     "output_type": "stream",
     "text": [
      "379096802\tCluster000001\r\n",
      "379096801\tCluster000002\r\n",
      "379096800\tCluster000003\r\n",
      "379096806\tCluster000004\r\n",
      "379096805\tCluster000006\r\n",
      "379096804\tCluster000007\r\n",
      "379096798\tCluster000008\r\n",
      "379096797\tCluster000009\r\n",
      "379099915\tCluster000010m\r\n",
      "379099906\tCluster000010p\r\n"
     ]
    }
   ],
   "source": [
    "!sort -k2 contigIDs.tab > contigIDs_sorted.tab # sort on column 2\n",
    "!head contigIDs_sorted.tab"
   ]
  },
  {
   "cell_type": "code",
   "execution_count": 74,
   "metadata": {
    "collapsed": false
   },
   "outputs": [
    {
     "name": "stdout",
     "output_type": "stream",
     "text": [
      "Cluster000024 379083315\n",
      "Cluster000096 379079375\n",
      "Cluster000102 379103380\n",
      "Cluster000158m 379120937\n",
      "Cluster000158p 379120890\n",
      "Cluster000208 379094770\n",
      "Cluster000406 379115338\n",
      "Cluster000424 379101461\n",
      "Cluster000480 379102107\n",
      "Cluster000511 379098057\n",
      "     217     434    5221 Moya_OA_contigIDs\n"
     ]
    }
   ],
   "source": [
    "!join -1 1 -2 2 Moya_OA_genes_sorted.tab contigIDs_sorted.tab | uniq > Moya_OA_contigIDs\n",
    "!head Moya_OA_contigIDs\n",
    "!wc Moya_OA_contigIDs"
   ]
  },
  {
   "cell_type": "markdown",
   "metadata": {},
   "source": [
    "## Now joining with CpG file"
   ]
  },
  {
   "cell_type": "code",
   "execution_count": 76,
   "metadata": {
    "collapsed": false
   },
   "outputs": [
    {
     "name": "stdout",
     "output_type": "stream",
     "text": [
      "Cluster002816 379072903\r\n",
      "Cluster031840 379072913\r\n",
      "Cluster016915 379073364\r\n",
      "Cluster023488 379073410\r\n",
      "Cluster032164 379073609\r\n",
      "Cluster007778 379074809\r\n",
      "Cluster001907 379075128\r\n",
      "Cluster005744 379075418\r\n",
      "Cluster019721 379075495\r\n",
      "Cluster021686 379075855\r\n"
     ]
    }
   ],
   "source": [
    "!sort -k2 Moya_OA_contigIDs > Moya_OA_contigIDs.sorted\n",
    "!head Moya_OA_contigIDs.sorted"
   ]
  },
  {
   "cell_type": "code",
   "execution_count": 7,
   "metadata": {
    "collapsed": false
   },
   "outputs": [
    {
     "name": "stdout",
     "output_type": "stream",
     "text": [
      "379072903 \t 0.522193\n",
      "379072913 \t 0.568663\n",
      "379073364 \t 0.847868\n",
      "379073410 \t 0.449012\n",
      "379073609 \t 0.348797\n",
      "379074809 \t 0.882294\n",
      "379075128 \t 0.473422\n",
      "379075418 \t 0.781873\n",
      "379075495 \t 1.19552\n",
      "379075855 \t 1.02899\n",
      "     217     434    4515 Moya_OA_CpG\n"
     ]
    }
   ],
   "source": [
    "#Joining with CpG O/E data\n",
    "!join -1 2 -2 1 Moya_OA_contigIDs.sorted ID_CpG.sorted | awk '{ print $1, \"\\t\", $3 }' > Moya_OA_CpG\n",
    "!head Moya_OA_CpG\n",
    "!wc Moya_OA_CpG"
   ]
  },
  {
   "cell_type": "code",
   "execution_count": 6,
   "metadata": {
    "collapsed": false
   },
   "outputs": [
    {
     "name": "stdout",
     "output_type": "stream",
     "text": [
      "379072903 \t 0.522193\n",
      "379072913 \t 0.568663\n",
      "379073364 \t 0.847868\n",
      "379073410 \t 0.449012\n",
      "379073609 \t 0.348797\n",
      "379074809 \t 0.882294\n",
      "379075128 \t 0.473422\n",
      "379075418 \t 0.781873\n",
      "379075495 \t 1.19552\n",
      "379075855 \t 1.02899\n",
      "     194     388    4039 Amil_diff_cpg_anno\n"
     ]
    }
   ],
   "source": [
    "#Joining with annotation file\n",
    "!join -1 1 -2 2 Moya_OA_CpG Amil_blastx_uniprot_sql.tab.sorted | awk '{print $1, \"\\t\", $2}' > Amil_diff_cpg_anno\n",
    "!head Amil_diff_cpg_anno\n",
    "!wc Amil_diff_cpg_anno"
   ]
  },
  {
   "cell_type": "code",
   "execution_count": 18,
   "metadata": {
    "collapsed": false
   },
   "outputs": [
    {
     "name": "stdout",
     "output_type": "stream",
     "text": [
      "   \n",
      "379072913 \t 0.568663 \t cell organization and biogenesis\n",
      "379073364 \t 0.847868 \t cell organization and biogenesis\n",
      " \n",
      "  \n",
      "379073410 \t 0.449012 \t cell cycle and proliferation\n",
      " \n",
      "  \n",
      " \n",
      "   \n",
      "     416    1781   19142 Amil_diff_cpg_GOslim\n"
     ]
    }
   ],
   "source": [
    "#Joining with GOslim annotation file\n",
    "!join Moya_OA_CpG Amil_GOSlim.sorted | awk '{print $1, \"\\t\", $2, \"\\t\", $3, $4, $5, $6}' > Amil_diff_cpg_GOslim\n",
    "!head Moya_OA_CpG_GOSlim\n",
    "!wc Amil_diff_cpg_GOslim"
   ]
  },
  {
   "cell_type": "markdown",
   "metadata": {},
   "source": [
    "## Now plotting data using pandas and matplot"
   ]
  },
  {
   "cell_type": "code",
   "execution_count": 19,
   "metadata": {
    "collapsed": false
   },
   "outputs": [
    {
     "data": {
      "text/html": [
       "<div style=\"max-height:1000px;max-width:1500px;overflow:auto;\">\n",
       "<table border=\"1\" class=\"dataframe\">\n",
       "  <thead>\n",
       "    <tr style=\"text-align: right;\">\n",
       "      <th></th>\n",
       "      <th>0</th>\n",
       "      <th>1</th>\n",
       "      <th>2</th>\n",
       "    </tr>\n",
       "  </thead>\n",
       "  <tbody>\n",
       "    <tr>\n",
       "      <th>0  </th>\n",
       "      <td> 379072903 </td>\n",
       "      <td> 0.522193</td>\n",
       "      <td>                         transport</td>\n",
       "    </tr>\n",
       "    <tr>\n",
       "      <th>1  </th>\n",
       "      <td>           </td>\n",
       "      <td>      NaN</td>\n",
       "      <td>                               NaN</td>\n",
       "    </tr>\n",
       "    <tr>\n",
       "      <th>2  </th>\n",
       "      <td> 379072913 </td>\n",
       "      <td> 0.568663</td>\n",
       "      <td>  cell organization and biogenesis</td>\n",
       "    </tr>\n",
       "    <tr>\n",
       "      <th>3  </th>\n",
       "      <td> 379073364 </td>\n",
       "      <td> 0.847868</td>\n",
       "      <td>  cell organization and biogenesis</td>\n",
       "    </tr>\n",
       "    <tr>\n",
       "      <th>4  </th>\n",
       "      <td> 379073364 </td>\n",
       "      <td> 0.847868</td>\n",
       "      <td>         other metabolic processes</td>\n",
       "    </tr>\n",
       "    <tr>\n",
       "      <th>5  </th>\n",
       "      <td>           </td>\n",
       "      <td>      NaN</td>\n",
       "      <td>                               NaN</td>\n",
       "    </tr>\n",
       "    <tr>\n",
       "      <th>6  </th>\n",
       "      <td> 379073364 </td>\n",
       "      <td> 0.847868</td>\n",
       "      <td>                   stress response</td>\n",
       "    </tr>\n",
       "    <tr>\n",
       "      <th>7  </th>\n",
       "      <td>           </td>\n",
       "      <td>      NaN</td>\n",
       "      <td>                               NaN</td>\n",
       "    </tr>\n",
       "    <tr>\n",
       "      <th>8  </th>\n",
       "      <td> 379073410 </td>\n",
       "      <td> 0.449012</td>\n",
       "      <td>      cell cycle and proliferation</td>\n",
       "    </tr>\n",
       "    <tr>\n",
       "      <th>9  </th>\n",
       "      <td> 379073410 </td>\n",
       "      <td> 0.449012</td>\n",
       "      <td>        other biological processes</td>\n",
       "    </tr>\n",
       "    <tr>\n",
       "      <th>10 </th>\n",
       "      <td>           </td>\n",
       "      <td>      NaN</td>\n",
       "      <td>                               NaN</td>\n",
       "    </tr>\n",
       "    <tr>\n",
       "      <th>11 </th>\n",
       "      <td> 379073410 </td>\n",
       "      <td> 0.449012</td>\n",
       "      <td>                   stress response</td>\n",
       "    </tr>\n",
       "    <tr>\n",
       "      <th>12 </th>\n",
       "      <td>           </td>\n",
       "      <td>      NaN</td>\n",
       "      <td>                               NaN</td>\n",
       "    </tr>\n",
       "    <tr>\n",
       "      <th>13 </th>\n",
       "      <td> 379073609 </td>\n",
       "      <td> 0.348797</td>\n",
       "      <td>         other metabolic processes</td>\n",
       "    </tr>\n",
       "    <tr>\n",
       "      <th>14 </th>\n",
       "      <td>           </td>\n",
       "      <td>      NaN</td>\n",
       "      <td>                               NaN</td>\n",
       "    </tr>\n",
       "    <tr>\n",
       "      <th>15 </th>\n",
       "      <td> 379073609 </td>\n",
       "      <td> 0.348797</td>\n",
       "      <td>                         transport</td>\n",
       "    </tr>\n",
       "    <tr>\n",
       "      <th>16 </th>\n",
       "      <td>           </td>\n",
       "      <td>      NaN</td>\n",
       "      <td>                               NaN</td>\n",
       "    </tr>\n",
       "    <tr>\n",
       "      <th>17 </th>\n",
       "      <td> 379074809 </td>\n",
       "      <td> 0.882294</td>\n",
       "      <td>        other biological processes</td>\n",
       "    </tr>\n",
       "    <tr>\n",
       "      <th>18 </th>\n",
       "      <td>           </td>\n",
       "      <td>      NaN</td>\n",
       "      <td>                               NaN</td>\n",
       "    </tr>\n",
       "    <tr>\n",
       "      <th>19 </th>\n",
       "      <td> 379074809 </td>\n",
       "      <td> 0.882294</td>\n",
       "      <td>         other metabolic processes</td>\n",
       "    </tr>\n",
       "    <tr>\n",
       "      <th>20 </th>\n",
       "      <td>           </td>\n",
       "      <td>      NaN</td>\n",
       "      <td>                               NaN</td>\n",
       "    </tr>\n",
       "    <tr>\n",
       "      <th>21 </th>\n",
       "      <td> 379074809 </td>\n",
       "      <td> 0.882294</td>\n",
       "      <td>               signal transduction</td>\n",
       "    </tr>\n",
       "    <tr>\n",
       "      <th>22 </th>\n",
       "      <td>           </td>\n",
       "      <td>      NaN</td>\n",
       "      <td>                               NaN</td>\n",
       "    </tr>\n",
       "    <tr>\n",
       "      <th>23 </th>\n",
       "      <td> 379075128 </td>\n",
       "      <td> 0.473422</td>\n",
       "      <td>         other metabolic processes</td>\n",
       "    </tr>\n",
       "    <tr>\n",
       "      <th>24 </th>\n",
       "      <td>           </td>\n",
       "      <td>      NaN</td>\n",
       "      <td>                               NaN</td>\n",
       "    </tr>\n",
       "    <tr>\n",
       "      <th>25 </th>\n",
       "      <td> 379075128 </td>\n",
       "      <td> 0.473422</td>\n",
       "      <td>                         transport</td>\n",
       "    </tr>\n",
       "    <tr>\n",
       "      <th>26 </th>\n",
       "      <td>           </td>\n",
       "      <td>      NaN</td>\n",
       "      <td>                               NaN</td>\n",
       "    </tr>\n",
       "    <tr>\n",
       "      <th>27 </th>\n",
       "      <td> 379075495 </td>\n",
       "      <td> 1.195520</td>\n",
       "      <td>                         transport</td>\n",
       "    </tr>\n",
       "    <tr>\n",
       "      <th>28 </th>\n",
       "      <td>           </td>\n",
       "      <td>      NaN</td>\n",
       "      <td>                               NaN</td>\n",
       "    </tr>\n",
       "    <tr>\n",
       "      <th>29 </th>\n",
       "      <td> 379075855 </td>\n",
       "      <td> 1.028990</td>\n",
       "      <td>        other biological processes</td>\n",
       "    </tr>\n",
       "    <tr>\n",
       "      <th>...</th>\n",
       "      <td>...</td>\n",
       "      <td>...</td>\n",
       "      <td>...</td>\n",
       "    </tr>\n",
       "    <tr>\n",
       "      <th>756</th>\n",
       "      <td>           </td>\n",
       "      <td>      NaN</td>\n",
       "      <td>                               NaN</td>\n",
       "    </tr>\n",
       "    <tr>\n",
       "      <th>757</th>\n",
       "      <td> 379122974 </td>\n",
       "      <td> 1.014600</td>\n",
       "      <td>      cell cycle and proliferation</td>\n",
       "    </tr>\n",
       "    <tr>\n",
       "      <th>758</th>\n",
       "      <td> 379122974 </td>\n",
       "      <td> 1.014600</td>\n",
       "      <td>                             death</td>\n",
       "    </tr>\n",
       "    <tr>\n",
       "      <th>759</th>\n",
       "      <td>           </td>\n",
       "      <td>      NaN</td>\n",
       "      <td>                               NaN</td>\n",
       "    </tr>\n",
       "    <tr>\n",
       "      <th>760</th>\n",
       "      <td> 379122974 </td>\n",
       "      <td> 1.014600</td>\n",
       "      <td>           developmental processes</td>\n",
       "    </tr>\n",
       "    <tr>\n",
       "      <th>761</th>\n",
       "      <td>           </td>\n",
       "      <td>      NaN</td>\n",
       "      <td>                               NaN</td>\n",
       "    </tr>\n",
       "    <tr>\n",
       "      <th>762</th>\n",
       "      <td> 379122974 </td>\n",
       "      <td> 1.014600</td>\n",
       "      <td>        other biological processes</td>\n",
       "    </tr>\n",
       "    <tr>\n",
       "      <th>763</th>\n",
       "      <td>           </td>\n",
       "      <td>      NaN</td>\n",
       "      <td>                               NaN</td>\n",
       "    </tr>\n",
       "    <tr>\n",
       "      <th>764</th>\n",
       "      <td> 379122974 </td>\n",
       "      <td> 1.014600</td>\n",
       "      <td>               signal transduction</td>\n",
       "    </tr>\n",
       "    <tr>\n",
       "      <th>765</th>\n",
       "      <td>           </td>\n",
       "      <td>      NaN</td>\n",
       "      <td>                               NaN</td>\n",
       "    </tr>\n",
       "    <tr>\n",
       "      <th>766</th>\n",
       "      <td> 379124613 </td>\n",
       "      <td> 0.725200</td>\n",
       "      <td>         other metabolic processes</td>\n",
       "    </tr>\n",
       "    <tr>\n",
       "      <th>767</th>\n",
       "      <td>           </td>\n",
       "      <td>      NaN</td>\n",
       "      <td>                               NaN</td>\n",
       "    </tr>\n",
       "    <tr>\n",
       "      <th>768</th>\n",
       "      <td> 379125571 </td>\n",
       "      <td> 1.079680</td>\n",
       "      <td>  cell organization and biogenesis</td>\n",
       "    </tr>\n",
       "    <tr>\n",
       "      <th>769</th>\n",
       "      <td> 379125571 </td>\n",
       "      <td> 1.079680</td>\n",
       "      <td>                             death</td>\n",
       "    </tr>\n",
       "    <tr>\n",
       "      <th>770</th>\n",
       "      <td>           </td>\n",
       "      <td>      NaN</td>\n",
       "      <td>                               NaN</td>\n",
       "    </tr>\n",
       "    <tr>\n",
       "      <th>771</th>\n",
       "      <td> 379125571 </td>\n",
       "      <td> 1.079680</td>\n",
       "      <td>        other biological processes</td>\n",
       "    </tr>\n",
       "    <tr>\n",
       "      <th>772</th>\n",
       "      <td>           </td>\n",
       "      <td>      NaN</td>\n",
       "      <td>                               NaN</td>\n",
       "    </tr>\n",
       "    <tr>\n",
       "      <th>773</th>\n",
       "      <td> 379125571 </td>\n",
       "      <td> 1.079680</td>\n",
       "      <td>                protein metabolism</td>\n",
       "    </tr>\n",
       "    <tr>\n",
       "      <th>774</th>\n",
       "      <td>           </td>\n",
       "      <td>      NaN</td>\n",
       "      <td>                               NaN</td>\n",
       "    </tr>\n",
       "    <tr>\n",
       "      <th>775</th>\n",
       "      <td> 379125571 </td>\n",
       "      <td> 1.079680</td>\n",
       "      <td>               signal transduction</td>\n",
       "    </tr>\n",
       "    <tr>\n",
       "      <th>776</th>\n",
       "      <td>           </td>\n",
       "      <td>      NaN</td>\n",
       "      <td>                               NaN</td>\n",
       "    </tr>\n",
       "    <tr>\n",
       "      <th>777</th>\n",
       "      <td> 379125699 </td>\n",
       "      <td> 0.910527</td>\n",
       "      <td>      cell cycle and proliferation</td>\n",
       "    </tr>\n",
       "    <tr>\n",
       "      <th>778</th>\n",
       "      <td> 379125699 </td>\n",
       "      <td> 0.910527</td>\n",
       "      <td>               cell-cell signaling</td>\n",
       "    </tr>\n",
       "    <tr>\n",
       "      <th>779</th>\n",
       "      <td>           </td>\n",
       "      <td>      NaN</td>\n",
       "      <td>                               NaN</td>\n",
       "    </tr>\n",
       "    <tr>\n",
       "      <th>780</th>\n",
       "      <td> 379125699 </td>\n",
       "      <td> 0.910527</td>\n",
       "      <td>           developmental processes</td>\n",
       "    </tr>\n",
       "    <tr>\n",
       "      <th>781</th>\n",
       "      <td>           </td>\n",
       "      <td>      NaN</td>\n",
       "      <td>                               NaN</td>\n",
       "    </tr>\n",
       "    <tr>\n",
       "      <th>782</th>\n",
       "      <td> 379125699 </td>\n",
       "      <td> 0.910527</td>\n",
       "      <td>        other biological processes</td>\n",
       "    </tr>\n",
       "    <tr>\n",
       "      <th>783</th>\n",
       "      <td>           </td>\n",
       "      <td>      NaN</td>\n",
       "      <td>                               NaN</td>\n",
       "    </tr>\n",
       "    <tr>\n",
       "      <th>784</th>\n",
       "      <td> 379125699 </td>\n",
       "      <td> 0.910527</td>\n",
       "      <td>               signal transduction</td>\n",
       "    </tr>\n",
       "    <tr>\n",
       "      <th>785</th>\n",
       "      <td>           </td>\n",
       "      <td>      NaN</td>\n",
       "      <td>                               NaN</td>\n",
       "    </tr>\n",
       "  </tbody>\n",
       "</table>\n",
       "<p>786 rows × 3 columns</p>\n",
       "</div>"
      ],
      "text/plain": [
       "              0         1                                  2\n",
       "0    379072903   0.522193                          transport\n",
       "1                     NaN                                NaN\n",
       "2    379072913   0.568663   cell organization and biogenesis\n",
       "3    379073364   0.847868   cell organization and biogenesis\n",
       "4    379073364   0.847868          other metabolic processes\n",
       "5                     NaN                                NaN\n",
       "6    379073364   0.847868                    stress response\n",
       "7                     NaN                                NaN\n",
       "8    379073410   0.449012       cell cycle and proliferation\n",
       "9    379073410   0.449012         other biological processes\n",
       "10                    NaN                                NaN\n",
       "11   379073410   0.449012                    stress response\n",
       "12                    NaN                                NaN\n",
       "13   379073609   0.348797          other metabolic processes\n",
       "14                    NaN                                NaN\n",
       "15   379073609   0.348797                          transport\n",
       "16                    NaN                                NaN\n",
       "17   379074809   0.882294         other biological processes\n",
       "18                    NaN                                NaN\n",
       "19   379074809   0.882294          other metabolic processes\n",
       "20                    NaN                                NaN\n",
       "21   379074809   0.882294                signal transduction\n",
       "22                    NaN                                NaN\n",
       "23   379075128   0.473422          other metabolic processes\n",
       "24                    NaN                                NaN\n",
       "25   379075128   0.473422                          transport\n",
       "26                    NaN                                NaN\n",
       "27   379075495   1.195520                          transport\n",
       "28                    NaN                                NaN\n",
       "29   379075855   1.028990         other biological processes\n",
       "..          ...       ...                                ...\n",
       "756                   NaN                                NaN\n",
       "757  379122974   1.014600       cell cycle and proliferation\n",
       "758  379122974   1.014600                              death\n",
       "759                   NaN                                NaN\n",
       "760  379122974   1.014600            developmental processes\n",
       "761                   NaN                                NaN\n",
       "762  379122974   1.014600         other biological processes\n",
       "763                   NaN                                NaN\n",
       "764  379122974   1.014600                signal transduction\n",
       "765                   NaN                                NaN\n",
       "766  379124613   0.725200          other metabolic processes\n",
       "767                   NaN                                NaN\n",
       "768  379125571   1.079680   cell organization and biogenesis\n",
       "769  379125571   1.079680                              death\n",
       "770                   NaN                                NaN\n",
       "771  379125571   1.079680         other biological processes\n",
       "772                   NaN                                NaN\n",
       "773  379125571   1.079680                 protein metabolism\n",
       "774                   NaN                                NaN\n",
       "775  379125571   1.079680                signal transduction\n",
       "776                   NaN                                NaN\n",
       "777  379125699   0.910527       cell cycle and proliferation\n",
       "778  379125699   0.910527                cell-cell signaling\n",
       "779                   NaN                                NaN\n",
       "780  379125699   0.910527            developmental processes\n",
       "781                   NaN                                NaN\n",
       "782  379125699   0.910527         other biological processes\n",
       "783                   NaN                                NaN\n",
       "784  379125699   0.910527                signal transduction\n",
       "785                   NaN                                NaN\n",
       "\n",
       "[786 rows x 3 columns]"
      ]
     },
     "execution_count": 19,
     "metadata": {},
     "output_type": "execute_result"
    }
   ],
   "source": [
    "Moya_OA_CpG_GOSlim_Data = pd.read_table('Amil_diff_cpg_GOslim', header=None)\n",
    "Moya_OA_CpG_GOSlim_Data"
   ]
  },
  {
   "cell_type": "code",
   "execution_count": 20,
   "metadata": {
    "collapsed": false
   },
   "outputs": [
    {
     "data": {
      "image/png": "[encoded data removed]",
      "text/plain": [
       "<matplotlib.figure.Figure at 0x108504c50>"
      ]
     },
     "metadata": {},
     "output_type": "display_data"
    }
   ],
   "source": [
    "Moya_OA_CpG_GOSlim_Data.groupby(2)[1].mean().plot(kind='barh', color=list('myb'))\n",
    "plt.axis([0.6, 0.8, -1, 14])\n",
    "plt.xlabel('')\n",
    "plt.ylabel('')\n",
    "plt.show()"
   ]
  },
  {
   "cell_type": "code",
   "execution_count": 24,
   "metadata": {
    "collapsed": false
   },
   "outputs": [
    {
     "data": {
      "text/html": [
       "<div style=\"max-height:1000px;max-width:1500px;overflow:auto;\">\n",
       "<table border=\"1\" class=\"dataframe\">\n",
       "  <thead>\n",
       "    <tr style=\"text-align: right;\">\n",
       "      <th></th>\n",
       "      <th>0</th>\n",
       "      <th>1</th>\n",
       "    </tr>\n",
       "  </thead>\n",
       "  <tbody>\n",
       "    <tr>\n",
       "      <th>0  </th>\n",
       "      <td> 379072903</td>\n",
       "      <td> 0.522193</td>\n",
       "    </tr>\n",
       "    <tr>\n",
       "      <th>1  </th>\n",
       "      <td> 379072913</td>\n",
       "      <td> 0.568663</td>\n",
       "    </tr>\n",
       "    <tr>\n",
       "      <th>2  </th>\n",
       "      <td> 379073364</td>\n",
       "      <td> 0.847868</td>\n",
       "    </tr>\n",
       "    <tr>\n",
       "      <th>3  </th>\n",
       "      <td> 379073410</td>\n",
       "      <td> 0.449012</td>\n",
       "    </tr>\n",
       "    <tr>\n",
       "      <th>4  </th>\n",
       "      <td> 379073609</td>\n",
       "      <td> 0.348797</td>\n",
       "    </tr>\n",
       "    <tr>\n",
       "      <th>5  </th>\n",
       "      <td> 379074809</td>\n",
       "      <td> 0.882294</td>\n",
       "    </tr>\n",
       "    <tr>\n",
       "      <th>6  </th>\n",
       "      <td> 379075128</td>\n",
       "      <td> 0.473422</td>\n",
       "    </tr>\n",
       "    <tr>\n",
       "      <th>7  </th>\n",
       "      <td> 379075418</td>\n",
       "      <td> 0.781873</td>\n",
       "    </tr>\n",
       "    <tr>\n",
       "      <th>8  </th>\n",
       "      <td> 379075495</td>\n",
       "      <td> 1.195520</td>\n",
       "    </tr>\n",
       "    <tr>\n",
       "      <th>9  </th>\n",
       "      <td> 379075855</td>\n",
       "      <td> 1.028990</td>\n",
       "    </tr>\n",
       "    <tr>\n",
       "      <th>10 </th>\n",
       "      <td> 379075932</td>\n",
       "      <td> 0.539456</td>\n",
       "    </tr>\n",
       "    <tr>\n",
       "      <th>11 </th>\n",
       "      <td> 379075951</td>\n",
       "      <td> 0.770346</td>\n",
       "    </tr>\n",
       "    <tr>\n",
       "      <th>12 </th>\n",
       "      <td> 379076013</td>\n",
       "      <td> 0.526547</td>\n",
       "    </tr>\n",
       "    <tr>\n",
       "      <th>13 </th>\n",
       "      <td> 379076033</td>\n",
       "      <td> 0.694382</td>\n",
       "    </tr>\n",
       "    <tr>\n",
       "      <th>14 </th>\n",
       "      <td> 379076130</td>\n",
       "      <td> 0.557771</td>\n",
       "    </tr>\n",
       "    <tr>\n",
       "      <th>15 </th>\n",
       "      <td> 379076401</td>\n",
       "      <td> 0.750048</td>\n",
       "    </tr>\n",
       "    <tr>\n",
       "      <th>16 </th>\n",
       "      <td> 379076849</td>\n",
       "      <td> 0.394940</td>\n",
       "    </tr>\n",
       "    <tr>\n",
       "      <th>17 </th>\n",
       "      <td> 379076965</td>\n",
       "      <td> 0.351158</td>\n",
       "    </tr>\n",
       "    <tr>\n",
       "      <th>18 </th>\n",
       "      <td> 379077122</td>\n",
       "      <td> 0.694414</td>\n",
       "    </tr>\n",
       "    <tr>\n",
       "      <th>19 </th>\n",
       "      <td> 379077230</td>\n",
       "      <td> 0.393514</td>\n",
       "    </tr>\n",
       "    <tr>\n",
       "      <th>20 </th>\n",
       "      <td> 379077908</td>\n",
       "      <td> 0.546868</td>\n",
       "    </tr>\n",
       "    <tr>\n",
       "      <th>21 </th>\n",
       "      <td> 379078531</td>\n",
       "      <td> 0.987622</td>\n",
       "    </tr>\n",
       "    <tr>\n",
       "      <th>22 </th>\n",
       "      <td> 379078649</td>\n",
       "      <td> 0.409846</td>\n",
       "    </tr>\n",
       "    <tr>\n",
       "      <th>23 </th>\n",
       "      <td> 379079014</td>\n",
       "      <td> 0.458468</td>\n",
       "    </tr>\n",
       "    <tr>\n",
       "      <th>24 </th>\n",
       "      <td> 379079021</td>\n",
       "      <td> 0.809432</td>\n",
       "    </tr>\n",
       "    <tr>\n",
       "      <th>25 </th>\n",
       "      <td> 379079315</td>\n",
       "      <td> 0.731396</td>\n",
       "    </tr>\n",
       "    <tr>\n",
       "      <th>26 </th>\n",
       "      <td> 379079375</td>\n",
       "      <td> 0.266486</td>\n",
       "    </tr>\n",
       "    <tr>\n",
       "      <th>27 </th>\n",
       "      <td> 379079408</td>\n",
       "      <td> 0.541812</td>\n",
       "    </tr>\n",
       "    <tr>\n",
       "      <th>28 </th>\n",
       "      <td> 379079438</td>\n",
       "      <td> 0.944334</td>\n",
       "    </tr>\n",
       "    <tr>\n",
       "      <th>29 </th>\n",
       "      <td> 379079527</td>\n",
       "      <td> 0.546718</td>\n",
       "    </tr>\n",
       "    <tr>\n",
       "      <th>...</th>\n",
       "      <td>...</td>\n",
       "      <td>...</td>\n",
       "    </tr>\n",
       "    <tr>\n",
       "      <th>164</th>\n",
       "      <td> 379115805</td>\n",
       "      <td> 0.864860</td>\n",
       "    </tr>\n",
       "    <tr>\n",
       "      <th>165</th>\n",
       "      <td> 379115864</td>\n",
       "      <td> 0.620703</td>\n",
       "    </tr>\n",
       "    <tr>\n",
       "      <th>166</th>\n",
       "      <td> 379115901</td>\n",
       "      <td> 0.842288</td>\n",
       "    </tr>\n",
       "    <tr>\n",
       "      <th>167</th>\n",
       "      <td> 379116169</td>\n",
       "      <td> 0.949171</td>\n",
       "    </tr>\n",
       "    <tr>\n",
       "      <th>168</th>\n",
       "      <td> 379116872</td>\n",
       "      <td> 0.909996</td>\n",
       "    </tr>\n",
       "    <tr>\n",
       "      <th>169</th>\n",
       "      <td> 379116910</td>\n",
       "      <td> 0.843997</td>\n",
       "    </tr>\n",
       "    <tr>\n",
       "      <th>170</th>\n",
       "      <td> 379117087</td>\n",
       "      <td> 0.496767</td>\n",
       "    </tr>\n",
       "    <tr>\n",
       "      <th>171</th>\n",
       "      <td> 379117634</td>\n",
       "      <td> 1.382740</td>\n",
       "    </tr>\n",
       "    <tr>\n",
       "      <th>172</th>\n",
       "      <td> 379118472</td>\n",
       "      <td> 0.632430</td>\n",
       "    </tr>\n",
       "    <tr>\n",
       "      <th>173</th>\n",
       "      <td> 379118610</td>\n",
       "      <td> 0.359348</td>\n",
       "    </tr>\n",
       "    <tr>\n",
       "      <th>174</th>\n",
       "      <td> 379118954</td>\n",
       "      <td> 0.832243</td>\n",
       "    </tr>\n",
       "    <tr>\n",
       "      <th>175</th>\n",
       "      <td> 379118999</td>\n",
       "      <td> 0.687449</td>\n",
       "    </tr>\n",
       "    <tr>\n",
       "      <th>176</th>\n",
       "      <td> 379119019</td>\n",
       "      <td> 0.991063</td>\n",
       "    </tr>\n",
       "    <tr>\n",
       "      <th>177</th>\n",
       "      <td> 379120020</td>\n",
       "      <td> 0.782024</td>\n",
       "    </tr>\n",
       "    <tr>\n",
       "      <th>178</th>\n",
       "      <td> 379120424</td>\n",
       "      <td> 0.938628</td>\n",
       "    </tr>\n",
       "    <tr>\n",
       "      <th>179</th>\n",
       "      <td> 379120890</td>\n",
       "      <td> 0.355217</td>\n",
       "    </tr>\n",
       "    <tr>\n",
       "      <th>180</th>\n",
       "      <td> 379120937</td>\n",
       "      <td> 0.500068</td>\n",
       "    </tr>\n",
       "    <tr>\n",
       "      <th>181</th>\n",
       "      <td> 379121265</td>\n",
       "      <td> 0.876896</td>\n",
       "    </tr>\n",
       "    <tr>\n",
       "      <th>182</th>\n",
       "      <td> 379121334</td>\n",
       "      <td> 0.469597</td>\n",
       "    </tr>\n",
       "    <tr>\n",
       "      <th>183</th>\n",
       "      <td> 379121780</td>\n",
       "      <td> 0.932571</td>\n",
       "    </tr>\n",
       "    <tr>\n",
       "      <th>184</th>\n",
       "      <td> 379121838</td>\n",
       "      <td> 0.739775</td>\n",
       "    </tr>\n",
       "    <tr>\n",
       "      <th>185</th>\n",
       "      <td> 379122253</td>\n",
       "      <td> 0.658398</td>\n",
       "    </tr>\n",
       "    <tr>\n",
       "      <th>186</th>\n",
       "      <td> 379122402</td>\n",
       "      <td> 0.973696</td>\n",
       "    </tr>\n",
       "    <tr>\n",
       "      <th>187</th>\n",
       "      <td> 379122553</td>\n",
       "      <td> 0.788853</td>\n",
       "    </tr>\n",
       "    <tr>\n",
       "      <th>188</th>\n",
       "      <td> 379122590</td>\n",
       "      <td> 0.704509</td>\n",
       "    </tr>\n",
       "    <tr>\n",
       "      <th>189</th>\n",
       "      <td> 379122786</td>\n",
       "      <td> 1.105120</td>\n",
       "    </tr>\n",
       "    <tr>\n",
       "      <th>190</th>\n",
       "      <td> 379122974</td>\n",
       "      <td> 1.014600</td>\n",
       "    </tr>\n",
       "    <tr>\n",
       "      <th>191</th>\n",
       "      <td> 379124613</td>\n",
       "      <td> 0.725200</td>\n",
       "    </tr>\n",
       "    <tr>\n",
       "      <th>192</th>\n",
       "      <td> 379125571</td>\n",
       "      <td> 1.079680</td>\n",
       "    </tr>\n",
       "    <tr>\n",
       "      <th>193</th>\n",
       "      <td> 379125699</td>\n",
       "      <td> 0.910527</td>\n",
       "    </tr>\n",
       "  </tbody>\n",
       "</table>\n",
       "<p>194 rows × 2 columns</p>\n",
       "</div>"
      ],
      "text/plain": [
       "             0         1\n",
       "0    379072903  0.522193\n",
       "1    379072913  0.568663\n",
       "2    379073364  0.847868\n",
       "3    379073410  0.449012\n",
       "4    379073609  0.348797\n",
       "5    379074809  0.882294\n",
       "6    379075128  0.473422\n",
       "7    379075418  0.781873\n",
       "8    379075495  1.195520\n",
       "9    379075855  1.028990\n",
       "10   379075932  0.539456\n",
       "11   379075951  0.770346\n",
       "12   379076013  0.526547\n",
       "13   379076033  0.694382\n",
       "14   379076130  0.557771\n",
       "15   379076401  0.750048\n",
       "16   379076849  0.394940\n",
       "17   379076965  0.351158\n",
       "18   379077122  0.694414\n",
       "19   379077230  0.393514\n",
       "20   379077908  0.546868\n",
       "21   379078531  0.987622\n",
       "22   379078649  0.409846\n",
       "23   379079014  0.458468\n",
       "24   379079021  0.809432\n",
       "25   379079315  0.731396\n",
       "26   379079375  0.266486\n",
       "27   379079408  0.541812\n",
       "28   379079438  0.944334\n",
       "29   379079527  0.546718\n",
       "..         ...       ...\n",
       "164  379115805  0.864860\n",
       "165  379115864  0.620703\n",
       "166  379115901  0.842288\n",
       "167  379116169  0.949171\n",
       "168  379116872  0.909996\n",
       "169  379116910  0.843997\n",
       "170  379117087  0.496767\n",
       "171  379117634  1.382740\n",
       "172  379118472  0.632430\n",
       "173  379118610  0.359348\n",
       "174  379118954  0.832243\n",
       "175  379118999  0.687449\n",
       "176  379119019  0.991063\n",
       "177  379120020  0.782024\n",
       "178  379120424  0.938628\n",
       "179  379120890  0.355217\n",
       "180  379120937  0.500068\n",
       "181  379121265  0.876896\n",
       "182  379121334  0.469597\n",
       "183  379121780  0.932571\n",
       "184  379121838  0.739775\n",
       "185  379122253  0.658398\n",
       "186  379122402  0.973696\n",
       "187  379122553  0.788853\n",
       "188  379122590  0.704509\n",
       "189  379122786  1.105120\n",
       "190  379122974  1.014600\n",
       "191  379124613  0.725200\n",
       "192  379125571  1.079680\n",
       "193  379125699  0.910527\n",
       "\n",
       "[194 rows x 2 columns]"
      ]
     },
     "execution_count": 24,
     "metadata": {},
     "output_type": "execute_result"
    }
   ],
   "source": [
    "Moya_OA_CpG_Data = pd.read_table('Amil_diff_cpg_anno', header=None)\n",
    "Moya_OA_CpG_Data"
   ]
  },
  {
   "cell_type": "code",
   "execution_count": 25,
   "metadata": {
    "collapsed": false
   },
   "outputs": [
    {
     "data": {
      "text/plain": [
       "[-0.3, 1.7, 0, 2.0]"
      ]
     },
     "execution_count": 25,
     "metadata": {},
     "output_type": "execute_result"
    },
    {
     "data": {
      "image/png": "[encoded data removed]",
      "text/plain": [
       "<matplotlib.figure.Figure at 0x10708f9d0>"
      ]
     },
     "metadata": {},
     "output_type": "display_data"
    }
   ],
   "source": [
    "# pandas density plot\n",
    "Moya_OA_CpG_Data[1].plot(kind='kde', linewidth=3);\n",
    "CpG[1].plot(kind='kde', linewidth=3);\n",
    "plt.axis([-0.3, 1.7, 0, 2.0])"
   ]
  },
  {
   "cell_type": "code",
   "execution_count": 26,
   "metadata": {
    "collapsed": false
   },
   "outputs": [],
   "source": [
    "import numpy as np"
   ]
  },
  {
   "cell_type": "code",
   "execution_count": 27,
   "metadata": {
    "collapsed": false
   },
   "outputs": [
    {
     "data": {
      "text/plain": [
       "0    3.790984e+08\n",
       "1    6.824230e-01\n",
       "dtype: float64"
      ]
     },
     "execution_count": 27,
     "metadata": {},
     "output_type": "execute_result"
    }
   ],
   "source": [
    "np.mean(CpG)"
   ]
  },
  {
   "cell_type": "code",
   "execution_count": 28,
   "metadata": {
    "collapsed": false
   },
   "outputs": [
    {
     "data": {
      "text/plain": [
       "0    3.790981e+08\n",
       "1    7.195322e-01\n",
       "dtype: float64"
      ]
     },
     "execution_count": 28,
     "metadata": {},
     "output_type": "execute_result"
    }
   ],
   "source": [
    "np.mean(Moya_OA_CpG_Data)"
   ]
  },
  {
   "cell_type": "code",
   "execution_count": null,
   "metadata": {
    "collapsed": false
   },
   "outputs": [],
   "source": []
  }
 ],
 "metadata": {
  "kernelspec": {
   "display_name": "Python 2",
   "language": "python",
   "name": "python2"
  },
  "language_info": {
   "codemirror_mode": {
    "name": "ipython",
    "version": 2
   },
   "file_extension": ".py",
   "mimetype": "text/x-python",
   "name": "python",
   "nbconvert_exporter": "python",
   "pygments_lexer": "ipython2",
   "version": "2.7.9"
  }
 },
 "nbformat": 4,
 "nbformat_minor": 0
}
