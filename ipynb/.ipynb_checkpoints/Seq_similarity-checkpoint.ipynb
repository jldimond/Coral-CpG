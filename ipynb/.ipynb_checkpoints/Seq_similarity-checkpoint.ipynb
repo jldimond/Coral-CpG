{
 "cells": [
  {
   "cell_type": "code",
   "execution_count": 13,
   "metadata": {
    "collapsed": false
   },
   "outputs": [
    {
     "name": "stdout",
     "output_type": "stream",
     "text": [
      "/Users/jd\n"
     ]
    }
   ],
   "source": [
    "cd /Users/jd"
   ]
  },
  {
   "cell_type": "code",
   "execution_count": 14,
   "metadata": {
    "collapsed": false
   },
   "outputs": [
    {
     "name": "stdout",
     "output_type": "stream",
     "text": [
      "x ncbi-blast-2.2.30+/\n",
      "x ncbi-blast-2.2.30+/LICENSE\n",
      "x ncbi-blast-2.2.30+/ChangeLog\n",
      "x ncbi-blast-2.2.30+/ncbi_package_info\n",
      "x ncbi-blast-2.2.30+/doc/\n",
      "x ncbi-blast-2.2.30+/doc/README.txt\n",
      "x ncbi-blast-2.2.30+/README\n",
      "x ncbi-blast-2.2.30+/bin/\n",
      "x ncbi-blast-2.2.30+/bin/tblastn\n",
      "x ncbi-blast-2.2.30+/bin/blastdbcheck\n",
      "x ncbi-blast-2.2.30+/bin/blast_formatter\n",
      "x ncbi-blast-2.2.30+/bin/deltablast\n",
      "x ncbi-blast-2.2.30+/bin/tblastx\n",
      "x ncbi-blast-2.2.30+/bin/blastp\n",
      "x ncbi-blast-2.2.30+/bin/makeblastdb\n",
      "x ncbi-blast-2.2.30+/bin/blastn\n",
      "x ncbi-blast-2.2.30+/bin/windowmasker\n",
      "x ncbi-blast-2.2.30+/bin/blastdbcmd\n",
      "x ncbi-blast-2.2.30+/bin/makembindex\n",
      "x ncbi-blast-2.2.30+/bin/makeprofiledb\n",
      "x ncbi-blast-2.2.30+/bin/update_blastdb.pl\n",
      "x ncbi-blast-2.2.30+/bin/blastdb_aliastool\n",
      "x ncbi-blast-2.2.30+/bin/dustmasker\n",
      "x ncbi-blast-2.2.30+/bin/psiblast\n",
      "x ncbi-blast-2.2.30+/bin/rpsblast\n",
      "x ncbi-blast-2.2.30+/bin/rpstblastn\n",
      "x ncbi-blast-2.2.30+/bin/convert2blastmask\n",
      "x ncbi-blast-2.2.30+/bin/blastx\n",
      "x ncbi-blast-2.2.30+/bin/segmasker\n",
      "x ncbi-blast-2.2.30+/bin/legacy_blast.pl\n"
     ]
    }
   ],
   "source": [
    "!tar -xzvf  ncbi-blast-2.2.30+-universal-macosx.tar.gz"
   ]
  },
  {
   "cell_type": "code",
   "execution_count": 15,
   "metadata": {
    "collapsed": false
   },
   "outputs": [
    {
     "name": "stdout",
     "output_type": "stream",
     "text": [
      "/Users/jd/ncbi-blast-2.2.30+/bin\n"
     ]
    }
   ],
   "source": [
    "cd ncbi-blast-2.2.30+/bin"
   ]
  },
  {
   "cell_type": "code",
   "execution_count": 16,
   "metadata": {
    "collapsed": false
   },
   "outputs": [
    {
     "name": "stdout",
     "output_type": "stream",
     "text": [
      "\u001b[31mblast_formatter\u001b[m\u001b[m*\r\n",
      "\u001b[31mblastdb_aliastool\u001b[m\u001b[m*\r\n",
      "\u001b[31mblastdbcheck\u001b[m\u001b[m*\r\n",
      "\u001b[31mblastdbcmd\u001b[m\u001b[m*\r\n",
      "\u001b[31mblastn\u001b[m\u001b[m*\r\n",
      "\u001b[31mblastp\u001b[m\u001b[m*\r\n",
      "\u001b[31mblastx\u001b[m\u001b[m*\r\n",
      "\u001b[31mconvert2blastmask\u001b[m\u001b[m*\r\n",
      "\u001b[31mdeltablast\u001b[m\u001b[m*\r\n",
      "\u001b[31mdustmasker\u001b[m\u001b[m*\r\n",
      "\u001b[31mlegacy_blast.pl\u001b[m\u001b[m*\r\n",
      "\u001b[31mmakeblastdb\u001b[m\u001b[m*\r\n",
      "\u001b[31mmakembindex\u001b[m\u001b[m*\r\n",
      "\u001b[31mmakeprofiledb\u001b[m\u001b[m*\r\n",
      "\u001b[31mpsiblast\u001b[m\u001b[m*\r\n",
      "\u001b[31mrpsblast\u001b[m\u001b[m*\r\n",
      "\u001b[31mrpstblastn\u001b[m\u001b[m*\r\n",
      "\u001b[31msegmasker\u001b[m\u001b[m*\r\n",
      "\u001b[31mtblastn\u001b[m\u001b[m*\r\n",
      "\u001b[31mtblastx\u001b[m\u001b[m*\r\n",
      "\u001b[31mupdate_blastdb.pl\u001b[m\u001b[m*\r\n",
      "\u001b[31mwindowmasker\u001b[m\u001b[m*\r\n"
     ]
    }
   ],
   "source": [
    "ls -1"
   ]
  },
  {
   "cell_type": "code",
   "execution_count": 1,
   "metadata": {
    "collapsed": false
   },
   "outputs": [
    {
     "name": "stdout",
     "output_type": "stream",
     "text": [
      "USAGE\n",
      "  blastx [-h] [-help] [-import_search_strategy filename]\n",
      "    [-export_search_strategy filename] [-task task_name] [-db database_name]\n",
      "    [-dbsize num_letters] [-gilist filename] [-seqidlist filename]\n",
      "    [-negative_gilist filename] [-entrez_query entrez_query]\n",
      "    [-db_soft_mask filtering_algorithm] [-db_hard_mask filtering_algorithm]\n",
      "    [-subject subject_input_file] [-subject_loc range] [-query input_file]\n",
      "    [-out output_file] [-evalue evalue] [-word_size int_value]\n",
      "    [-gapopen open_penalty] [-gapextend extend_penalty]\n",
      "    [-qcov_hsp_perc float_value] [-xdrop_ungap float_value]\n",
      "    [-xdrop_gap float_value] [-xdrop_gap_final float_value]\n",
      "    [-searchsp int_value] [-max_hsps int_value] [-sum_stats bool_value]\n",
      "    [-max_intron_length length] [-seg SEG_options]\n",
      "    [-soft_masking soft_masking] [-matrix matrix_name]\n",
      "    [-threshold float_value] [-culling_limit int_value]\n",
      "    [-best_hit_overhang float_value] [-best_hit_score_edge float_value]\n",
      "    [-window_size int_value] [-ungapped] [-lcase_masking] [-query_loc range]\n",
      "    [-strand strand] [-parse_deflines] [-query_gencode int_value]\n",
      "    [-outfmt format] [-show_gis] [-num_descriptions int_value]\n",
      "    [-num_alignments int_value] [-line_length line_length] [-html]\n",
      "    [-max_target_seqs num_sequences] [-num_threads int_value] [-remote]\n",
      "    [-comp_based_stats compo] [-use_sw_tback] [-version]\n",
      "\n",
      "DESCRIPTION\n",
      "   Translated Query-Protein Subject BLAST 2.2.30+\n",
      "\n",
      "Use '-help' to print detailed descriptions of command line arguments\n"
     ]
    }
   ],
   "source": [
    "!blastx -h"
   ]
  },
  {
   "cell_type": "code",
   "execution_count": 4,
   "metadata": {
    "collapsed": false
   },
   "outputs": [
    {
     "name": "stdout",
     "output_type": "stream",
     "text": [
      "/Users/jd/ncbi-blast-2.2.30+\n"
     ]
    }
   ],
   "source": [
    "cd /Users/jd/ncbi-blast-2.2.30+/"
   ]
  },
  {
   "cell_type": "code",
   "execution_count": 5,
   "metadata": {
    "collapsed": false
   },
   "outputs": [
    {
     "name": "stdout",
     "output_type": "stream",
     "text": [
      "ChangeLog          README             \u001b[34mdb\u001b[m\u001b[m/                ncbi_package_info\r\n",
      "LICENSE            \u001b[34mbin\u001b[m\u001b[m/               \u001b[34mdoc\u001b[m\u001b[m/\r\n"
     ]
    }
   ],
   "source": [
    "ls"
   ]
  },
  {
   "cell_type": "code",
   "execution_count": 6,
   "metadata": {
    "collapsed": false
   },
   "outputs": [
    {
     "name": "stdout",
     "output_type": "stream",
     "text": [
      "/Users/jd/ncbi-blast-2.2.30+/db\n"
     ]
    }
   ],
   "source": [
    "cd db"
   ]
  },
  {
   "cell_type": "code",
   "execution_count": 7,
   "metadata": {
    "collapsed": false
   },
   "outputs": [
    {
     "name": "stdout",
     "output_type": "stream",
     "text": [
      "\u001b[31mAmil_Moya.fasta\u001b[m\u001b[m*\r\n"
     ]
    }
   ],
   "source": [
    "ls"
   ]
  },
  {
   "cell_type": "code",
   "execution_count": 8,
   "metadata": {
    "collapsed": false
   },
   "outputs": [
    {
     "name": "stdout",
     "output_type": "stream",
     "text": [
      "\n",
      "\n",
      "Building a new DB, current time: 05/06/2015 22:04:57\n",
      "New DB name:   Amil_Moya\n",
      "New DB title:  Amil_Moya.fasta\n",
      "Sequence type: Nucleotide\n",
      "Keep Linkouts: T\n",
      "Keep MBits: T\n",
      "Maximum file size: 1000000000B\n",
      "Adding sequences from FASTA; added 52963 sequences in 2.6492 seconds.\n"
     ]
    }
   ],
   "source": [
    "!makeblastdb -in Amil_Moya.fasta -dbtype nucl -out Amil_Moya"
   ]
  },
  {
   "cell_type": "code",
   "execution_count": 37,
   "metadata": {
    "collapsed": false
   },
   "outputs": [
    {
     "name": "stdout",
     "output_type": "stream",
     "text": [
      "USAGE\n",
      "  blastn [-h] [-help] [-import_search_strategy filename]\n",
      "    [-export_search_strategy filename] [-task task_name] [-db database_name]\n",
      "    [-dbsize num_letters] [-gilist filename] [-seqidlist filename]\n",
      "    [-negative_gilist filename] [-entrez_query entrez_query]\n",
      "    [-db_soft_mask filtering_algorithm] [-db_hard_mask filtering_algorithm]\n",
      "    [-subject subject_input_file] [-subject_loc range] [-query input_file]\n",
      "    [-out output_file] [-evalue evalue] [-word_size int_value]\n",
      "    [-gapopen open_penalty] [-gapextend extend_penalty]\n",
      "    [-perc_identity float_value] [-qcov_hsp_perc float_value]\n",
      "    [-xdrop_ungap float_value] [-xdrop_gap float_value]\n",
      "    [-xdrop_gap_final float_value] [-searchsp int_value] [-max_hsps int_value]\n",
      "    [-sum_stats bool_value] [-penalty penalty] [-reward reward] [-no_greedy]\n",
      "    [-min_raw_gapped_score int_value] [-template_type type]\n",
      "    [-template_length int_value] [-dust DUST_options]\n",
      "    [-filtering_db filtering_database]\n",
      "    [-window_masker_taxid window_masker_taxid]\n",
      "    [-window_masker_db window_masker_db] [-soft_masking soft_masking]\n",
      "    [-ungapped] [-culling_limit int_value] [-best_hit_overhang float_value]\n",
      "    [-best_hit_score_edge float_value] [-window_size int_value]\n",
      "    [-off_diagonal_range int_value] [-use_index boolean] [-index_name string]\n",
      "    [-lcase_masking] [-query_loc range] [-strand strand] [-parse_deflines]\n",
      "    [-outfmt format] [-show_gis] [-num_descriptions int_value]\n",
      "    [-num_alignments int_value] [-line_length line_length] [-html]\n",
      "    [-max_target_seqs num_sequences] [-num_threads int_value] [-remote]\n",
      "    [-version]\n",
      "\n",
      "DESCRIPTION\n",
      "   Nucleotide-Nucleotide BLAST 2.2.30+\n",
      "\n",
      "OPTIONAL ARGUMENTS\n",
      " -h\n",
      "   Print USAGE and DESCRIPTION;  ignore all other parameters\n",
      " -help\n",
      "   Print USAGE, DESCRIPTION and ARGUMENTS; ignore all other parameters\n",
      " -version\n",
      "   Print version number;  ignore other arguments\n",
      "\n",
      " *** Input query options\n",
      " -query <File_In>\n",
      "   Input file name\n",
      "   Default = `-'\n",
      " -query_loc <String>\n",
      "   Location on the query sequence in 1-based offsets (Format: start-stop)\n",
      " -strand <String, `both', `minus', `plus'>\n",
      "   Query strand(s) to search against database/subject\n",
      "   Default = `both'\n",
      "\n",
      " *** General search options\n",
      " -task <String, Permissible values: 'blastn' 'blastn-short' 'dc-megablast'\n",
      "                'megablast' 'rmblastn' >\n",
      "   Task to execute\n",
      "   Default = `megablast'\n",
      " -db <String>\n",
      "   BLAST database name\n",
      "    * Incompatible with:  subject, subject_loc\n",
      " -out <File_Out>\n",
      "   Output file name\n",
      "   Default = `-'\n",
      " -evalue <Real>\n",
      "   Expectation value (E) threshold for saving hits \n",
      "   Default = `10'\n",
      " -word_size <Integer, >=4>\n",
      "   Word size for wordfinder algorithm (length of best perfect match)\n",
      " -gapopen <Integer>\n",
      "   Cost to open a gap\n",
      " -gapextend <Integer>\n",
      "   Cost to extend a gap\n",
      " -penalty <Integer, <=0>\n",
      "   Penalty for a nucleotide mismatch\n",
      " -reward <Integer, >=0>\n",
      "   Reward for a nucleotide match\n",
      " -use_index <Boolean>\n",
      "   Use MegaBLAST database index\n",
      "   Default = `false'\n",
      " -index_name <String>\n",
      "   MegaBLAST database index name\n",
      "\n",
      " *** BLAST-2-Sequences options\n",
      " -subject <File_In>\n",
      "   Subject sequence(s) to search\n",
      "    * Incompatible with:  db, gilist, seqidlist, negative_gilist,\n",
      "   db_soft_mask, db_hard_mask\n",
      " -subject_loc <String>\n",
      "   Location on the subject sequence in 1-based offsets (Format: start-stop)\n",
      "    * Incompatible with:  db, gilist, seqidlist, negative_gilist,\n",
      "   db_soft_mask, db_hard_mask, remote\n",
      "\n",
      " *** Formatting options\n",
      " -outfmt <String>\n",
      "   alignment view options:\n",
      "     0 = pairwise,\n",
      "     1 = query-anchored showing identities,\n",
      "     2 = query-anchored no identities,\n",
      "     3 = flat query-anchored, show identities,\n",
      "     4 = flat query-anchored, no identities,\n",
      "     5 = XML Blast output,\n",
      "     6 = tabular,\n",
      "     7 = tabular with comment lines,\n",
      "     8 = Text ASN.1,\n",
      "     9 = Binary ASN.1,\n",
      "    10 = Comma-separated values,\n",
      "    11 = BLAST archive format (ASN.1) \n",
      "    12 = JSON Seqalign output \n",
      "   \n",
      "   Options 6, 7, and 10 can be additionally configured to produce\n",
      "   a custom format specified by space delimited format specifiers.\n",
      "   The supported format specifiers are:\n",
      "   \t    qseqid means Query Seq-id\n",
      "   \t       qgi means Query GI\n",
      "   \t      qacc means Query accesion\n",
      "   \t   qaccver means Query accesion.version\n",
      "   \t      qlen means Query sequence length\n",
      "   \t    sseqid means Subject Seq-id\n",
      "   \t sallseqid means All subject Seq-id(s), separated by a ';'\n",
      "   \t       sgi means Subject GI\n",
      "   \t    sallgi means All subject GIs\n",
      "   \t      sacc means Subject accession\n",
      "   \t   saccver means Subject accession.version\n",
      "   \t   sallacc means All subject accessions\n",
      "   \t      slen means Subject sequence length\n",
      "   \t    qstart means Start of alignment in query\n",
      "   \t      qend means End of alignment in query\n",
      "   \t    sstart means Start of alignment in subject\n",
      "   \t      send means End of alignment in subject\n",
      "   \t      qseq means Aligned part of query sequence\n",
      "   \t      sseq means Aligned part of subject sequence\n",
      "   \t    evalue means Expect value\n",
      "   \t  bitscore means Bit score\n",
      "   \t     score means Raw score\n",
      "   \t    length means Alignment length\n",
      "   \t    pident means Percentage of identical matches\n",
      "   \t    nident means Number of identical matches\n",
      "   \t  mismatch means Number of mismatches\n",
      "   \t  positive means Number of positive-scoring matches\n",
      "   \t   gapopen means Number of gap openings\n",
      "   \t      gaps means Total number of gaps\n",
      "   \t      ppos means Percentage of positive-scoring matches\n",
      "   \t    frames means Query and subject frames separated by a '/'\n",
      "   \t    qframe means Query frame\n",
      "   \t    sframe means Subject frame\n",
      "   \t      btop means Blast traceback operations (BTOP)\n",
      "   \t   staxids means unique Subject Taxonomy ID(s), separated by a ';'\n",
      "   \t\t\t (in numerical order)\n",
      "   \t sscinames means unique Subject Scientific Name(s), separated by a ';'\n",
      "   \t scomnames means unique Subject Common Name(s), separated by a ';'\n",
      "   \tsblastnames means unique Subject Blast Name(s), separated by a ';'\n",
      "   \t\t\t (in alphabetical order)\n",
      "   \tsskingdoms means unique Subject Super Kingdom(s), separated by a ';'\n",
      "   \t\t\t (in alphabetical order) \n",
      "   \t    stitle means Subject Title\n",
      "   \tsalltitles means All Subject Title(s), separated by a '<>'\n",
      "   \t   sstrand means Subject Strand\n",
      "   \t     qcovs means Query Coverage Per Subject\n",
      "   \t   qcovhsp means Query Coverage Per HSP\n",
      "   When not provided, the default value is:\n",
      "   'qseqid sseqid pident length mismatch gapopen qstart qend sstart send\n",
      "   evalue bitscore', which is equivalent to the keyword 'std'\n",
      "   Default = `0'\n",
      " -show_gis\n",
      "   Show NCBI GIs in deflines?\n",
      " -num_descriptions <Integer, >=0>\n",
      "   Number of database sequences to show one-line descriptions for\n",
      "   Not applicable for outfmt > 4\n",
      "   Default = `500'\n",
      "    * Incompatible with:  max_target_seqs\n",
      " -num_alignments <Integer, >=0>\n",
      "   Number of database sequences to show alignments for\n",
      "   Default = `250'\n",
      "    * Incompatible with:  max_target_seqs\n",
      " -line_length <Integer, >=1>\n",
      "   Line length for formatting alignments\n",
      "   Not applicable for outfmt > 4\n",
      "   Default = `60'\n",
      " -html\n",
      "   Produce HTML output?\n",
      "\n",
      " *** Query filtering options\n",
      " -dust <String>\n",
      "   Filter query sequence with DUST (Format: 'yes', 'level window linker', or\n",
      "   'no' to disable)\n",
      "   Default = `20 64 1'\n",
      " -filtering_db <String>\n",
      "   BLAST database containing filtering elements (i.e.: repeats)\n",
      " -window_masker_taxid <Integer>\n",
      "   Enable WindowMasker filtering using a Taxonomic ID\n",
      " -window_masker_db <String>\n",
      "   Enable WindowMasker filtering using this repeats database.\n",
      " -soft_masking <Boolean>\n",
      "   Apply filtering locations as soft masks\n",
      "   Default = `true'\n",
      " -lcase_masking\n",
      "   Use lower case filtering in query and subject sequence(s)?\n",
      "\n",
      " *** Restrict search or results\n",
      " -gilist <String>\n",
      "   Restrict search of database to list of GI's\n",
      "    * Incompatible with:  negative_gilist, seqidlist, remote, subject,\n",
      "   subject_loc\n",
      " -seqidlist <String>\n",
      "   Restrict search of database to list of SeqId's\n",
      "    * Incompatible with:  gilist, negative_gilist, remote, subject,\n",
      "   subject_loc\n",
      " -negative_gilist <String>\n",
      "   Restrict search of database to everything except the listed GIs\n",
      "    * Incompatible with:  gilist, seqidlist, remote, subject, subject_loc\n",
      " -entrez_query <String>\n",
      "   Restrict search with the given Entrez query\n",
      "    * Requires:  remote\n",
      " -db_soft_mask <String>\n",
      "   Filtering algorithm ID to apply to the BLAST database as soft masking\n",
      "    * Incompatible with:  db_hard_mask, subject, subject_loc\n",
      " -db_hard_mask <String>\n",
      "   Filtering algorithm ID to apply to the BLAST database as hard masking\n",
      "    * Incompatible with:  db_soft_mask, subject, subject_loc\n",
      " -perc_identity <Real, 0..100>\n",
      "   Percent identity\n",
      " -qcov_hsp_perc <Real, 0..100>\n",
      "   Percent query coverage per hsp\n",
      " -culling_limit <Integer, >=0>\n",
      "   If the query range of a hit is enveloped by that of at least this many\n",
      "   higher-scoring hits, delete the hit\n",
      "    * Incompatible with:  best_hit_overhang, best_hit_score_edge\n",
      " -best_hit_overhang <Real, (>0 and <0.5)>\n",
      "   Best Hit algorithm overhang value (recommended value: 0.1)\n",
      "    * Incompatible with:  culling_limit\n",
      " -best_hit_score_edge <Real, (>0 and <0.5)>\n",
      "   Best Hit algorithm score edge value (recommended value: 0.1)\n",
      "    * Incompatible with:  culling_limit\n",
      " -max_target_seqs <Integer, >=1>\n",
      "   Maximum number of aligned sequences to keep \n",
      "   Not applicable for outfmt <= 4\n",
      "   Default = `500'\n",
      "    * Incompatible with:  num_descriptions, num_alignments\n",
      "\n",
      " *** Discontiguous MegaBLAST options\n",
      " -template_type <String, `coding', `coding_and_optimal', `optimal'>\n",
      "   Discontiguous MegaBLAST template type\n",
      "    * Requires:  template_length\n",
      " -template_length <Integer, Permissible values: '16' '18' '21' >\n",
      "   Discontiguous MegaBLAST template length\n",
      "    * Requires:  template_type\n",
      "\n",
      " *** Statistical options\n",
      " -dbsize <Int8>\n",
      "   Effective length of the database \n",
      " -searchsp <Int8, >=0>\n",
      "   Effective length of the search space\n",
      " -max_hsps <Integer, >=0>\n",
      "   Set maximum number of HSPs per subject sequence to save (0 means no limit)\n",
      "   Default = `0'\n",
      " -sum_stats <Boolean>\n",
      "   Use sum statistics\n",
      "\n",
      " *** Search strategy options\n",
      " -import_search_strategy <File_In>\n",
      "   Search strategy to use\n",
      "    * Incompatible with:  export_search_strategy\n",
      " -export_search_strategy <File_Out>\n",
      "   File name to record the search strategy used\n",
      "    * Incompatible with:  import_search_strategy\n",
      "\n",
      " *** Extension options\n",
      " -xdrop_ungap <Real>\n",
      "   X-dropoff value (in bits) for ungapped extensions\n",
      " -xdrop_gap <Real>\n",
      "   X-dropoff value (in bits) for preliminary gapped extensions\n",
      " -xdrop_gap_final <Real>\n",
      "   X-dropoff value (in bits) for final gapped alignment\n",
      " -no_greedy\n",
      "   Use non-greedy dynamic programming extension\n",
      " -min_raw_gapped_score <Integer>\n",
      "   Minimum raw gapped score to keep an alignment in the preliminary gapped and\n",
      "   traceback stages\n",
      " -ungapped\n",
      "   Perform ungapped alignment only?\n",
      " -window_size <Integer, >=0>\n",
      "   Multiple hits window size, use 0 to specify 1-hit algorithm\n",
      " -off_diagonal_range <Integer, >=0>\n",
      "   Number of off-diagonals to search for the 2nd hit, use 0 to turn off\n",
      "   Default = `0'\n",
      "\n",
      " *** Miscellaneous options\n",
      " -parse_deflines\n",
      "   Should the query and subject defline(s) be parsed?\n",
      " -num_threads <Integer, >=1>\n",
      "   Number of threads (CPUs) to use in the BLAST search\n",
      "   Default = `1'\n",
      "    * Incompatible with:  remote\n",
      " -remote\n",
      "   Execute search remotely?\n",
      "    * Incompatible with:  gilist, seqidlist, negative_gilist, subject_loc,\n",
      "   num_threads\n",
      "\n"
     ]
    }
   ],
   "source": [
    "!blastn -help"
   ]
  },
  {
   "cell_type": "markdown",
   "metadata": {},
   "source": [
    "### Blastn query"
   ]
  },
  {
   "cell_type": "code",
   "execution_count": 14,
   "metadata": {
    "collapsed": false
   },
   "outputs": [],
   "source": [
    "!blastn \\\n",
    "-query /Users/jd/Documents/Projects/Coral-CpG-ratio-MS/data/Apalm/Apalm.fasta \\\n",
    "-db /Users/jd/ncbi-blast-2.2.30\\+/db/Amil_Moya \\\n",
    "-outfmt 6 \\\n",
    "-num_alignments 1 \\\n",
    "-max_hsps 1 \\\n",
    "-out /Users/jd/Documents/Projects/Coral-CpG-ratio-MS/analyses/sequence_similarity/Apalm_Amil"
   ]
  },
  {
   "cell_type": "code",
   "execution_count": 15,
   "metadata": {
    "collapsed": false
   },
   "outputs": [
    {
     "name": "stdout",
     "output_type": "stream",
     "text": [
      "/Users/jd/Documents/Projects/Coral-CpG-ratio-MS/analyses/sequence_similarity\n"
     ]
    }
   ],
   "source": [
    "cd /Users/jd/Documents/Projects/Coral-CpG-ratio-MS/analyses/sequence_similarity"
   ]
  },
  {
   "cell_type": "code",
   "execution_count": 16,
   "metadata": {
    "collapsed": false
   },
   "outputs": [
    {
     "name": "stdout",
     "output_type": "stream",
     "text": [
      "Amil_ID_CpG          Apalm_Amil.tab       Apalm_ID_CpG.sort\r\n",
      "Amil_ID_CpG.sort     Apalm_Amil.tab.sort\r\n",
      "Apalm_Amil           Apalm_ID_CpG\r\n"
     ]
    }
   ],
   "source": [
    "ls"
   ]
  },
  {
   "cell_type": "code",
   "execution_count": 17,
   "metadata": {
    "collapsed": false
   },
   "outputs": [
    {
     "name": "stdout",
     "output_type": "stream",
     "text": [
      "AOKF1013_g2_c\tgi|379107850|gb|JT005520.1|\t97.73\t705\t16\t0\t1\t705\t3982\t3278\t0.0\t 1214\r\n",
      "AOKF1022_b2_c\tgi|379111191|gb|JT008861.1|\t91.39\t639\t21\t8\t2\t626\t1889\t2507\t0.0\t  845\r\n",
      "AOKF1029_g2_c\tgi|379111749|gb|JT009419.1|\t94.01\t735\t27\t9\t1\t727\t1109\t1834\t0.0\t 1098\r\n",
      "AOKF1031_g2_c\tgi|379088139|gb|JR985808.1|\t98.60\t716\t10\t0\t1\t716\t898\t1613\t0.0\t 1267\r\n",
      "AOKF1034_g2_c\tgi|379080689|gb|JR978358.1|\t98.51\t672\t10\t0\t1\t672\t2194\t2865\t0.0\t 1186\r\n",
      "AOKF1040_g2_c\tgi|379111243|gb|JT008913.1|\t96.52\t632\t22\t0\t1\t632\t2642\t3273\t0.0\t 1046\r\n",
      "AOKF1045_g2_c\tgi|379108606|gb|JT006276.1|\t98.45\t711\t11\t0\t1\t711\t321\t1031\t0.0\t 1253\r\n",
      "AOKF1046_g2_c\tgi|379116578|gb|JT014248.1|\t96.81\t722\t20\t1\t1\t719\t779\t1500\t0.0\t 1203\r\n",
      "AOKF1050_b2_c\tgi|379111323|gb|JT008993.1|\t96.91\t162\t5\t0\t74\t235\t2024\t1863\t4e-72\t  272\r\n",
      "AOKF1057_b2_c\tgi|379097993|gb|JR995662.1|\t97.76\t671\t14\t1\t109\t779\t710\t41\t0.0\t 1155\r\n"
     ]
    }
   ],
   "source": [
    "!head Apalm_Amil"
   ]
  },
  {
   "cell_type": "code",
   "execution_count": 18,
   "metadata": {
    "collapsed": false
   },
   "outputs": [
    {
     "name": "stdout",
     "output_type": "stream",
     "text": [
      "AOKF1013_g2_c\tgi\t379107850\tgb\tJT005520.1\t\t97.73\t705\t16\t0\t1\t705\t3982\t3278\t0.0\t 1214\r\n"
     ]
    }
   ],
   "source": [
    "#Removing pipes and converted to tab-delimited file\n",
    "!tr '|' \"\\t\" <Apalm_Amil> Apalm_Amil_tab\n",
    "!head -1 Apalm_Amil_tab"
   ]
  },
  {
   "cell_type": "code",
   "execution_count": 19,
   "metadata": {
    "collapsed": true
   },
   "outputs": [],
   "source": [
    "!sort Apalm_Amil_tab > Apalm_Amil_tab.sort"
   ]
  },
  {
   "cell_type": "code",
   "execution_count": 20,
   "metadata": {
    "collapsed": false
   },
   "outputs": [],
   "source": [
    "!sort Amil_ID_CpG > Amil_ID_CpG.sort"
   ]
  },
  {
   "cell_type": "code",
   "execution_count": 21,
   "metadata": {
    "collapsed": true
   },
   "outputs": [],
   "source": [
    "!sort Apalm_ID_CpG > Apalm_ID_CpG.sort"
   ]
  },
  {
   "cell_type": "code",
   "execution_count": 25,
   "metadata": {
    "collapsed": true
   },
   "outputs": [],
   "source": [
    "!sort Apalm_Amil_tab > Apalm_Amil_tab.sort"
   ]
  },
  {
   "cell_type": "code",
   "execution_count": 27,
   "metadata": {
    "collapsed": false
   },
   "outputs": [],
   "source": [
    "!join Apalm_ID_CpG.sort Apalm_Amil_tab.sort > Apalm_Amil_CpG1"
   ]
  },
  {
   "cell_type": "code",
   "execution_count": 28,
   "metadata": {
    "collapsed": false
   },
   "outputs": [
    {
     "name": "stdout",
     "output_type": "stream",
     "text": [
      "AOKF1013_g2_c 0.261194 gi 379107850 gb JT005520.1 97.73 705 16 0 1 705 3982 3278 0.0 1214\r\n",
      "AOKF1022_b2_c 1.21084 gi 379111191 gb JT008861.1 91.39 639 21 8 2 626 1889 2507 0.0 845\r\n",
      "AOKF1029_g2_c 0.305319 gi 379111749 gb JT009419.1 94.01 735 27 9 1 727 1109 1834 0.0 1098\r\n",
      "AOKF1031_g2_c 0.476647 gi 379088139 gb JR985808.1 98.60 716 10 0 1 716 898 1613 0.0 1267\r\n",
      "AOKF1034_g2_c 0.250371 gi 379080689 gb JR978358.1 98.51 672 10 0 1 672 2194 2865 0.0 1186\r\n",
      "AOKF1040_g2_c 1.11148 gi 379111243 gb JT008913.1 96.52 632 22 0 1 632 2642 3273 0.0 1046\r\n",
      "AOKF1045_g2_c 0.415524 gi 379108606 gb JT006276.1 98.45 711 11 0 1 711 321 1031 0.0 1253\r\n",
      "AOKF1046_g2_c 0.278746 gi 379116578 gb JT014248.1 96.81 722 20 1 1 719 779 1500 0.0 1203\r\n",
      "AOKF1050_b2_c 0.405247 gi 379111323 gb JT008993.1 96.91 162 5 0 74 235 2024 1863 4e-72 272\r\n",
      "AOKF1057_b2_c 0.337031 gi 379097993 gb JR995662.1 97.76 671 14 1 109 779 710 41 0.0 1155\r\n"
     ]
    }
   ],
   "source": [
    "!head Apalm_Amil_CpG1"
   ]
  },
  {
   "cell_type": "code",
   "execution_count": 29,
   "metadata": {
    "collapsed": false
   },
   "outputs": [
    {
     "name": "stdout",
     "output_type": "stream",
     "text": [
      "379107850\r\n",
      "379111191\r\n",
      "379111749\r\n",
      "379088139\r\n",
      "379080689\r\n",
      "379111243\r\n",
      "379108606\r\n",
      "379116578\r\n",
      "379111323\r\n",
      "379097993\r\n"
     ]
    }
   ],
   "source": [
    "!awk '{print $4}' Apalm_Amil_CpG1 > test\n",
    "!head test"
   ]
  },
  {
   "cell_type": "code",
   "execution_count": 34,
   "metadata": {
    "collapsed": false
   },
   "outputs": [
    {
     "name": "stdout",
     "output_type": "stream",
     "text": [
      "sort: invalid option -- 4\r\n",
      "Try `sort --help' for more information.\r\n"
     ]
    }
   ],
   "source": [
    "!sort -4 Apalm_Amil_CpG1 > test #need to figure out how to sort by column 4\n",
    "!head test"
   ]
  },
  {
   "cell_type": "code",
   "execution_count": 32,
   "metadata": {
    "collapsed": false
   },
   "outputs": [
    {
     "name": "stdout",
     "output_type": "stream",
     "text": [
      "Usage: sort [OPTION]... [FILE]...\r\n",
      "Write sorted concatenation of all FILE(s) to standard output.\r\n",
      "\r\n",
      "Mandatory arguments to long options are mandatory for short options too.\r\n",
      "Ordering options:\r\n",
      "\r\n",
      "  -b, --ignore-leading-blanks  ignore leading blanks\r\n",
      "  -d, --dictionary-order      consider only blanks and alphanumeric characters\r\n",
      "  -f, --ignore-case           fold lower case to upper case characters\r\n",
      "  -g, --general-numeric-sort  compare according to general numerical value\r\n",
      "  -i, --ignore-nonprinting    consider only printable characters\r\n",
      "  -M, --month-sort            compare (unknown) < `JAN' < ... < `DEC'\r\n",
      "  -n, --numeric-sort          compare according to string numerical value\r\n",
      "  -r, --reverse               reverse the result of comparisons\r\n",
      "\r\n",
      "Other options:\r\n",
      "\r\n",
      "  -c, --check               check whether input is sorted; do not sort\r\n",
      "  -k, --key=POS1[,POS2]     start a key at POS1, end it at POS2 (origin 1)\r\n",
      "  -m, --merge               merge already sorted files; do not sort\r\n",
      "  -o, --output=FILE         write result to FILE instead of standard output\r\n",
      "  -s, --stable              stabilize sort by disabling last-resort comparison\r\n",
      "  -S, --buffer-size=SIZE    use SIZE for main memory buffer\r\n",
      "  -t, --field-separator=SEP  use SEP instead of non-blank to blank transition\r\n",
      "  -T, --temporary-directory=DIR  use DIR for temporaries, not $TMPDIR or /tmp;\r\n",
      "                              multiple options specify multiple directories\r\n",
      "  -u, --unique              with -c, check for strict ordering;\r\n",
      "                              without -c, output only the first of an equal run\r\n",
      "  -z, --zero-terminated     end lines with 0 byte, not newline\r\n",
      "      --help     display this help and exit\r\n",
      "      --version  output version information and exit\r\n",
      "\r\n",
      "POS is F[.C][OPTS], where F is the field number and C the character position\r\n",
      "in the field.  OPTS is one or more single-letter ordering options, which\r\n",
      "override global ordering options for that key.  If no key is given, use the\r\n",
      "entire line as the key.\r\n",
      "\r\n",
      "SIZE may be followed by the following multiplicative suffixes:\r\n",
      "% 1% of memory, b 1, K 1024 (default), and so on for M, G, T, P, E, Z, Y.\r\n",
      "\r\n",
      "With no FILE, or when FILE is -, read standard input.\r\n",
      "\r\n",
      "*** WARNING ***\r\n",
      "The locale specified by the environment affects sort order.\r\n",
      "Set LC_ALL=C to get the traditional sort order that uses\r\n",
      "native byte values.\r\n",
      "\r\n",
      "Report bugs to <bug-coreutils@gnu.org>.\r\n"
     ]
    }
   ],
   "source": [
    "!sort --help"
   ]
  },
  {
   "cell_type": "code",
   "execution_count": null,
   "metadata": {
    "collapsed": true
   },
   "outputs": [],
   "source": []
  }
 ],
 "metadata": {
  "kernelspec": {
   "display_name": "Python 2",
   "language": "python",
   "name": "python2"
  },
  "language_info": {
   "codemirror_mode": {
    "name": "ipython",
    "version": 2
   },
   "file_extension": ".py",
   "mimetype": "text/x-python",
   "name": "python",
   "nbconvert_exporter": "python",
   "pygments_lexer": "ipython2",
   "version": "2.7.9"
  }
 },
 "nbformat": 4,
 "nbformat_minor": 0
}
