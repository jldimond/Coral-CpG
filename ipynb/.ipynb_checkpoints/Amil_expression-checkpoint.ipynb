{
 "cells": [
  {
   "cell_type": "markdown",
   "metadata": {},
   "source": [
    "# *Acropora millepora* gene expression data"
   ]
  },
  {
   "cell_type": "markdown",
   "metadata": {},
   "source": [
    "This workflow downloads and processes *A. millepora* [gene expression data](http://www.ncbi.nlm.nih.gov/geo/query/acc.cgi?acc=GSE33016) and joins it with CpG O/E data for subsequent analysis in R. Each sample had its own file, and these had to be joined prior to analysis."
   ]
  },
  {
   "cell_type": "code",
   "execution_count": 1,
   "metadata": {
    "collapsed": false
   },
   "outputs": [
    {
     "name": "stdout",
     "output_type": "stream",
     "text": [
      "/Users/jd/Documents/Projects/Coral-CpG-ratio-MS/analyses/Amil\n"
     ]
    }
   ],
   "source": [
    "cd ../analyses/Amil"
   ]
  },
  {
   "cell_type": "code",
   "execution_count": 10,
   "metadata": {
    "collapsed": false
   },
   "outputs": [
    {
     "name": "stdout",
     "output_type": "stream",
     "text": [
      "  % Total    % Received % Xferd  Average Speed   Time    Time     Time  Current\n",
      "                                 Dload  Upload   Total   Spent    Left  Speed\n",
      "100  1564    0  1564    0     0   5075      0 --:--:-- --:--:-- --:--:--  5077\n"
     ]
    }
   ],
   "source": [
    "!curl -O http://www.ncbi.nlm.nih.gov/geo/download/GSE33016_RAW.tar"
   ]
  },
  {
   "cell_type": "code",
   "execution_count": 23,
   "metadata": {
    "collapsed": false
   },
   "outputs": [
    {
     "name": "stdout",
     "output_type": "stream",
     "text": [
      "tar: Unrecognized archive format\r\n",
      "tar: Error exit delayed from previous errors.\r\n"
     ]
    }
   ],
   "source": [
    "!tar -xvzf GSE33016_RAW.tar"
   ]
  },
  {
   "cell_type": "code",
   "execution_count": 48,
   "metadata": {
    "collapsed": false
   },
   "outputs": [
    {
     "name": "stdout",
     "output_type": "stream",
     "text": [
      "/Users/jd/Documents/Projects/Coral-CpG-ratio-MS/analyses/Amil/GSE33016_RAW\n"
     ]
    }
   ],
   "source": [
    "cd GSE33016_RAW"
   ]
  },
  {
   "cell_type": "code",
   "execution_count": 25,
   "metadata": {
    "collapsed": false
   },
   "outputs": [
    {
     "name": "stdout",
     "output_type": "stream",
     "text": [
      "GSM818457_mRNA_01.counts.txt.gz GSM818462_mRNA_06.counts.txt.gz\r\n",
      "GSM818458_mRNA_02.counts.txt.gz GSM818463_mRNA_07.counts.txt.gz\r\n",
      "GSM818459_mRNA_03.counts.txt.gz GSM818464_mRNA_08.counts.txt.gz\r\n",
      "GSM818460_mRNA_04.counts.txt.gz GSM818465_mRNA_09.counts.txt.gz\r\n",
      "GSM818461_mRNA_05.counts.txt.gz\r\n"
     ]
    }
   ],
   "source": [
    "!ls"
   ]
  },
  {
   "cell_type": "code",
   "execution_count": 26,
   "metadata": {
    "collapsed": true
   },
   "outputs": [],
   "source": [
    "!gunzip *.txt.gz"
   ]
  },
  {
   "cell_type": "code",
   "execution_count": 27,
   "metadata": {
    "collapsed": false
   },
   "outputs": [
    {
     "name": "stdout",
     "output_type": "stream",
     "text": [
      "GSM818457_mRNA_01.counts.txt GSM818462_mRNA_06.counts.txt\r\n",
      "GSM818458_mRNA_02.counts.txt GSM818463_mRNA_07.counts.txt\r\n",
      "GSM818459_mRNA_03.counts.txt GSM818464_mRNA_08.counts.txt\r\n",
      "GSM818460_mRNA_04.counts.txt GSM818465_mRNA_09.counts.txt\r\n",
      "GSM818461_mRNA_05.counts.txt\r\n"
     ]
    }
   ],
   "source": [
    "!ls"
   ]
  },
  {
   "cell_type": "code",
   "execution_count": 70,
   "metadata": {
    "collapsed": false
   },
   "outputs": [],
   "source": [
    "# Sorting prior to joining\n",
    "!sort GSM818457_mRNA_01.counts.txt > f1_sorted\n",
    "!sort GSM818458_mRNA_02.counts.txt > f2_sorted\n",
    "!sort GSM818459_mRNA_03.counts.txt > f3_sorted\n",
    "!sort GSM818460_mRNA_04.counts.txt > f4_sorted\n",
    "!sort GSM818461_mRNA_05.counts.txt > f5_sorted\n",
    "!sort GSM818462_mRNA_06.counts.txt > f6_sorted\n",
    "!sort GSM818463_mRNA_07.counts.txt > f7_sorted\n",
    "!sort GSM818464_mRNA_08.counts.txt > f8_sorted\n",
    "!sort GSM818465_mRNA_09.counts.txt > f9_sorted"
   ]
  },
  {
   "cell_type": "code",
   "execution_count": 73,
   "metadata": {
    "collapsed": false
   },
   "outputs": [],
   "source": [
    "#Joining all files into one\n",
    "!join f1_sorted f2_sorted > join1 \n",
    "!join join1 f3_sorted > join2\n",
    "!join join2 f4_sorted > join3\n",
    "!join join3 f5_sorted > join4\n",
    "!join join4 f6_sorted > join5\n",
    "!join join5 f7_sorted > join6\n",
    "!join join6 f8_sorted > join7\n",
    "!join join7 f9_sorted > /Users/jd/Documents/Projects/Coral-CpG-ratio-MS/analyses/Amil/joined_exp"
   ]
  },
  {
   "cell_type": "code",
   "execution_count": 74,
   "metadata": {
    "collapsed": false
   },
   "outputs": [
    {
     "name": "stdout",
     "output_type": "stream",
     "text": [
      "/Users/jd/Documents/Projects/Coral-CpG-ratio-MS/analyses/Amil\n"
     ]
    }
   ],
   "source": [
    "cd .."
   ]
  },
  {
   "cell_type": "code",
   "execution_count": 75,
   "metadata": {
    "collapsed": false
   },
   "outputs": [
    {
     "name": "stdout",
     "output_type": "stream",
     "text": [
      "JR970414 Cluster034439 6 Cluster034439 9 Cluster034439 12 Cluster034439 7 Cluster034439 11 Cluster034439 17 Cluster034439 6 Cluster034439 11 Cluster034439 18\n",
      "JR970415 Cluster034438 88 Cluster034438 76 Cluster034438 199 Cluster034438 72 Cluster034438 118 Cluster034438 265 Cluster034438 75 Cluster034438 135 Cluster034438 270\n",
      "JR970416 Cluster007054 195 Cluster007054 207 Cluster007054 180 Cluster007054 175 Cluster007054 222 Cluster007054 175 Cluster007054 167 Cluster007054 217 Cluster007054 159\n",
      "JR970417 Cluster034431 14 Cluster034431 19 Cluster034431 23 Cluster034431 12 Cluster034431 26 Cluster034431 33 Cluster034431 11 Cluster034431 19 Cluster034431 38\n",
      "JR970418 Cluster034430 14 Cluster034430 27 Cluster034430 54 Cluster034430 7 Cluster034430 18 Cluster034430 74 Cluster034430 18 Cluster034430 22 Cluster034430 52\n",
      "JR970419 Cluster034433 34 Cluster034433 28 Cluster034433 23 Cluster034433 37 Cluster034433 19 Cluster034433 17 Cluster034433 56 Cluster034433 27 Cluster034433 25\n",
      "JR970420 Cluster034432 21 Cluster034432 11 Cluster034432 18 Cluster034432 14 Cluster034432 20 Cluster034432 8 Cluster034432 22 Cluster034432 13 Cluster034432 22\n",
      "JR970421 Cluster034435 17 Cluster034435 5 Cluster034435 10 Cluster034435 11 Cluster034435 11 Cluster034435 15 Cluster034435 23 Cluster034435 7 Cluster034435 16\n",
      "JR970422 Cluster034434 12 Cluster034434 11 Cluster034434 14 Cluster034434 12 Cluster034434 9 Cluster034434 12 Cluster034434 19 Cluster034434 9 Cluster034434 13\n",
      "JR970423 Cluster034437 3 Cluster034437 19 Cluster034437 30 Cluster034437 2 Cluster034437 27 Cluster034437 34 Cluster034437 2 Cluster034437 22 Cluster034437 28\n",
      "   49460  939740 8199347 joined_exp\n"
     ]
    }
   ],
   "source": [
    "!head joined_exp\n",
    "!wc joined_exp"
   ]
  },
  {
   "cell_type": "code",
   "execution_count": 77,
   "metadata": {
    "collapsed": false
   },
   "outputs": [
    {
     "name": "stdout",
     "output_type": "stream",
     "text": [
      "JR970414 Cluster034439 6 Cluster034439 9 Cluster034439 12 Cluster034439 7 Cluster034439 11 Cluster034439 17 Cluster034439 6 Cluster034439 11 Cluster034439 18 0.774633\r\n",
      "JR970415 Cluster034438 88 Cluster034438 76 Cluster034438 199 Cluster034438 72 Cluster034438 118 Cluster034438 265 Cluster034438 75 Cluster034438 135 Cluster034438 270 0.283791\r\n",
      "JR970416 Cluster007054 195 Cluster007054 207 Cluster007054 180 Cluster007054 175 Cluster007054 222 Cluster007054 175 Cluster007054 167 Cluster007054 217 Cluster007054 159 0.558113\r\n",
      "JR970417 Cluster034431 14 Cluster034431 19 Cluster034431 23 Cluster034431 12 Cluster034431 26 Cluster034431 33 Cluster034431 11 Cluster034431 19 Cluster034431 38 0.662023\r\n",
      "JR970418 Cluster034430 14 Cluster034430 27 Cluster034430 54 Cluster034430 7 Cluster034430 18 Cluster034430 74 Cluster034430 18 Cluster034430 22 Cluster034430 52 0.738617\r\n",
      "JR970419 Cluster034433 34 Cluster034433 28 Cluster034433 23 Cluster034433 37 Cluster034433 19 Cluster034433 17 Cluster034433 56 Cluster034433 27 Cluster034433 25 0.318018\r\n",
      "JR970420 Cluster034432 21 Cluster034432 11 Cluster034432 18 Cluster034432 14 Cluster034432 20 Cluster034432 8 Cluster034432 22 Cluster034432 13 Cluster034432 22 1.25641\r\n",
      "JR970421 Cluster034435 17 Cluster034435 5 Cluster034435 10 Cluster034435 11 Cluster034435 11 Cluster034435 15 Cluster034435 23 Cluster034435 7 Cluster034435 16 0.328632\r\n",
      "JR970422 Cluster034434 12 Cluster034434 11 Cluster034434 14 Cluster034434 12 Cluster034434 9 Cluster034434 12 Cluster034434 19 Cluster034434 9 Cluster034434 13 1.11106\r\n",
      "JR970423 Cluster034437 3 Cluster034437 19 Cluster034437 30 Cluster034437 2 Cluster034437 27 Cluster034437 34 Cluster034437 2 Cluster034437 22 Cluster034437 28 0.801276\r\n"
     ]
    }
   ],
   "source": [
    "# Joining with CpG O/E\n",
    "!join joined_exp ID_CpG2.sorted > Amil_exp_CpG\n",
    "!head Amil_exp_CpG"
   ]
  },
  {
   "cell_type": "code",
   "execution_count": 79,
   "metadata": {
    "collapsed": false
   },
   "outputs": [
    {
     "name": "stdout",
     "output_type": "stream",
     "text": [
      "JR970414\tCluster034439\t6\tCluster034439\t9\tCluster034439\t12\tCluster034439\t7\tCluster034439\t11\tCluster034439\t17\tCluster034439\t6\tCluster034439\t11\tCluster034439\t18\t0.774633\r\n",
      "JR970415\tCluster034438\t88\tCluster034438\t76\tCluster034438\t199\tCluster034438\t72\tCluster034438\t118\tCluster034438\t265\tCluster034438\t75\tCluster034438\t135\tCluster034438\t270\t0.283791\r\n",
      "JR970416\tCluster007054\t195\tCluster007054\t207\tCluster007054\t180\tCluster007054\t175\tCluster007054\t222\tCluster007054\t175\tCluster007054\t167\tCluster007054\t217\tCluster007054\t159\t0.558113\r\n",
      "JR970417\tCluster034431\t14\tCluster034431\t19\tCluster034431\t23\tCluster034431\t12\tCluster034431\t26\tCluster034431\t33\tCluster034431\t11\tCluster034431\t19\tCluster034431\t38\t0.662023\r\n",
      "JR970418\tCluster034430\t14\tCluster034430\t27\tCluster034430\t54\tCluster034430\t7\tCluster034430\t18\tCluster034430\t74\tCluster034430\t18\tCluster034430\t22\tCluster034430\t52\t0.738617\r\n",
      "JR970419\tCluster034433\t34\tCluster034433\t28\tCluster034433\t23\tCluster034433\t37\tCluster034433\t19\tCluster034433\t17\tCluster034433\t56\tCluster034433\t27\tCluster034433\t25\t0.318018\r\n",
      "JR970420\tCluster034432\t21\tCluster034432\t11\tCluster034432\t18\tCluster034432\t14\tCluster034432\t20\tCluster034432\t8\tCluster034432\t22\tCluster034432\t13\tCluster034432\t22\t1.25641\r\n",
      "JR970421\tCluster034435\t17\tCluster034435\t5\tCluster034435\t10\tCluster034435\t11\tCluster034435\t11\tCluster034435\t15\tCluster034435\t23\tCluster034435\t7\tCluster034435\t16\t0.328632\r\n",
      "JR970422\tCluster034434\t12\tCluster034434\t11\tCluster034434\t14\tCluster034434\t12\tCluster034434\t9\tCluster034434\t12\tCluster034434\t19\tCluster034434\t9\tCluster034434\t13\t1.11106\r\n",
      "JR970423\tCluster034437\t3\tCluster034437\t19\tCluster034437\t30\tCluster034437\t2\tCluster034437\t27\tCluster034437\t34\tCluster034437\t2\tCluster034437\t22\tCluster034437\t28\t0.801276\r\n"
     ]
    }
   ],
   "source": [
    "!tr ' ' \\\\t < Amil_exp_CpG > Amil_exp_CpG2\n",
    "!head Amil_exp_CpG2"
   ]
  },
  {
   "cell_type": "code",
   "execution_count": 35,
   "metadata": {
    "collapsed": true
   },
   "outputs": [],
   "source": [
    "# Now moving on to analysis in R. See /analyses/scripts/Expression.R"
   ]
  }
 ],
 "metadata": {
  "kernelspec": {
   "display_name": "Python 2",
   "language": "python",
   "name": "python2"
  },
  "language_info": {
   "codemirror_mode": {
    "name": "ipython",
    "version": 2
   },
   "file_extension": ".py",
   "mimetype": "text/x-python",
   "name": "python",
   "nbconvert_exporter": "python",
   "pygments_lexer": "ipython2",
   "version": "2.7.9"
  }
 },
 "nbformat": 4,
 "nbformat_minor": 0
}
