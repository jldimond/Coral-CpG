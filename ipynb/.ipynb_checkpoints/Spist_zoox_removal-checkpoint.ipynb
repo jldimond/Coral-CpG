{
 "cells": [
  {
   "cell_type": "markdown",
   "metadata": {},
   "source": [
    "# Removing predicted Symbiodinium sequences from *Stylophora pistillata* transcriptome"
   ]
  },
  {
   "cell_type": "markdown",
   "metadata": {},
   "source": [
    "#### This workflow creates a BLAST database from the *Symbiodinium* clade A and B transcriptomes from [Bayer et al (2012)](http://journals.plos.org/plosone/article?id=10.1371/journal.pone.0035269) and compares the *S. pistillata* transcriptome from [Karako-Lampert et al. (2014)](http://journals.plos.org/plosone/article?id=10.1371/journal.pone.0088615) against this database. "
   ]
  },
  {
   "cell_type": "code",
   "execution_count": 7,
   "metadata": {
    "collapsed": false,
    "scrolled": true
   },
   "outputs": [
    {
     "name": "stdout",
     "output_type": "stream",
     "text": [
      "/Users/jd/ncbi-blast-2.2.30+/db\n"
     ]
    }
   ],
   "source": [
    "#Locate your local blast databse\n",
    "cd /Users/jd/ncbi-blast-2.2.30+/db"
   ]
  },
  {
   "cell_type": "code",
   "execution_count": 8,
   "metadata": {
    "collapsed": false
   },
   "outputs": [
    {
     "name": "stdout",
     "output_type": "stream",
     "text": [
      "33496_Ahyacinthus_CoralContigs.fasta  Apalm.nsq\r\n",
      "Ahya.nhr                              Pdam.fasta\r\n",
      "Ahya.nin                              Pdam.nhr\r\n",
      "Ahya.nsq                              Pdam.nin\r\n",
      "\u001b[31mAmil_Moya.fasta\u001b[m\u001b[m*                      Pdam.nsq\r\n",
      "Amil_Moya.nhr                         \u001b[31mSpist.fasta\u001b[m\u001b[m*\r\n",
      "Amil_Moya.nin                         Spist.nhr\r\n",
      "Amil_Moya.nsq                         Spist.nin\r\n",
      "Apalm.fasta                           Spist.nsq\r\n",
      "Apalm.nhr                             SymbiodiniumAB_Bayer.fasta\r\n",
      "Apalm.nin\r\n"
     ]
    }
   ],
   "source": [
    "ls"
   ]
  },
  {
   "cell_type": "code",
   "execution_count": 9,
   "metadata": {
    "collapsed": false
   },
   "outputs": [
    {
     "name": "stdout",
     "output_type": "stream",
     "text": [
      "\n",
      "\n",
      "Building a new DB, current time: 06/08/2015 17:28:18\n",
      "New DB name:   SymbiodiniumAB\n",
      "New DB title:  SymbiodiniumAB_Bayer.fasta\n",
      "Sequence type: Nucleotide\n",
      "Keep Linkouts: T\n",
      "Keep MBits: T\n",
      "Maximum file size: 1000000000B\n",
      "Adding sequences from FASTA; added 148436 sequences in 6.22721 seconds.\n"
     ]
    }
   ],
   "source": [
    "#Make blast database out of Symbiodinium transcriptomes\n",
    "!makeblastdb -in SymbiodiniumAB_Bayer.fasta -dbtype nucl -out SymbiodiniumAB"
   ]
  },
  {
   "cell_type": "code",
   "execution_count": 1,
   "metadata": {
    "collapsed": false
   },
   "outputs": [
    {
     "name": "stdout",
     "output_type": "stream",
     "text": [
      ">Spi_contig00032  gene=isogroup00001  length=1566\r",
      "\r\n",
      "GgATCCATCGAAAGAAAAaGTCGTAGTTGACAGTGATTGCATGACTTCTGTACAACGTCCGATTAGTTTTtGCGTTTTATTGTCTtCTTTTGTACTGgAAATTCGACTCTAGCAAGTTGATTTCGTTTAGTTATGTCTGGCATTGCTTTGGGCAGATTATCAGAAGAGAGAAAAGCTTGGCGTAAAGACcATCCTTTCGGATTTGTGGCCAAACCGGTTAAAAATCCTGATGGTACTCTAAATCTGATGAACTGGGAATGTGCGATCCCaGGAAAGAAAGCGACCCCATGGGAAGGAGGCTCTTTCAAATTGAAGATGATATTTAAAGACGACTATCCATCCTCTCCGCCAAAATGTAAATTTGATCCTCCAATTTTCCATCCTAATGTATACCCATCTGGCACAGTGTGTCTGTCTCTTCTAGATGAAGAGAAAGACTGGAGACCTGCCGTCACTATAAAACAGATTTTATTGGGAATTCAAGACTTACTGAaTGATCCAAaCaTAaGaGATCCAGCTCAAGCAGAAGCATACaCCATTTACTGCCAAAACAGATCAGAATATGAGAAACGAGTCAGAAGTCAAGCTGCAAaGTTCTCAAGTTCATAGTGAATAAAGAAAAATATAAAATACTTCGCTAGCAGACGTGTAGGTTAACaGTGACTGGCAGAAATTGGATTTATTTTTtCTCcGTTtGTAAacAaCAaTGTGGAGTGGAGCAaGAATTCATCCgTAACTGCGTTAATACCACAGCTGTTGTTGTGAATTGGAaGGACAATCATGTCTGTTATTTtAGGAAGTTTCACAATGTACAGTTCAACTAACTTATACTAAAAAaCAGCTAAAGTtCACCTTAGTCTATGTtAGTTTtGTTAAAGCTTCTCTGTAgAAGGTTTGGGAGGgTtGTAATGGCTGTAACTATTCAGGgAGATCTGTCAAAGTACACTCTCTAATCCCATTGTTTCTTAAGGAATGAGTCATTATTTATTGTCTGGTGGGACGGaGGaTTTTAATCGTGTCACAATAAAATTTACCTGATCTTCCCatAagACCTGTAGTAATCTAaTGGTCCCTGTCATTGGCAGTCAaTTTTCTATAGTTTCCTGTTAACCTCTGTTAGCTACAACTGATGCCCCcTCTGTACCCCCCTAAAATTGTGTTCCCCCAAAgAAaTCCTTCCACCCACCCCATaCCTCCAGGTGATAACTAATGActGGTCCTTAATTCATTCTCTTTTTTTtGTTCTTGATTATTTGACTAAACCAAAGGCGatAAGTAAGATATACCCcAAtACGATTTGACGAACAATCTCTAGATTTTTTATTtAATCTTTAGTTGTAGATGTAATCAGAGGTGCAAAGCTTTACTGTTTtGAGTGTAAAGTGCCTGTTTCTAGGGATCCAGTGAAACCAGTAGTGTTGGGATTGTAAAGAGaTCAAAGAaTACCTCAAAGCACCAATCATAATGCTCTAATGTTGACAACTGCTAATGATTGGTtCAGCCTaTGGCTTTCATTAAAAaCGTCAAAAAaTAACGCTTCACTTCATTGCAAGTGATTCAGGTGGa\r",
      "\r\n",
      ">Spi_contig00035  gene=isogroup00001  length=1876\r",
      "\r\n",
      "AGCAGAGATCTATCAGACGACTATGTTACGACATGAAAaCCTTTTAGGCTTtGTAGCTGCTGACAaCAAaGATAATGGTGCCTGGACACAGCTTTGGCTGGTTACAGATTATTTagAAAGGGgCTCATTGTATGACTATCTTCAACTTGTTACCCTGAATGTTGAATCCATGCTGAAGTTAGCAGTGTCAATAGCCAGTGGACTTGCTCATCTCCACATtGAGATtGTAGGCACCCAAGgAAAGCCAGCTATTGCACATCGTGACTTAAAAaGTAAAAaCATTCTGGTTAAAAGAAATGGGACATGTTGCATAGGTGATTTGGGTCTTGCTGTTCGTCATAGTTCCATTACTGACACAGTTGATGTTCCTCCTGGGAACAGAgTTGGTACAAAGCGCTACATGCCACCTGAATTTTtAGATGACAATATACAGGTGCGGCACTTTGATGCATACAAGCGAGGTGATATGTATGCATTTGGTCTAGTGTTATGGGAAaTTGCAAGGACgTGTGTTTGTGGTGGATTGTGTGATGAATATCAGCTGCCCTACTATGACAGAGTTCCCTGTGATCCCAGCATTGAAGAtATGAGAAAGGTGGTCTGTGTGGAGAGGTATCGCCCTGCCTTTCCAAATAGGTGGATACAAGATCAGACACTACAGTCTATGTCCAAGTTGATGAAAGAATGTTGGTATGCCAATAGTGCTGCAAGACTTACAGCTCTCCGTGTTAAGAAGACTCTTACAACAcTGTGTCAGTTACATGATGTTGATATTATGGTTTAGAGGGaTCCATCAaGAAAACTCATGTAAAACAAGTgCAAGATGGGTGTATCACCAGGACTTATATAACAGGAGGAACCTCCTGATAATCCTTGCAGGCAATTTGTAGGTCCTGTAATGTGATACAGTACATGTCTACCATCATGCTATTGgTTTGCAGTTCAAACaGCAATGCTGTCTTTtATTTTTtGATAAAGCCATGAAGAATAAACGCGACAGAGAAAaTTTATGACTTCCTAGTTAACAAGAAGCATTCtCATTTTTTTTTTTTtttGCCTGCATAATTcTTGtATTTATATCCACAGCAACTGTCACTGACTCAAAGTgTtGgtAaTCatCAGCAACAAAGAACCCAACTTGgTTTTATGAAAGCACGTACATtCAAATGAGCAATTTAAATTGAAAACCTAAAAGGACATATCCATGTGCAACAACTGTAGAACTATGTATGAGCAGTGTCCACTATTCTCCTCCTTAGTTTATTTTAGATGTTTCGAATGAGAATACAGAATAGAGCTTCATCCTTTTGACATTGAAAGCATTTCATACTCAAGTATtGAAGGGTATGATTCTTTGTTGTGAGGAACGACACTCACCAAGTAATCCTCAAAATATTTAAGAGCATACATGGATTTTACCAAAAGATGTGGGTTGGTCATATCTACATTAAGAATTTGTTACAATAGTAAGGTAGTTGCAGTGCTGTAGCTAGCTCTTAGATGAAGCGTGTTTATTGCATTCAAATTGAAATGTTATTGTTTAAAGTGATTCTCAAATTAAAAGACATTGTATTTTTAGACAACTTTTTATCTTCGAAAACCCAGTGGTGTAAGGTAATTACATTATTTTATGTTCATAACAAATACATTTTAACTGTATTCCACCAAACAATGTGAAAGGGGCAGTTTAAGAATTAATGAAATCTTTCTTGATACCCGTTCTtcAGAACGCTTTATAGTATCTTCTTTATAGTTGTAAATAAaCCGAaTACTTTGCGTGTGAGGGGCATTGAaGAAACTGAAGGGTTTTGTTTGACTCTGTTCTAACAGAAtCAAACATAATGTAATTACTCGGAACTTCATTAAACTGGTGGCC\r",
      "\r\n",
      ">Spi_contig00040  gene=isogroup00001  length=2118\r",
      "\r\n",
      "CGGAGCCGAAAACGAAGAGCTACCGGCGGCGTTTGCACCTTTAGCCAACCCAGTGAGTACCGGAGTtcGAGAAACCGAGGGAGATTTGGGTTATTCAGATGAGGTTTGGGATGCATTAAATGGATTTGTATTTCAATACTCTACAGAAGATCAAGAAGACGAATTAGTAGAGATGCTAATTGGGTGAGCAAACAGTGTAACGGCCGGAGAGTCAAACGAGGATATAGTAGATGTGCTAGGGGAGTGGGCAGAGGGTAACATCCCcGAAGATTCAGGCGACGAATCAGAGGAGAACGCGTCTGAAGATTCAAACGACGAATaGGCGGAGGCCCCcATTTATTCAATATGTAAGAGATCGGGGGGGGgTTGTGGGACCTCGCCCCGGGTATTTGAACGATATGGTCTCTAATTATTGAATTCGATGGGGGTTTTCAACCAACCATAAAGATATTGGTAGTTTGTATTTAATTTTtGGTGGAGGTGCTGGTTTAATTGGAACGGCGTTTAGTATGCTTATACGACTAGAGCTTTCTGCGCCCGGAGCAATGTTAGGAGATGATCATCTTTATAATGTAATTGTTACAGCGCATGCTTTTATTATGATTTTTTTTtGGTtATGCCGGTTATGATTGGGGGgTTTGGTAATTGATTGGTCCCATTATATATTGGGGCGCCGGATATGGCGTTTCCCCGACTAAACAATATTAGTTTTTGACTTTTGCCCCCTGCGCTTTTTTtATTATTAGGCTCTGCTTTTGTTGAACAAGGGGCGGGGACGGGGTGAACAGTTTATCCTCCTCTTGCTAGTATTCAAGCACACTCCGGATGTTCGGTTGATATGGTTATTTTTAGTCTTCATTTAGCTGGGGTTTCTTCTATTTTAGGTGCTATAAACTTTATTACTACAATTTTTAATATGCGAGCCCCGGGTGTGTCTTTTAATAAACTACCTTTATTTGTTTGATCTATTTTAATAACAGCTTTTTTATTACTTTTATCTTTACCTGTTTTAGCTGGTGCTATTACTATGTTGTTAACAGATAGAAACTTTAATACGACTTTTTTCGATCCAGCGGGTGGCGGGGACCCAATATTATTTCAGCATCTATTTTGATTCTTTGGGCATCCAGAAGTTTATATTTTAATTTTGCCTGGTTTTGGTATGATTTCTCAAATAATCCCGACTTTTGTTGCTAAAAAACAAGTTTTCGGGTACTTAGGAATGGTTTATGCCATGCTTTCTATTGGGCTTCTGGGATTTATTGTTTGAGCTCATCATATGTTTACTGTTGGGATGGATGTAGATACAAGAGCATATTTTACTGCTGCTACTATGATTATTGCTGTGCCAACTGGGATTAAAGTTTTTAGTTGGTTGGCAACTATTTATGGAGGTGTTCTTAGGTTAGAGACTCCAATGCTTTGAGCTATGGGGTTTGTTTTTTtATTTACAGTTGGTGGTTTAACTGGGGTTGTATTAGCAAATAGTTCTCTTGATATTGTTCTACATGATACATATTATGTAGTTGCGCATTTTCATTATGTTCTTTCTATGGGGGCTGTTTTTGCTATCTTTGGGGGATTTTACTATTGAATTGGAAAAATAAGTGGTTATTGTTATAATGAATTTTTTGGGAAAGTTCATTTTTGATTAATGTTTATCGGGGTTAATTTAACTTTTTtCCCTCAACATTTTTtAGGTTTAGCAGGATTTCCAAGACGATACTCGGATTATGCAGATGCTTTTTTGGGTTGAAATTTAATAAGTTCTTTAGGGTCTATTATTTCTATTTTGAGTGTTGTTTGGTTTTTATATATTGTTTTTGATCTTTTTGTTACAGAAGAAAAATTTTTGGGTTGAAAAGAAGGATTTTCTTTAGAATGAATTCATTCTTCTCCCCCCTTATTTCATACTTATGAGGAGTTGCCTTTTGTACAAAAATAAATAATTTTTAGAATAGTGCCGGGTTTATATACCGGTTTTGTAAGAAGACAAAGGGTTAGTCTTTGGGTTCATGCCCCAAATAAGTGAGTTCGAATCTCTCTCTTACACAAAATAAAAaTTATAAAAAAAaaGAGGATAACTAAGATAAACTAAAATTAGACGATTTTTTtCGA\r",
      "\r\n",
      ">Spi_contig00044  gene=isogroup00001  length=1596\r",
      "\r\n",
      "GTTTATTAGTGCGTGTACTACTtGATCAACActACACCCTTGTTTATTCGTaGATATTAATTtATCAACAtACTTCtCcACcATAAaTTACCTTTAATATCTAGTGTTCATGTCTACATCAGGTAAGGGTCTCCAGACACTTCAaCCAAAAGCCGAAATTGACAATCGCTAAACACGATCGTACGTTTTACTGAAACGGGCATCTCGTTtCTTCATGAAAATGGTGCAATATTTGACAACTCATTGATAAAAaCCCaGATTAAAATGCTCagCAcAGACTCGcgAAAAAATGCCAATGCCTTaCGCTTAAtttgtCTAATCTAATATAATTTTTttGATTTtGCACTAACCACGCATTACAACTACATTTACTAAGGTTCTTGATAgTAATGAATTTATTTTtATTTATTTAAAAGTTCATATTTCATAGGAGATGTAAAAaTATTGACGGGCCCCTGTCTtGATAAtAAGAAaCTAGAATTTCCTCTTCTTGTTTTCAGGTAACAGACTTtGAAaTATAaTTTAAGTTTGGCCCTTTGctACGGAACATAAATATCACCTCACTCTTCTCCCAAATTGTTTtCAAATACGCAATACACAAACCCTTTCGCCAAGCCTTGTtcTTCCTTGGTTTTTAAGAGCCATTTTGGTATTTTCACACCGTAATATATTATTCATTCATTAGCCATTAATTAAATACGGCAAACTAGAACATTTtCTCTTTGGGATCGTTTAGATTAATACGAAGCCACAGAAaTACTTGTGTtgGTTCTTCCACACAaTATTAAAATCATTTTTCTCCTGACAAAACAAAgAGAAACTTGAcGgAGGTGAAAACCGTAGATCTTAAAGGGACATGATGTTGGTGATGACGATACTGACAAACTTGAACCCAACCgTTTGAAAATCaTTCCCTACACTTCACAAGTAAAGTTACAaCGATTGtAAGAAATTGAGgAAATTGTTTTGGTACTAATCAGAACAAAAaTCGAAaGAGAATTTCATTCATTTCTTTCAGCTTGAAAATCTTAATCATTATTGAatCATTCTTAAAAATTaTATCAAAATTCATTCATGTTtGGGtCtGTGCTCTGCATGACTAATAGCACTATCGCTTCCTTTATCGTGATTGACCCGGAAGCCGCCGATAATCGAAGGCCAAAATTGCCATACCGTCCACGCAGTCCAAGAGCCGAAGAAAAGAATCCAGAATGCTGTCACGTGAGCAGGAAAGGGTATGCTGATGGTTTCCCAACCGAATTTAACGCAGATTAGCACTTCTGTTGAGACAATGGCGGCGACAACCCAGGCCTGTTGTCCAAACCGCTTGCAGGTAGGGTCGTCCATGTATCTAAATGTTTCATTCAGTgCcACAGCTCCCATCCCAAGGTaCAGCGCCATACgAACTTGCATGATGAAATGAGGTGGAGGAATCCACAAAATAAACTTCATGTAAAACAGGTTTAACtcGGCCAGGAGGAACATAGCAGCAATTCCACAGACTGCCAGCCATCTAGTTAGACTTGTGGTCGCTTTCCAGTCATAAGACGTCCACGAATAAGGAGTGAATTGAGCAGCAACTCTTTTGAACTTGCc\r",
      "\r\n",
      ">Spi_contig00046  gene=isogroup00001  length=720\r",
      "\r\n",
      "cagactcagcagttctctgacgatggtaaccaacacttatttctggagtagcacatacagtgacagttcttctgattatgctgtgtgtcttggtttatgttggagcttttgaaaaaactaaggaaaacagTGAatgCAATACAAagAGGggACTtGTAGCcTGCATtGCAGtATTTTTGTTGTTTGGGGgTCACTCAGATAAGAGATGGTCCGTTCAAaCGACCTCACCCAGCTTTCTGGCGTATCATtCTTTGCCTAAGTGTTGTTTATGAaTTGGCTCTAATTTTtCTTTTATTCCAGACAACTCATGATGCCAGGCAGTTGCTAAaGTATCTTGATGAAGATTTAGGGAAaCCATTGCCAgaGCAATCTTATGGAGAGGACTGTAGGTTATACACACCAGGACACCCCAaGGGaTCaTTCCaTaCCTTtCTTGaGAAATGTGATGTCTTTATACCAGCTCATTTTTTCGGATGGTGGGCAAAGgcACTCATCCTTCGTGACTACTGGCTATTGACTGTCACTAGTGTTCTTTTTGAAGTCTTGGAATATTCCTTAGAGCATCAGTtaCCAAACTTCAGTGAATGCtGGtGGGATCATTGGATCATGGATGTTCTCATTTGTAATGGTTTTGGGGCATATCTTGGCATGAAGACTTGTGATTATCTTGGAAATAAGCCATATCACTGGAGAGGTTTATGGAACATTCCCACCTACAGT\r",
      "\r\n"
     ]
    }
   ],
   "source": [
    "!head ../../data/Spist/Spist.fasta"
   ]
  },
  {
   "cell_type": "markdown",
   "metadata": {},
   "source": [
    "# BLAST query"
   ]
  },
  {
   "cell_type": "code",
   "execution_count": 2,
   "metadata": {
    "collapsed": true
   },
   "outputs": [],
   "source": [
    "!blastn \\\n",
    "-query /Users/jd/Documents/Projects/Coral-CpG-ratio-MS/data/Spist/Spist.fasta \\\n",
    "-db /Users/jd/ncbi-blast-2.2.30\\+/db/SymbiodiniumAB \\\n",
    "-outfmt 6 \\\n",
    "-evalue 1E-05 \\\n",
    "-out ../Spist/Spist_zoox_matches"
   ]
  },
  {
   "cell_type": "code",
   "execution_count": 3,
   "metadata": {
    "collapsed": false
   },
   "outputs": [
    {
     "name": "stdout",
     "output_type": "stream",
     "text": [
      "/Users/jd/Documents/Projects/Coral-CpG-ratio-MS/analyses/Spist\n"
     ]
    }
   ],
   "source": [
    "cd ../../analyses/Spist"
   ]
  },
  {
   "cell_type": "code",
   "execution_count": 4,
   "metadata": {
    "collapsed": false
   },
   "outputs": [
    {
     "name": "stdout",
     "output_type": "stream",
     "text": [
      "Spi_isotig00175\tkb8_rep_c43333\t97.54\t407\t3\t7\t248\t649\t548\t144\t0.0\t  689\r\n",
      "Spi_isotig00175\tmf105_rep_c14211\t97.54\t406\t3\t7\t248\t648\t145\t548\t0.0\t  688\r\n",
      "Spi_isotig00175\tkb8_rep_c24871\t97.05\t407\t5\t7\t248\t649\t408\t4\t0.0\t  678\r\n",
      "Spi_isotig00175\tmf105_rep_c7972\t96.57\t408\t5\t9\t248\t649\t241\t645\t0.0\t  667\r\n",
      "Spi_isotig00175\tkb8_rep_c52958\t91.97\t411\t26\t7\t248\t655\t802\t1208\t2e-161\t  569\r\n",
      "Spi_isotig00175\tkb8_rep_c47844\t91.95\t410\t27\t6\t248\t655\t410\t5\t2e-161\t  569\r\n",
      "Spi_isotig00175\tkb8_rep_c51649\t90.98\t410\t29\t8\t248\t653\t414\t9\t9e-155\t  547\r\n",
      "Spi_isotig00175\tkb8_rep_c53044\t91.00\t411\t28\t8\t248\t655\t405\t1\t3e-154\t  545\r\n",
      "Spi_isotig00175\tmf105_rep_c18178\t91.13\t406\t26\t9\t248\t650\t113\t511\t4e-153\t  542\r\n",
      "Spi_isotig00175\tkb8_rep_c53549\t90.52\t401\t27\t10\t248\t644\t411\t18\t2e-146\t  520\r\n"
     ]
    }
   ],
   "source": [
    "!head Spist_zoox_matches"
   ]
  },
  {
   "cell_type": "code",
   "execution_count": 5,
   "metadata": {
    "collapsed": false
   },
   "outputs": [
    {
     "name": "stdout",
     "output_type": "stream",
     "text": [
      "    3320   39840  234784 Spist_zoox_matches\r\n"
     ]
    }
   ],
   "source": [
    "!wc Spist_zoox_matches"
   ]
  },
  {
   "cell_type": "code",
   "execution_count": 6,
   "metadata": {
    "collapsed": false
   },
   "outputs": [
    {
     "name": "stdout",
     "output_type": "stream",
     "text": [
      "ID_CpG                Spist_cpg_GOslim.tab  Spist_zoox_matches\r\n"
     ]
    }
   ],
   "source": [
    "ls"
   ]
  },
  {
   "cell_type": "code",
   "execution_count": 7,
   "metadata": {
    "collapsed": false
   },
   "outputs": [
    {
     "name": "stdout",
     "output_type": "stream",
     "text": [
      "Spi_isotig00175 \t\n",
      "Spi_isotig00175 \t\n",
      "Spi_isotig00175 \t\n",
      "Spi_isotig00175 \t\n",
      "Spi_isotig00175 \t\n",
      "Spi_isotig00175 \t\n",
      "Spi_isotig00175 \t\n",
      "Spi_isotig00175 \t\n",
      "Spi_isotig00175 \t\n",
      "Spi_isotig00175 \t\n",
      "    3320    3320   59760 Spist_zoox_matches_IDs\n"
     ]
    }
   ],
   "source": [
    "#Printing only the contig ID from the output file\n",
    "!awk '{print $1, \"\\t\"}' Spist_zoox_matches > Spist_zoox_matches_IDs\n",
    "!head Spist_zoox_matches_IDs\n",
    "!wc Spist_zoox_matches_IDs"
   ]
  },
  {
   "cell_type": "code",
   "execution_count": 8,
   "metadata": {
    "collapsed": false
   },
   "outputs": [
    {
     "name": "stdout",
     "output_type": "stream",
     "text": [
      "Spi_isotig00175 \t\n",
      "Spi_isotig00457 \t\n",
      "Spi_isotig00458 \t\n",
      "Spi_isotig00459 \t\n",
      "Spi_isotig00460 \t\n",
      "Spi_isotig00461 \t\n",
      "Spi_isotig00462 \t\n",
      "Spi_isotig00492 \t\n",
      "Spi_isotig00493 \t\n",
      "Spi_isotig00494 \t\n",
      "     138     138    2484 Spist_zoox_matches_IDs_uniq\n"
     ]
    }
   ],
   "source": [
    "#Obtaining only unique seq IDs\n",
    "!uniq Spist_zoox_matches_IDs > Spist_zoox_matches_IDs_uniq\n",
    "!head Spist_zoox_matches_IDs_uniq\n",
    "!wc Spist_zoox_matches_IDs_uniq"
   ]
  },
  {
   "cell_type": "code",
   "execution_count": 9,
   "metadata": {
    "collapsed": false
   },
   "outputs": [
    {
     "name": "stdout",
     "output_type": "stream",
     "text": [
      "Spi_isotig00175 \t\r\n",
      "Spi_isotig00457 \t\r\n",
      "Spi_isotig00458 \t\r\n",
      "Spi_isotig00459 \t\r\n",
      "Spi_isotig00460 \t\r\n",
      "Spi_isotig00461 \t\r\n",
      "Spi_isotig00462 \t\r\n",
      "Spi_isotig00492 \t\r\n",
      "Spi_isotig00493 \t\r\n",
      "Spi_isotig00494 \t\r\n"
     ]
    }
   ],
   "source": [
    "#Sorting file in order to join\n",
    "!sort Spist_zoox_matches_IDs_uniq > Spist_zoox_matches_IDs.sorted\n",
    "!head Spist_zoox_matches_IDs.sorted"
   ]
  },
  {
   "cell_type": "code",
   "execution_count": 10,
   "metadata": {
    "collapsed": false
   },
   "outputs": [
    {
     "name": "stdout",
     "output_type": "stream",
     "text": [
      "Spi_contig00032 \t 0.484363\n",
      "Spi_contig00035 \t 0.335179\n",
      "Spi_contig00040 \t 0.854266\n",
      "Spi_contig00044 \t 0.867137\n",
      "Spi_contig00046 \t 0.196592\n",
      "Spi_contig00075 \t 0.871739\n",
      "Spi_contig00091 \t 0.937628\n",
      "Spi_contig00094 \t 0.131292\n",
      "Spi_contig00095 \t 0.684932\n",
      "Spi_contig00098 \t 0.584255\n",
      "   15052   30104  402540 ID_CpG.sorted\n"
     ]
    }
   ],
   "source": [
    "#Now using CpG ratio file obtained from workflow in Pdam_CpG_ratio.ipynb\n",
    "!head ID_CpG.sorted\n",
    "!wc ID_CpG.sorted"
   ]
  },
  {
   "cell_type": "code",
   "execution_count": 11,
   "metadata": {
    "collapsed": false
   },
   "outputs": [
    {
     "name": "stdout",
     "output_type": "stream",
     "text": [
      "Spi_contig00032 0.484363\n",
      "Spi_contig00035 0.335179\n",
      "Spi_contig00040 0.854266\n",
      "Spi_contig00044 0.867137\n",
      "Spi_contig00046 0.196592\n",
      "Spi_contig00075 0.871739\n",
      "Spi_contig00091 0.937628\n",
      "Spi_contig00094 0.131292\n",
      "Spi_contig00095 0.684932\n",
      "Spi_contig00098 0.584255\n",
      "   14914   29828  369006 ID_CpG.sorted2\n"
     ]
    }
   ],
   "source": [
    "!join -v 1 ID_CpG.sorted Spist_zoox_matches_IDs.sorted > ID_CpG.sorted2\n",
    "!head ID_CpG.sorted2\n",
    "!wc ID_CpG.sorted2"
   ]
  },
  {
   "cell_type": "code",
   "execution_count": 1,
   "metadata": {
    "collapsed": true
   },
   "outputs": [],
   "source": [
    "#Process removed 138 sequences with close matches to Symbiodinium transcriptome"
   ]
  },
  {
   "cell_type": "code",
   "execution_count": null,
   "metadata": {
    "collapsed": true
   },
   "outputs": [],
   "source": []
  }
 ],
 "metadata": {
  "kernelspec": {
   "display_name": "Python 2",
   "language": "python",
   "name": "python2"
  },
  "language_info": {
   "codemirror_mode": {
    "name": "ipython",
    "version": 2
   },
   "file_extension": ".py",
   "mimetype": "text/x-python",
   "name": "python",
   "nbconvert_exporter": "python",
   "pygments_lexer": "ipython2",
   "version": "2.7.9"
  }
 },
 "nbformat": 4,
 "nbformat_minor": 0
}
